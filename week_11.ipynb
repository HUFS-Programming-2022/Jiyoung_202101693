{
 "cells": [
  {
   "cell_type": "markdown",
   "id": "2bb69612-5f46-470f-bd48-fb66837e9a07",
   "metadata": {},
   "source": [
    "## week 11"
   ]
  },
  {
   "cell_type": "markdown",
   "id": "5578689e-2401-41ff-8567-7573828a7ae5",
   "metadata": {},
   "source": [
    "### 객체 II\n",
    "- 상속 (inheritance)\n",
    "- 재사용 할 때 A vs. B\n",
    "    - \"A의 대부분을 쓰고 나머지를 추가, 변경하고 싶다\"\n",
    "    - 부모의 모든 속성을 그대로 가져와서 쓰겠다.\n",
    "- 반복되는 부분을 가져오겠다. 물려짇겠다.\n",
    "- A <- B\n",
    "    - \"부모, 슈퍼, 베이스\"\n",
    "    - \"자식, 서브, derived\"\n",
    "- 자식 클래스는 부모 클래스를 구체화한다\n",
    "- is-a 관계: Car is-a Vehicle (포함된다)"
   ]
  },
  {
   "cell_type": "code",
   "execution_count": 1,
   "id": "79efc709-3d15-4f68-9b88-9ec53fa0d2a8",
   "metadata": {},
   "outputs": [],
   "source": [
    "class Vehicle: #parents, super\n",
    "    def __init__(self, speed):\n",
    "        self.speed = speed\n",
    "    def go(self):\n",
    "        print(f'{self.speed}의 속도로 달린다.')\n",
    "        \n",
    "# child\n",
    "class Car(Vehicle): #chile, sub\n",
    "    pass"
   ]
  },
  {
   "cell_type": "code",
   "execution_count": 2,
   "id": "e190d64f-1b0f-462a-9778-779708ddd81f",
   "metadata": {},
   "outputs": [],
   "source": [
    "car = Car('20km/s')"
   ]
  },
  {
   "cell_type": "code",
   "execution_count": 3,
   "id": "eedbe93b-610f-433a-ba67-00a0f6bbc23a",
   "metadata": {},
   "outputs": [
    {
     "name": "stdout",
     "output_type": "stream",
     "text": [
      "20km/s의 속도로 달린다.\n"
     ]
    }
   ],
   "source": [
    "car.go() # 부모 상속"
   ]
  },
  {
   "cell_type": "markdown",
   "id": "a7f6cea5-1721-49bd-9ef6-a7e82e79c8bd",
   "metadata": {},
   "source": [
    "### 변수 추가, 변경"
   ]
  },
  {
   "cell_type": "code",
   "execution_count": 5,
   "id": "7f9ca378-960d-404d-8fd0-cc2ae280e54f",
   "metadata": {},
   "outputs": [],
   "source": [
    "class Car(Vehicle): #chile, sub\n",
    "    def __init__(self, speed, brand):\n",
    "        # speed == 부모에게서 가져옴\n",
    "        super().__init__(speed)\n",
    "        # brand == 자식\n",
    "        self.brand = brand # 자식의 고유한 특성이 됨"
   ]
  },
  {
   "cell_type": "code",
   "execution_count": 6,
   "id": "d70768f3-5d43-4912-92b3-a33301da1a6a",
   "metadata": {},
   "outputs": [
    {
     "data": {
      "text/plain": [
       "'kia'"
      ]
     },
     "execution_count": 6,
     "metadata": {},
     "output_type": "execute_result"
    }
   ],
   "source": [
    "car2 = Car('20km/s', 'kia')\n",
    "car2.brand"
   ]
  },
  {
   "cell_type": "code",
   "execution_count": 7,
   "id": "9b076443-c2de-4319-b4e0-8e18501612f1",
   "metadata": {},
   "outputs": [
    {
     "ename": "AttributeError",
     "evalue": "'Vehicle' object has no attribute 'brand'",
     "output_type": "error",
     "traceback": [
      "\u001b[1;31m---------------------------------------------------------------------------\u001b[0m",
      "\u001b[1;31mAttributeError\u001b[0m                            Traceback (most recent call last)",
      "\u001b[1;32mC:\\Users\\Public\\Documents\\ESTsoft\\CreatorTemp/ipykernel_10100/3670088469.py\u001b[0m in \u001b[0;36m<module>\u001b[1;34m\u001b[0m\n\u001b[0;32m      1\u001b[0m \u001b[0mv\u001b[0m \u001b[1;33m=\u001b[0m \u001b[0mVehicle\u001b[0m\u001b[1;33m(\u001b[0m\u001b[1;34m'20km/s'\u001b[0m\u001b[1;33m)\u001b[0m\u001b[1;33m\u001b[0m\u001b[1;33m\u001b[0m\u001b[0m\n\u001b[1;32m----> 2\u001b[1;33m \u001b[0mv\u001b[0m\u001b[1;33m.\u001b[0m\u001b[0mbrand\u001b[0m\u001b[1;33m\u001b[0m\u001b[1;33m\u001b[0m\u001b[0m\n\u001b[0m",
      "\u001b[1;31mAttributeError\u001b[0m: 'Vehicle' object has no attribute 'brand'"
     ]
    }
   ],
   "source": [
    "v = Vehicle('20km/s')\n",
    "v.brand # 부모는 brand를 갖고 있지 않음"
   ]
  },
  {
   "cell_type": "markdown",
   "id": "db43e320-ffe7-4df5-b120-012c4930a48e",
   "metadata": {},
   "source": [
    "### 메소드 추가, 변경\n",
    "- override 하면 부모의 매서드가 잊힌다."
   ]
  },
  {
   "cell_type": "code",
   "execution_count": 18,
   "id": "18939a89-9e76-4362-bf8c-8c714fc01de5",
   "metadata": {},
   "outputs": [],
   "source": [
    "class Car(Vehicle): #chile, sub\n",
    "    def __init__(self, speed, brand):\n",
    "        super().__init__(speed) #Vehicle().speed 에 접근\n",
    "        self.brand = brand\n",
    "        \n",
    "    #오버라이드(override) : 재정의    \n",
    "    def go(self):\n",
    "        # 부모의 go도 함께 가져가고 싶다면?\n",
    "        super().go()\n",
    "        print(f'차종 {self.brand} 속도 {self.speed}')\n",
    "        \n",
    "    # 매소드 추가\n",
    "    def stop(self):\n",
    "        pass"
   ]
  },
  {
   "cell_type": "code",
   "execution_count": 19,
   "id": "eedfa4eb-d36f-4e2d-aea4-caf61cad9cf5",
   "metadata": {},
   "outputs": [
    {
     "name": "stdout",
     "output_type": "stream",
     "text": [
      "20km/h의 속도로 달린다.\n",
      "차종 kia 속도 20km/h\n"
     ]
    }
   ],
   "source": [
    "c1 = Car('20km/h', 'kia')\n",
    "c1.go() # 부모, 자식 것을 함께 탐"
   ]
  },
  {
   "cell_type": "markdown",
   "id": "dc0b7373-e7b7-465e-b138-c5e1692b92e7",
   "metadata": {},
   "source": [
    "#### 실습"
   ]
  },
  {
   "cell_type": "code",
   "execution_count": 35,
   "id": "01798416-f7c0-48a2-a142-a9b09b6a2eaa",
   "metadata": {},
   "outputs": [
    {
     "data": {
      "text/plain": [
       "'Dr.pablo'"
      ]
     },
     "execution_count": 35,
     "metadata": {},
     "output_type": "execute_result"
    }
   ],
   "source": [
    "class Person:\n",
    "    def __init__(self, name):\n",
    "        self.name = name\n",
    "        \n",
    "class Doctor(Person): # Dr.pablo\n",
    "    def __init__(self, name):\n",
    "        super().__init__(\"Dr.\" + name)\n",
    "\n",
    "class Male(Person): # Mr.pablo\n",
    "    def __init__(self, name):\n",
    "        super().__init__(name)\n",
    "    def print_name(self):\n",
    "        print(f'Mr.{self.name}')\n",
    "    \n",
    "class Female(Person): # Mrs.pablo\n",
    "    def __init__(self, name):\n",
    "        super().__init__(name)\n",
    "    def print_name(self):\n",
    "        print(f'Mrs.{self.name}')\n",
    "        \n",
    "c = Doctor('pablo')\n",
    "c.name"
   ]
  },
  {
   "cell_type": "code",
   "execution_count": 30,
   "id": "4e588d11-f04c-4bfd-b9b5-aaa14015ea93",
   "metadata": {},
   "outputs": [],
   "source": [
    "# 정답\n",
    "class Doctor(Person): # Dr.pablo\n",
    "    def __init__(self, name):\n",
    "        super.__init__(\"Dr.\" + name)"
   ]
  },
  {
   "cell_type": "markdown",
   "id": "02cc4202-2cc9-41a6-a979-f005bbb9554d",
   "metadata": {},
   "source": [
    "### 다중상속\n",
    "- method resolution order (MRO)\n",
    "- Anima <- Hourse\n",
    "        <- Donkey\n",
    "                <- Mule (Donkey > Horse)\n",
    "                <- Hinny (Horse > Donkey)"
   ]
  },
  {
   "cell_type": "code",
   "execution_count": 2,
   "id": "46a6e6bc-ac3b-4a23-97b8-065aaa94b59b",
   "metadata": {},
   "outputs": [],
   "source": [
    "class Animal:\n",
    "    def says(self):\n",
    "        return \"동물 울음소리\"\n",
    "    \n",
    "# 자식\n",
    "class Horse(Animal):\n",
    "    #overriding\n",
    "    #Animal 상기 > super\n",
    "    def says(self):\n",
    "        return \"히히힝\"\n",
    "    \n",
    "class Donkey(Animal):\n",
    "    def says(self):\n",
    "        return \"히야호\"\n",
    "    \n",
    "# 손주\n",
    "# 상속 할 때, 가까운 것 부터 쓰기\n",
    "class Mule(Donkey, Horse):\n",
    "    pass\n",
    "\n",
    "class Hinny(Horse, Donkey):\n",
    "    pass"
   ]
  },
  {
   "cell_type": "code",
   "execution_count": 3,
   "id": "fd77da33-b659-49e9-9e97-aa46a752b289",
   "metadata": {},
   "outputs": [
    {
     "data": {
      "text/plain": [
       "'히야호'"
      ]
     },
     "execution_count": 3,
     "metadata": {},
     "output_type": "execute_result"
    }
   ],
   "source": [
    "m = Mule()\n",
    "m.says()"
   ]
  },
  {
   "cell_type": "code",
   "execution_count": 4,
   "id": "342aa358-8a23-4ccf-816f-4484bb1d7879",
   "metadata": {},
   "outputs": [
    {
     "data": {
      "text/plain": [
       "'히히힝'"
      ]
     },
     "execution_count": 4,
     "metadata": {},
     "output_type": "execute_result"
    }
   ],
   "source": [
    "Hinny().says()"
   ]
  },
  {
   "cell_type": "code",
   "execution_count": 5,
   "id": "b1c75159-06be-4c68-9f96-06078365dbd7",
   "metadata": {},
   "outputs": [
    {
     "data": {
      "text/plain": [
       "[__main__.Mule, __main__.Donkey, __main__.Horse, __main__.Animal, object]"
      ]
     },
     "execution_count": 5,
     "metadata": {},
     "output_type": "execute_result"
    }
   ],
   "source": [
    "Mule.mro()"
   ]
  },
  {
   "cell_type": "markdown",
   "id": "731760f4-d64f-40fc-ad1c-391955ed4764",
   "metadata": {},
   "source": [
    "### 다형성\n",
    "- 형태가 다른데 기능이 같다.\n",
    "- 객체가 다른데도 같은 메소드를 가지고 있으면 같은 기능을 수행할 수 있다."
   ]
  },
  {
   "cell_type": "code",
   "execution_count": 7,
   "id": "407795b8-43fc-4345-b197-353086eddd4d",
   "metadata": {},
   "outputs": [
    {
     "name": "stdout",
     "output_type": "stream",
     "text": [
      "히야호\n",
      "히야호\n",
      "동물 울음소리\n"
     ]
    }
   ],
   "source": [
    "for animal in [Mule(), Donkey(), Animal()]:\n",
    "    print(animal.says())"
   ]
  },
  {
   "cell_type": "markdown",
   "id": "171697ed-8ae3-4b8f-b623-f1b9caea77d0",
   "metadata": {},
   "source": [
    "### 매서드 타입\n",
    "- 인스턴스 매서드\n",
    "    - self가 1번 인자\n",
    "    - 객체 생성 -> 사용 가능\n",
    "- 클래스 매서드 \n",
    "    - 객체 생성하지 않아도 사용 가능\n",
    "    - 클래스에 접근하는 매서드\n",
    "    - @classmethod\n",
    "    - 예약어: cls\n",
    "- 정적 매서드\n",
    "- 추상 매서드"
   ]
  },
  {
   "cell_type": "code",
   "execution_count": 8,
   "id": "f281eac0-4a7a-4401-a2b3-728a16fe6764",
   "metadata": {},
   "outputs": [
    {
     "data": {
      "text/plain": [
       "'히야호'"
      ]
     },
     "execution_count": 8,
     "metadata": {},
     "output_type": "execute_result"
    }
   ],
   "source": [
    "a = Mule() # 객체생성\n",
    "a.says()"
   ]
  },
  {
   "cell_type": "code",
   "execution_count": null,
   "id": "6eb6913b-446f-473a-8839-f908b7dd4c97",
   "metadata": {},
   "outputs": [],
   "source": [
    "Mule.says() # x | self 가 없어서"
   ]
  },
  {
   "cell_type": "code",
   "execution_count": 15,
   "id": "7c4c6363-faaa-44e2-81ac-135d30c539e6",
   "metadata": {},
   "outputs": [],
   "source": [
    "class A:\n",
    "    cnt = 0\n",
    "    \n",
    "    @classmethod\n",
    "    def move(self):\n",
    "        return A.cnt\n",
    "        # cnt, self.cnt > x"
   ]
  },
  {
   "cell_type": "code",
   "execution_count": 12,
   "id": "a8fad69a-79ac-4553-97ba-ec9041627052",
   "metadata": {},
   "outputs": [
    {
     "ename": "NameError",
     "evalue": "name 'cnt' is not defined",
     "output_type": "error",
     "traceback": [
      "\u001b[1;31m---------------------------------------------------------------------------\u001b[0m",
      "\u001b[1;31mNameError\u001b[0m                                 Traceback (most recent call last)",
      "\u001b[1;32mC:\\Users\\Public\\Documents\\ESTsoft\\CreatorTemp/ipykernel_29728/3481113219.py\u001b[0m in \u001b[0;36m<module>\u001b[1;34m\u001b[0m\n\u001b[1;32m----> 1\u001b[1;33m \u001b[0mA\u001b[0m\u001b[1;33m(\u001b[0m\u001b[1;33m)\u001b[0m\u001b[1;33m.\u001b[0m\u001b[0mmove\u001b[0m\u001b[1;33m(\u001b[0m\u001b[1;33m)\u001b[0m\u001b[1;33m\u001b[0m\u001b[1;33m\u001b[0m\u001b[0m\n\u001b[0m",
      "\u001b[1;32mC:\\Users\\Public\\Documents\\ESTsoft\\CreatorTemp/ipykernel_29728/235708357.py\u001b[0m in \u001b[0;36mmove\u001b[1;34m(self)\u001b[0m\n\u001b[0;32m      3\u001b[0m \u001b[1;33m\u001b[0m\u001b[0m\n\u001b[0;32m      4\u001b[0m     \u001b[1;32mdef\u001b[0m \u001b[0mmove\u001b[0m\u001b[1;33m(\u001b[0m\u001b[0mself\u001b[0m\u001b[1;33m)\u001b[0m\u001b[1;33m:\u001b[0m\u001b[1;33m\u001b[0m\u001b[1;33m\u001b[0m\u001b[0m\n\u001b[1;32m----> 5\u001b[1;33m         \u001b[1;32mreturn\u001b[0m \u001b[0mcnt\u001b[0m \u001b[1;31m# self.cnt > x\u001b[0m\u001b[1;33m\u001b[0m\u001b[1;33m\u001b[0m\u001b[0m\n\u001b[0m",
      "\u001b[1;31mNameError\u001b[0m: name 'cnt' is not defined"
     ]
    }
   ],
   "source": [
    "A().move()"
   ]
  },
  {
   "cell_type": "code",
   "execution_count": 16,
   "id": "e76b2ffd-6eb7-4830-b314-fe0dc520d582",
   "metadata": {},
   "outputs": [
    {
     "data": {
      "text/plain": [
       "0"
      ]
     },
     "execution_count": 16,
     "metadata": {},
     "output_type": "execute_result"
    }
   ],
   "source": [
    "A.move()"
   ]
  },
  {
   "cell_type": "code",
   "execution_count": 17,
   "id": "bc730882-48e2-4c1f-93a7-5b7f6682a2a4",
   "metadata": {},
   "outputs": [
    {
     "data": {
      "text/plain": [
       "0"
      ]
     },
     "execution_count": 17,
     "metadata": {},
     "output_type": "execute_result"
    }
   ],
   "source": [
    "A().move()"
   ]
  },
  {
   "cell_type": "code",
   "execution_count": 23,
   "id": "b5a11124-9f6c-490f-9330-29e64ae5c62f",
   "metadata": {},
   "outputs": [],
   "source": [
    "class Person:\n",
    "    def __init__(self, name, age): # p ->\n",
    "        self.name = name\n",
    "        self.age = age\n",
    "        \n",
    "    @classmethod\n",
    "    def tuple_object(cls, args): # cls -> Person\n",
    "        return cls(args[0], args[1]) # Person()\n",
    "    \n",
    "name = 'kim'\n",
    "age = 24\n",
    "P = Person(name, age)\n",
    "\n",
    "info = name, age\n",
    "p = Person.tuple_object(info) # p 객체 생성하게 "
   ]
  },
  {
   "cell_type": "code",
   "execution_count": 25,
   "id": "075c191d-04e5-4722-98b2-05c9ebf6037f",
   "metadata": {},
   "outputs": [
    {
     "data": {
      "text/plain": [
       "'kim'"
      ]
     },
     "execution_count": 25,
     "metadata": {},
     "output_type": "execute_result"
    }
   ],
   "source": [
    "p.name"
   ]
  },
  {
   "cell_type": "code",
   "execution_count": 29,
   "id": "20ae49a7-9038-4898-9f59-2dadbb3bcc0f",
   "metadata": {},
   "outputs": [
    {
     "data": {
      "text/plain": [
       "4"
      ]
     },
     "execution_count": 29,
     "metadata": {},
     "output_type": "execute_result"
    }
   ],
   "source": [
    "class A:\n",
    "    # 붕어빵 몇 개?\n",
    "    cnt = 0\n",
    "    \n",
    "    def __init__(self):\n",
    "        A.cnt += 1 # 객체생성 > 클래스 변수 증가\n",
    "    \n",
    "    @classmethod\n",
    "    def count(cls):\n",
    "        return f'객체수 : {cls.cnt}'\n",
    "    \n",
    "A()\n",
    "A()\n",
    "A()\n",
    "A()\n",
    "A.cnt # 4"
   ]
  },
  {
   "cell_type": "markdown",
   "id": "12b6ef43-34e7-4a68-ab5a-026148539a40",
   "metadata": {},
   "source": [
    "### 정적 메서드 staticmethod\n",
    "- 객체 생성하지 않고 접근 가능\n",
    "- 클래스랑 전혀 상관이 없기 때문에 접근 가능\n",
    "- 내용, 기능이 비슷해서 클래스 내에 묶어둠\n"
   ]
  },
  {
   "cell_type": "code",
   "execution_count": 1,
   "id": "4c86dfe0-cb1d-45d3-9ca5-b373fad2d203",
   "metadata": {},
   "outputs": [
    {
     "name": "stdout",
     "output_type": "stream",
     "text": [
      "hi\n"
     ]
    }
   ],
   "source": [
    "class Hello:\n",
    "    @staticmethod\n",
    "    def say():\n",
    "        print('hi')\n",
    "Hello.say()"
   ]
  },
  {
   "cell_type": "markdown",
   "id": "7f62c342-c851-463c-84be-8c137573c69b",
   "metadata": {},
   "source": [
    "### 추상 메서드\n",
    "- 추상 클래스를 선언하고 사용\n",
    "- 이름만 존재\n",
    "- 설계도 역할(클래스의 메서드와 변수를 한줄로 표현가능하게 함)\n",
    "- 추상클래스를 상속하는 자식 클래스는 반드시 구현해야하는 메소드를 정의한다."
   ]
  },
  {
   "cell_type": "code",
   "execution_count": 10,
   "id": "23b9f9fd-4a6e-4f7d-9285-df566ce858c0",
   "metadata": {},
   "outputs": [
    {
     "data": {
      "text/plain": [
       "<function __main__.Car.go(self)>"
      ]
     },
     "execution_count": 10,
     "metadata": {},
     "output_type": "execute_result"
    }
   ],
   "source": [
    "from abc import *\n",
    "\n",
    "class Vehicle(metaclass=ABCMeta):\n",
    "    speed = '속도'\n",
    "    \n",
    "    @abstractmethod\n",
    "    def go(self):\n",
    "        print('탈것이 간다')\n",
    "        \n",
    "class Car(Vehicle):\n",
    "    \"\"\"오버라이딩을 해야만 인스턴스를 만들 수 있다.\"\"\" \n",
    "    def go(self):\n",
    "        print('go')\n",
    "        \n",
    "Car.go"
   ]
  }
 ],
 "metadata": {
  "kernelspec": {
   "display_name": "Python 3 (ipykernel)",
   "language": "python",
   "name": "python3"
  },
  "language_info": {
   "codemirror_mode": {
    "name": "ipython",
    "version": 3
   },
   "file_extension": ".py",
   "mimetype": "text/x-python",
   "name": "python",
   "nbconvert_exporter": "python",
   "pygments_lexer": "ipython3",
   "version": "3.9.7"
  }
 },
 "nbformat": 4,
 "nbformat_minor": 5
}
