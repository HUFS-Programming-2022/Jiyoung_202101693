{
 "cells": [
  {
   "cell_type": "markdown",
   "id": "56a4947f-b96c-4a54-aaa6-1b3f0b6afa13",
   "metadata": {},
   "source": [
    "## week10"
   ]
  },
  {
   "cell_type": "markdown",
   "id": "e9ec892b-6cb9-440b-84bf-4c8ff7c52069",
   "metadata": {},
   "source": [
    "### 10. 객체와 클래스\n",
    "- object ??\n",
    "- 객체지향프로그래밍\n",
    "- 속성과 행동을 가지는 개념, 실존하는 물체?\n",
    "    - 예: 자동차, 강아지, 꽃, ..thing\n",
    "    - 속성: 브랜드, 책, 속도, 모델, .. => 변수\n",
    "        - 이름, 종, 색, 무게, ..\n",
    "    - 행동: 가다, 서다, 회전, 주차, .. => 메소드(함수)\n",
    "        - 뛰다, 찾다, 자다, ..\n",
    "\n",
    "- 편의점=> \"고객이 편의점에서 과자를 샀다\" (자신이 필요한 속성 부여)\n",
    "\n",
    "\n",
    "    ==> 고객 => 사람, 편의점 => 장소,           과자 => 물건\n",
    "        - 이름, 돈,   재고, 수익                이름, 브랜드, 가격\n",
    "        - 구매, 지불  판매, 수익 창출, 물건 등록\n",
    "    => 상호작용으로 코드를 구성하는 것"
   ]
  },
  {
   "cell_type": "markdown",
   "id": "d643066f-3eb7-49b9-a093-833384075dfa",
   "metadata": {},
   "source": [
    "### class 특징\n",
    "- 첫글자 대문자\n",
    "- nice car -> Nice car (x)\n",
    "- NiceCar (o) 카멜표기법\n",
    "\n",
    "- 정의부, 선언부\n",
    "    - 정의부 = 붕어빵 틀\n",
    "    - 선언부 = 붕어빵"
   ]
  },
  {
   "cell_type": "code",
   "execution_count": 2,
   "id": "0d06fecb-1c0d-49c1-bf8e-12d9ac4809b5",
   "metadata": {},
   "outputs": [
    {
     "data": {
      "text/plain": [
       "<__main__.Car at 0x16458524040>"
      ]
     },
     "execution_count": 2,
     "metadata": {},
     "output_type": "execute_result"
    }
   ],
   "source": [
    "# 정의부\n",
    "class Car: # 카멜표기법\n",
    "    pass\n",
    "\n",
    "# 선언부\n",
    "\n",
    "my_car = Car()\n",
    "my_car # instance"
   ]
  },
  {
   "cell_type": "code",
   "execution_count": 4,
   "id": "e670f140-374f-47dd-a8b9-04923ac37d45",
   "metadata": {},
   "outputs": [],
   "source": [
    "# class 용이함: 속성 선언 가능\n",
    "my_car.name = 'bmw'\n",
    "my_car.color = 'black'"
   ]
  },
  {
   "cell_type": "code",
   "execution_count": 5,
   "id": "aec5a7cb-814d-4397-8270-7de689323f2e",
   "metadata": {},
   "outputs": [
    {
     "data": {
      "text/plain": [
       "'bmw'"
      ]
     },
     "execution_count": 5,
     "metadata": {},
     "output_type": "execute_result"
    }
   ],
   "source": [
    "my_car.name"
   ]
  },
  {
   "cell_type": "code",
   "execution_count": 6,
   "id": "bc897062-a6ef-45ad-bbbb-709288a5172b",
   "metadata": {},
   "outputs": [],
   "source": [
    "# 항상 새로운 클래스를 정의해야 하는 불편함.\n",
    "class Car:\n",
    "    # 1. 속성 정의\n",
    "    name = 'BMW'\n",
    "    \n",
    "your_car = Car()"
   ]
  },
  {
   "cell_type": "code",
   "execution_count": 7,
   "id": "9e3cbdf2-7498-44f8-85cb-eaefa5f9bb9c",
   "metadata": {},
   "outputs": [
    {
     "data": {
      "text/plain": [
       "'LEE'"
      ]
     },
     "execution_count": 7,
     "metadata": {},
     "output_type": "execute_result"
    }
   ],
   "source": [
    "# 속성 변경 가능, 변경할 때 불편함\n",
    "your_car.name = 'LEE'\n",
    "your_car.name"
   ]
  },
  {
   "cell_type": "code",
   "execution_count": 24,
   "id": "b75f0adb-dbaf-4ccf-8576-71d00df24678",
   "metadata": {},
   "outputs": [],
   "source": [
    "#2. \n",
    "class Car:\n",
    "    def __init__(self, name, model, color):# 속성 초기화 함수\n",
    "        self.name = name # 객체 만들 때 들어는 값으로 이름을 설정하고 싶다.\n",
    "        self.model = model\n",
    "        self.color = color \n",
    "        \n",
    "       \n",
    "        # self ==> instance: 나 자신(인스턴스 자신)\n",
    "        \n",
    "    def drive(self):\n",
    "        # {브랜드이름}가 출발합니다.\n",
    "        pirnt(f'{name}차가 지나갑니다')\n",
    "        \n",
    "    def stop(self):\n",
    "        print('차가 정지합니다')\n",
    "        \n",
    "    def change_color(self):\n",
    "        self.color = 'gray'\n",
    "        #gray로 바꾼다."
   ]
  },
  {
   "cell_type": "code",
   "execution_count": 10,
   "id": "1f779c73-d449-450a-9987-37b3ac45bb71",
   "metadata": {},
   "outputs": [
    {
     "data": {
      "text/plain": [
       "'bmw'"
      ]
     },
     "execution_count": 10,
     "metadata": {},
     "output_type": "execute_result"
    }
   ],
   "source": [
    "# her_car = Car() > 오류 발생\n",
    "her_car = Car('bmw')\n",
    "her_car.name"
   ]
  },
  {
   "cell_type": "code",
   "execution_count": 11,
   "id": "e87b7b36-7467-4dde-ac91-ff194fbca5d2",
   "metadata": {},
   "outputs": [
    {
     "data": {
      "text/plain": [
       "'bmw'"
      ]
     },
     "execution_count": 11,
     "metadata": {},
     "output_type": "execute_result"
    }
   ],
   "source": [
    "my_car2 = Car('Toyota')\n",
    "my_car.name"
   ]
  },
  {
   "cell_type": "code",
   "execution_count": 19,
   "id": "df2a524c-b619-4c01-95fb-1b6bfa55c1a4",
   "metadata": {},
   "outputs": [
    {
     "data": {
      "text/plain": [
       "('white', 'sm6')"
      ]
     },
     "execution_count": 19,
     "metadata": {},
     "output_type": "execute_result"
    }
   ],
   "source": [
    "my_car3 = Car('sm6', 'white')\n",
    "my_car3.color, my_car3.model"
   ]
  },
  {
   "cell_type": "code",
   "execution_count": 80,
   "id": "cfc1d135-9561-470a-8fcb-995f4d574bbd",
   "metadata": {},
   "outputs": [],
   "source": [
    "\"\"\"\n",
    "1. {브랜드이름}가 출발합니다.\n",
    "2. gray 로 색 바꾸기\n",
    "3. color 을 받아서 그걸로 지정하게\n",
    "4. color이 들어오면 그 값으로 설정, 아니면 'black'으로 변환\n",
    "5. model을 생성할 때 안 넣어도 되게 설정하기\n",
    "\"\"\"\n",
    "\n",
    "class Car:\n",
    "    def __init__(self, name, color='black', model=None):\n",
    "        self.name = name \n",
    "        self.color = color\n",
    "        self.model = model\n",
    "\n",
    "    def drive(self):\n",
    "        # {브랜드이름}가 출발합니다.\n",
    "        pirnt(f'{self.name}차가 지나갑니다') # name (x) 함수 내부에서 설정이 안됨, self.name 이 class전체에서 사용 가능한 변수임\n",
    "        \n",
    "    def stop(self):\n",
    "        print('차가 정지합니다')\n",
    "        \n",
    "    def change_color(self, color):\n",
    "       # 2. self.color = 'gray'\n",
    "        self.color = color"
   ]
  },
  {
   "cell_type": "code",
   "execution_count": 88,
   "id": "f92807bb-3bdb-4139-a0f3-774d5d72acd7",
   "metadata": {},
   "outputs": [
    {
     "data": {
      "text/plain": [
       "('red', None)"
      ]
     },
     "execution_count": 88,
     "metadata": {},
     "output_type": "execute_result"
    }
   ],
   "source": [
    "car4 = Car('a', 'red')\n",
    "car4.color, car4.model"
   ]
  },
  {
   "cell_type": "code",
   "execution_count": 89,
   "id": "eff38220-c792-437b-b113-8eab0573aa83",
   "metadata": {},
   "outputs": [],
   "source": [
    "car4.model = 'SM6'"
   ]
  },
  {
   "cell_type": "code",
   "execution_count": 90,
   "id": "2b4f7d34-301e-4455-a2b8-790557752cc2",
   "metadata": {},
   "outputs": [
    {
     "data": {
      "text/plain": [
       "'SM6'"
      ]
     },
     "execution_count": 90,
     "metadata": {},
     "output_type": "execute_result"
    }
   ],
   "source": [
    "car4.model"
   ]
  },
  {
   "cell_type": "markdown",
   "id": "f8658aac-b627-467e-a771-b7036c4bb224",
   "metadata": {},
   "source": [
    "### 캡슐화, 정보 은닉\n",
    "- public -> private\n",
    "- getter, setter"
   ]
  },
  {
   "cell_type": "code",
   "execution_count": 95,
   "id": "f7c7a0bc-a23e-4bf9-b0ff-960ccc932325",
   "metadata": {},
   "outputs": [
    {
     "data": {
      "text/plain": [
       "'red'"
      ]
     },
     "execution_count": 95,
     "metadata": {},
     "output_type": "execute_result"
    }
   ],
   "source": [
    "class Fruit:\n",
    "    color = 'red'\n",
    "    \n",
    "kiwi = Fruit()\n",
    "kiwi.color"
   ]
  },
  {
   "cell_type": "code",
   "execution_count": 99,
   "id": "c53993b3-cc74-4b94-96a2-15e909942ef7",
   "metadata": {},
   "outputs": [
    {
     "data": {
      "text/plain": [
       "'black'"
      ]
     },
     "execution_count": 99,
     "metadata": {},
     "output_type": "execute_result"
    }
   ],
   "source": [
    "Fruit.color = 'black'\n",
    "kiwi.color # > 쉽게 컬러 정보 수정 가능"
   ]
  },
  {
   "cell_type": "markdown",
   "id": "0f33c9ed-dfc3-4aac-98eb-1754868093ec",
   "metadata": {},
   "source": [
    "### 캡슐화, 정보 은닉\n",
    "- public > private\n",
    "- getter, setter"
   ]
  },
  {
   "cell_type": "code",
   "execution_count": 1,
   "id": "e50dfbc2-2a04-4f65-89a2-50b85dc1586c",
   "metadata": {},
   "outputs": [
    {
     "data": {
      "text/plain": [
       "'brown'"
      ]
     },
     "execution_count": 1,
     "metadata": {},
     "output_type": "execute_result"
    }
   ],
   "source": [
    "class clothes:\n",
    "    color = 'brown'\n",
    "shirts = clothes()\n",
    "shirts.color"
   ]
  },
  {
   "cell_type": "code",
   "execution_count": 2,
   "id": "c312382d-c67f-4eff-9ea4-ea424d10a529",
   "metadata": {},
   "outputs": [],
   "source": [
    "clothes.color = 'yellow' # 쉽게 변화가 가능하다"
   ]
  },
  {
   "cell_type": "markdown",
   "id": "eb534c5d-b6e6-4163-9b83-7c2d74933db4",
   "metadata": {
    "tags": []
   },
   "source": [
    "#### get set\n",
    "- getter: 클래스 내 객체 변수 변환\n",
    "- setter: == 변수 설정"
   ]
  },
  {
   "cell_type": "markdown",
   "id": "c293b554-b243-4029-9af5-12b283857fb3",
   "metadata": {},
   "source": [
    "#### 1."
   ]
  },
  {
   "cell_type": "code",
   "execution_count": 1,
   "id": "0a6ed31a-4cca-49ed-a9c0-dc5d6bf0f32a",
   "metadata": {},
   "outputs": [],
   "source": [
    "# Java\n",
    "\n",
    "class Car:\n",
    "    def __init__(self, input_name):\n",
    "        self.name = input_name\n",
    "        \n",
    "    def get_name(self):\n",
    "        #변수 반환, return 값 o\n",
    "        return self.name\n",
    "        \n",
    "    def set_namee(self, input_name):\n",
    "        # 설정이기 때문에 리턴값 x\n",
    "        self.name = input_name\n",
    "        \n",
    "c = Car('name')"
   ]
  },
  {
   "cell_type": "code",
   "execution_count": 2,
   "id": "4bfd730b-6252-476a-a8f8-5e3770534c43",
   "metadata": {},
   "outputs": [
    {
     "data": {
      "text/plain": [
       "'name'"
      ]
     },
     "execution_count": 2,
     "metadata": {},
     "output_type": "execute_result"
    }
   ],
   "source": [
    "c.get_name()"
   ]
  },
  {
   "cell_type": "code",
   "execution_count": null,
   "id": "3cca1644-acc5-4ab1-8b54-f610e7c6895c",
   "metadata": {},
   "outputs": [],
   "source": [
    "c.set_name('another_name')\n",
    "c.name # 'another_name'으로 변화"
   ]
  },
  {
   "cell_type": "code",
   "execution_count": null,
   "id": "c525b1af-0ff7-4b4d-ad29-c2821188ffbc",
   "metadata": {},
   "outputs": [],
   "source": [
    "c.set_name('name2')\n",
    "c.name"
   ]
  },
  {
   "cell_type": "markdown",
   "id": "c9992190-dd0d-4ae2-bc5a-9096885030c8",
   "metadata": {},
   "source": [
    "#### 2. "
   ]
  },
  {
   "cell_type": "code",
   "execution_count": 4,
   "id": "8ffbe7dd-fbc1-4763-a2a1-a4ef399ba2cd",
   "metadata": {},
   "outputs": [
    {
     "data": {
      "text/plain": [
       "'name1'"
      ]
     },
     "execution_count": 4,
     "metadata": {},
     "output_type": "execute_result"
    }
   ],
   "source": [
    "class Car:\n",
    "    def __init__(self, input_name): # name 을 가림\n",
    "        self.hidden_name = input_name\n",
    "        \n",
    "    def get_name(self):\n",
    "        #변수 반환\n",
    "        return self.hidden_name\n",
    "        \n",
    "    def set_name(self, input_name):\n",
    "        self.hidden_name = input_name\n",
    "        \n",
    "    name = property(get_name, set_name) # name 지정 예약어\n",
    "    \n",
    "d = Car('name1')\n",
    "d.name"
   ]
  },
  {
   "cell_type": "markdown",
   "id": "541e7668-e4d4-40ad-bb4b-f3bd358cf52c",
   "metadata": {
    "tags": []
   },
   "source": [
    "#### 3. \n",
    "- 간략화"
   ]
  },
  {
   "cell_type": "code",
   "execution_count": 7,
   "id": "fdb53aae-eb69-4d96-8a40-7612a202e954",
   "metadata": {},
   "outputs": [
    {
     "data": {
      "text/plain": [
       "'name a'"
      ]
     },
     "execution_count": 7,
     "metadata": {},
     "output_type": "execute_result"
    }
   ],
   "source": [
    "class Car:\n",
    "    def __init__(self, input_name): # name 을 가림\n",
    "        self.hidden_name = input_name # 변수를 쉽게 교체하지 못하도록 가림\n",
    "    #decorator\n",
    "    @property    \n",
    "    def name(self):\n",
    "        #변수 반환\n",
    "        return self.hidden_name\n",
    "    @name.setter    \n",
    "    def name(self, input_name):\n",
    "        self.hidden_name = input_name\n",
    "    \n",
    "d = Car('name a')\n",
    "d.name"
   ]
  },
  {
   "cell_type": "code",
   "execution_count": null,
   "id": "6efc6213-794b-4898-8502-090fbfffe2f5",
   "metadata": {},
   "outputs": [],
   "source": [
    "Car.hidden_name > 오류\n",
    "d.hidden_name > 접근 가능"
   ]
  },
  {
   "cell_type": "markdown",
   "id": "ab676bbc-2a80-4bcd-b989-48f9afe348e3",
   "metadata": {
    "tags": []
   },
   "source": [
    "#### 4.\n",
    "- 보완"
   ]
  },
  {
   "cell_type": "code",
   "execution_count": null,
   "id": "fd14e789-ee36-4a8a-aa77-15c85287fc00",
   "metadata": {},
   "outputs": [],
   "source": [
    "class Car:\n",
    "    def __init__(self, input_name): # name 을 가림\n",
    "        self.__name = input_name\n",
    "    #decorator\n",
    "    @property    \n",
    "    def name(self):\n",
    "        #변수 반환\n",
    "        return self.__name\n",
    "    @name.setter    \n",
    "    def name(self, input_name):\n",
    "        self.__name = input_name"
   ]
  },
  {
   "cell_type": "code",
   "execution_count": 8,
   "id": "188bbb7b-a543-47f1-aa89-dcb0da2d7171",
   "metadata": {},
   "outputs": [
    {
     "data": {
      "text/plain": [
       "10"
      ]
     },
     "execution_count": 8,
     "metadata": {},
     "output_type": "execute_result"
    }
   ],
   "source": [
    "class Circle:\n",
    "    def __init__(self, radius):\n",
    "        self.radius = radius\n",
    "        \n",
    "    @property\n",
    "    def parameter(self):\n",
    "        return self.radius * 2\n",
    "    \n",
    "ex = Circle(5)\n",
    "ex.parameter"
   ]
  },
  {
   "cell_type": "code",
   "execution_count": 9,
   "id": "e81d0bb0-36eb-494f-9add-c9aa889e7341",
   "metadata": {},
   "outputs": [
    {
     "data": {
      "text/plain": [
       "30"
      ]
     },
     "execution_count": 9,
     "metadata": {},
     "output_type": "execute_result"
    }
   ],
   "source": [
    "ex.radius = 15\n",
    "ex.parameter # 자동 변환"
   ]
  },
  {
   "cell_type": "markdown",
   "id": "9cf6af82-9412-43eb-bee1-338706c2136f",
   "metadata": {},
   "source": [
    "### 실습\n",
    "- 메모장, 메모 구성하기\n",
    "- 메모장\n",
    "    - 구성: 제목, 페이지 번호, 메모\n",
    "    - 메모 추가하다, 메모 삭제하다, 페이지번호 확인하다\n",
    "- 메모\n",
    "    - 속성: 글귀\n",
    "    - 행동: 쓰다, 지우다\n",
    "    \n",
    "- 사용:\n",
    "    - 메모 쓴다\n",
    "    - 메모장에 추가\n",
    "    - 페이지 번호가 늘어난다\n",
    "    - 페이지 번호 줄어든다\n",
    "    - 메모장> 제목만 은닉시키다"
   ]
  },
  {
   "cell_type": "code",
   "execution_count": 41,
   "id": "7cc265fb-db82-4ec1-ba26-fb0dad531e6a",
   "metadata": {},
   "outputs": [],
   "source": [
    "class Note:\n",
    "    def __init__(self, title, write, page=1, note_dict={}):\n",
    "        self.__title = title\n",
    "        self.write = write\n",
    "        self.page = page\n",
    "        self.note_dict = {self.write: self.page}\n",
    "        \n",
    "    @property\n",
    "    def remove(self, remove):\n",
    "        self.remove = remove\n",
    "        if self.remove in self.write:\n",
    "            del self.note_dict[self.remove]\n",
    "            self.page -= 1\n",
    "        else: \n",
    "            print('지우려는 메모가 노트에 없습니다')\n",
    "            \n",
    "    def write(self, new_note):\n",
    "        self.write = new_note\n",
    "        self.page += 1\n",
    "        self.note_dict[f'{self.write}'] = self.page\n",
    "        \n",
    "    def check_page(self, input_note):\n",
    "        if input_note in list(self.note_dict.keys()):\n",
    "            print(f'page {self.note_dict[input_note]}')\n",
    "        else:\n",
    "            print('찾는 메모가 노트에 없습니다.')"
   ]
  },
  {
   "cell_type": "code",
   "execution_count": null,
   "id": "34b99fde-a456-4a65-8229-6bdb538d937a",
   "metadata": {},
   "outputs": [],
   "source": [
    "class Notebook:\n",
    "    def __init__(self, note_dict):\n",
    "        self.note_dict = note_dict\n",
    "        \n",
    "    @property\n",
    "    def check_page(content):\n",
    "        self.content = content\n",
    "        if self.content in self.note_dict:\n",
    "            print(self.note_dict.keys()[self.content])"
   ]
  },
  {
   "cell_type": "code",
   "execution_count": null,
   "id": "2e7a08f7-3419-4bca-88ca-e1afb758c6dc",
   "metadata": {},
   "outputs": [],
   "source": [
    "# 사용\n",
    "line1 = '우리 모두 스스로 원하는 리더가 됩시다'\n",
    "line2 = '모두가 함께 앞으로 나아가면 성공은 저절로 따라옵니다'\n",
    "line3 = '혼자서는 작은 한 방울이지만 함께 모이면 바다를 이룹니다'\n",
    "\n",
    "# 메모 추가 \n"
   ]
  }
 ],
 "metadata": {
  "kernelspec": {
   "display_name": "Python 3 (ipykernel)",
   "language": "python",
   "name": "python3"
  },
  "language_info": {
   "codemirror_mode": {
    "name": "ipython",
    "version": 3
   },
   "file_extension": ".py",
   "mimetype": "text/x-python",
   "name": "python",
   "nbconvert_exporter": "python",
   "pygments_lexer": "ipython3",
   "version": "3.9.7"
  }
 },
 "nbformat": 4,
 "nbformat_minor": 5
}
