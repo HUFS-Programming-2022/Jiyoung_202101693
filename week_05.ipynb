{
 "cells": [
  {
   "cell_type": "markdown",
   "id": "8e28787f-bf21-48cc-9aa2-63c81c4e4658",
   "metadata": {},
   "source": [
    "## week_05"
   ]
  },
  {
   "cell_type": "markdown",
   "id": "f4ec2eea-87bd-483e-8c90-b58438674c28",
   "metadata": {},
   "source": [
    "### 반복문\n",
    "- while, for loop\n",
    "\n",
    "#### while loop\n",
    "- 어떤 조건이 만족하는 동안 명령 블록을 수행한다.\n",
    "- if + for loop\n",
    "- 해당 조건이 거짓이면 멈춘다. => 언제 멈추는지 그 시점을 정확히 파악해야 함.\n",
    "\n",
    "#### for vs. while\n",
    "- for: 반복 횟수가 정해짐, 정확함. 변하지 않음\n",
    "    - 예: 성적 산출\n",
    "- while: 횟수 정해지지 않음. (중요하지 않다) 어떤 조건을 만족시킬 때 빠져나오게 하는 게 중요할 때 사용\n",
    "    - 예: 가위바위보"
   ]
  },
  {
   "cell_type": "code",
   "execution_count": 6,
   "id": "eec4de1a-ef54-4c60-9e81-163f4daf4e75",
   "metadata": {},
   "outputs": [
    {
     "name": "stdout",
     "output_type": "stream",
     "text": [
      "0\n",
      "1\n",
      "2\n",
      "3\n",
      "4\n",
      "5\n",
      "6\n",
      "7\n",
      "8\n",
      "9\n",
      "10\n",
      "11\n"
     ]
    }
   ],
   "source": [
    "for i in range(12):\n",
    "    print(i)"
   ]
  },
  {
   "cell_type": "code",
   "execution_count": 4,
   "id": "40203586-bae3-45db-8983-2ec6317d4653",
   "metadata": {
    "tags": []
   },
   "outputs": [
    {
     "name": "stdout",
     "output_type": "stream",
     "text": [
      "1\n",
      "2\n",
      "3\n"
     ]
    }
   ],
   "source": [
    "j = 0 # 초기화\n",
    "while j < 3: # 0, 1, 2, False\n",
    "    j += 1 # 변화 1, 2, 3\n",
    "    print(j) # 0, 1, 2"
   ]
  },
  {
   "cell_type": "code",
   "execution_count": 5,
   "id": "ea255719-0ed6-49a1-8163-a09fd7e776d2",
   "metadata": {},
   "outputs": [
    {
     "data": {
      "text/plain": [
       "3"
      ]
     },
     "execution_count": 5,
     "metadata": {},
     "output_type": "execute_result"
    }
   ],
   "source": [
    "j"
   ]
  },
  {
   "cell_type": "code",
   "execution_count": 1,
   "id": "6631d159-cb11-4ff2-a1e7-21be82c4a751",
   "metadata": {
    "tags": []
   },
   "outputs": [
    {
     "name": "stdout",
     "output_type": "stream",
     "text": [
      "a\n",
      "b\n",
      "c\n",
      "d\n"
     ]
    }
   ],
   "source": [
    "abcd = ['a', 'b', 'c', 'd']\n",
    "ch = 0\n",
    "while ch < len(abcd):\n",
    "    print(abcd[ch])\n",
    "    ch +=1"
   ]
  },
  {
   "cell_type": "markdown",
   "id": "9d31f3c8-ae1d-4240-97b0-f89fff01be8f",
   "metadata": {},
   "source": [
    "### 반복문 제어\n",
    "- 되도록 사용하지 않는다. 의도치 않은 오류를 위해\n",
    "\n",
    "- break: 논리적으로 반복을 종료시킬 때\n",
    "- else: 어떤 조건이 완전히 끝났을 때 한번 더 실행함. break시에 실행 안 됨.\n",
    "- continue: 특정 조건을 건너뛰고 다음 조건 실행"
   ]
  },
  {
   "cell_type": "code",
   "execution_count": 8,
   "id": "0ca20e8a-8970-475a-92af-cbfefccfe9d6",
   "metadata": {},
   "outputs": [
    {
     "name": "stdout",
     "output_type": "stream",
     "text": [
      "1\n",
      "2\n",
      "3\n",
      "ended\n"
     ]
    }
   ],
   "source": [
    "j = 0 \n",
    "while j < 3: \n",
    "    j += 1 \n",
    "    print(j) \n",
    "    if j == 5: break\n",
    "    #if j == 5: continue  > j = 5에서 무한루프\n",
    "else: \n",
    "    print('ended')"
   ]
  },
  {
   "cell_type": "code",
   "execution_count": 4,
   "id": "a74b6e32-e89c-4b95-b37a-8e8afd9d811d",
   "metadata": {},
   "outputs": [
    {
     "name": "stdout",
     "output_type": "stream",
     "text": [
      "0\n",
      "1\n",
      "2\n",
      "3\n",
      "4\n"
     ]
    }
   ],
   "source": [
    "for i in range(10):\n",
    "    print(i)\n",
    "    if i == 4: break\n",
    "else: \n",
    "    print()"
   ]
  },
  {
   "cell_type": "code",
   "execution_count": 5,
   "id": "f575631c-332c-49df-876f-104b0bf5fa47",
   "metadata": {},
   "outputs": [
    {
     "data": {
      "text/plain": [
       "4"
      ]
     },
     "execution_count": 5,
     "metadata": {},
     "output_type": "execute_result"
    }
   ],
   "source": [
    "i"
   ]
  },
  {
   "cell_type": "markdown",
   "id": "e2607c2b-5774-4a9f-b959-d3114a8d77b5",
   "metadata": {},
   "source": [
    "### gugudan\n",
    "변수는 입력을 받아서 사용함.\n",
    "- 1. n단 출력\n",
    "- 2. 1-n단까지 출력\n",
    "- 3. n, m 모두 입력 받아서 출력\n",
    "- 4. 프로그램으로 만듦.\n",
    "    - 메뉴: 1) n, 2) 1-n, 3) n-m단"
   ]
  },
  {
   "cell_type": "code",
   "execution_count": 18,
   "id": "348a1e44-ec2c-4bda-9bd9-fdb384163f6e",
   "metadata": {},
   "outputs": [
    {
     "name": "stdin",
     "output_type": "stream",
     "text": [
      " 5\n"
     ]
    },
    {
     "name": "stdout",
     "output_type": "stream",
     "text": [
      "1단\n",
      "1 X 1 = 1\n",
      "1 X 2 = 2\n",
      "1 X 3 = 3\n",
      "1 X 4 = 4\n",
      "1 X 5 = 5\n",
      "1 X 6 = 6\n",
      "1 X 7 = 7\n",
      "1 X 8 = 8\n",
      "1 X 9 = 9\n",
      "\n",
      "6단\n",
      "6 X 1 = 6\n",
      "6 X 2 = 12\n",
      "6 X 3 = 18\n",
      "6 X 4 = 24\n",
      "6 X 5 = 30\n",
      "6 X 6 = 36\n",
      "6 X 7 = 42\n",
      "6 X 8 = 48\n",
      "6 X 9 = 54\n",
      "\n"
     ]
    }
   ],
   "source": [
    "n = int(input())\n",
    "for i in (1, n+1):\n",
    "    if n > 10: break\n",
    "    print(f'{i}단')\n",
    "        for j in range(1, 10): # 탭\n",
    "            print(f'{i} X {j} = {i * j}')\n",
    "    print()"
   ]
  },
  {
   "cell_type": "code",
   "execution_count": 32,
   "id": "a7f5b794-b480-49b4-8499-5be0637da177",
   "metadata": {},
   "outputs": [
    {
     "name": "stdin",
     "output_type": "stream",
     "text": [
      "n 4\n",
      "m 3\n"
     ]
    },
    {
     "name": "stdout",
     "output_type": "stream",
     "text": [
      "1단\n",
      "1 X 1 = 1\n",
      "1 X 2 = 2\n",
      "1 X 3 = 3\n",
      "\n",
      "2단\n",
      "2 X 1 = 2\n",
      "2 X 2 = 4\n",
      "2 X 3 = 6\n",
      "\n",
      "3단\n",
      "3 X 1 = 3\n",
      "3 X 2 = 6\n",
      "3 X 3 = 9\n",
      "\n",
      "4단\n",
      "4 X 1 = 4\n",
      "4 X 2 = 8\n",
      "4 X 3 = 12\n",
      "\n"
     ]
    }
   ],
   "source": [
    "n = int(input('n'))\n",
    "if n > 9:\n",
    "    n = int(input('9이하의 숫자 n'))\n",
    "m = int(input('m'))\n",
    "if m > 9:\n",
    "    m = int(input('9이하의 숫자 m'))\n",
    "for i in range(1, n+1): # 'range'(1, n+1)\n",
    "    print(f'{i}단')\n",
    "    for j in range(1, m+1):\n",
    "        print(f'{i} X {j} = {i * j}')\n",
    "    print()"
   ]
  },
  {
   "cell_type": "code",
   "execution_count": 48,
   "id": "9460cec0-ee31-4499-aa69-7bfe4d96a3f4",
   "metadata": {},
   "outputs": [
    {
     "name": "stdin",
     "output_type": "stream",
     "text": [
      "n 2\n",
      "m 5\n",
      "원하는 메뉴의 숫자를 입력하시오 \n",
      "1) 2단 \n",
      "2) 1단~2단 \n",
      "3) 2단~5단\n",
      " 1\n"
     ]
    },
    {
     "name": "stdout",
     "output_type": "stream",
     "text": [
      "\n",
      "2단\n",
      "2 X 1 = 2\n",
      "2 X 2 = 4\n",
      "2 X 3 = 6\n",
      "2 X 4 = 8\n",
      "2 X 5 = 10\n",
      "2 X 6 = 12\n",
      "2 X 7 = 14\n",
      "2 X 8 = 16\n",
      "2 X 9 = 18\n",
      "\n"
     ]
    }
   ],
   "source": [
    "n = int(input('시작하는 단의 숫자를 입력하시오'))\n",
    "if n > 9:\n",
    "    n = int(input('9이하의 숫자 n을 입력하시오'))\n",
    "m = int(input('끝나는 단의 숫자를 입력하시오'))\n",
    "if m > 9 or m < n:\n",
    "    m = int(input('n 이상, 9이하의 숫자 m을 입력하시오'))\n",
    "    \n",
    "menu = int(input(f'원하는 메뉴의 숫자를 입력하시오 \\n1) {n}단 \\n2) 1단~{n}단 \\n3) {n}단~{m}단\\n'))\n",
    "\n",
    "if menu == 1 or menu == 2 or menu == 3:\n",
    "    print()\n",
    "else:\n",
    "     menu = int(input(f'원하는 메뉴의 숫자를 입력하시오 \\n1) {n}단 \\n2) 1단~{n}단 \\n3) {n}단~{m}단\\n'))\n",
    "\n",
    "if menu == 1:\n",
    "    for i in range(n, n+1): \n",
    "        print(f'{i}단')\n",
    "        for j in range(1, 10):\n",
    "            print(f'{i} X {j} = {i * j}')\n",
    "    print()\n",
    "elif menu == 2:\n",
    "    for i in range(1, n+1): \n",
    "        print(f'{i}단')\n",
    "        for j in range(1, 10):\n",
    "            print(f'{i} X {j} = {i * j}')\n",
    "    print()\n",
    "else:\n",
    "    for i in range(n, m+1): \n",
    "        print(f'{i}단')\n",
    "        for j in range(1, 10):\n",
    "            print(f'{i} X {j} = {i * j}')\n",
    "    print()"
   ]
  },
  {
   "cell_type": "markdown",
   "id": "cd2eb70d-2510-4e14-bb30-a301dd9ac997",
   "metadata": {},
   "source": [
    "### NLTK corpus"
   ]
  },
  {
   "cell_type": "code",
   "execution_count": 66,
   "id": "f79e44c0-4d0b-4c01-b9cb-12d8ba631392",
   "metadata": {},
   "outputs": [
    {
     "data": {
      "text/plain": [
       "True"
      ]
     },
     "execution_count": 66,
     "metadata": {},
     "output_type": "execute_result"
    }
   ],
   "source": [
    "import nltk\n",
    "from nltk.book import *\n",
    "nltk.download('book', quiet=True)"
   ]
  },
  {
   "cell_type": "code",
   "execution_count": 8,
   "id": "3ed69573-b321-466c-b599-cb7d3ca647f0",
   "metadata": {},
   "outputs": [],
   "source": [
    "# text1 - 9\n",
    "    # text1 vs. 'text1'\n",
    "    # text1 ~ 9 string 가져오기\n",
    "    # string ->fx : getattr(library, 'string_name')"
   ]
  },
  {
   "cell_type": "code",
   "execution_count": 4,
   "id": "ca5efb40-319a-4406-bb7b-b4b23db2ec59",
   "metadata": {},
   "outputs": [],
   "source": [
    "text = [text1, text2, ..., text9]"
   ]
  },
  {
   "cell_type": "code",
   "execution_count": null,
   "id": "c9a6d6f9-e5be-4da5-a660-12f316d7cf4a",
   "metadata": {},
   "outputs": [],
   "source": [
    "text1, 'text1'"
   ]
  },
  {
   "cell_type": "code",
   "execution_count": 9,
   "id": "6ee8d1c3-e161-4e7c-a8fc-a61be5ea0913",
   "metadata": {},
   "outputs": [
    {
     "data": {
      "text/plain": [
       "[<Text: Moby Dick by Herman Melville 1851>,\n",
       " <Text: Sense and Sensibility by Jane Austen 1811>,\n",
       " <Text: The Book of Genesis>,\n",
       " <Text: Inaugural Address Corpus>,\n",
       " <Text: Chat Corpus>,\n",
       " <Text: Monty Python and the Holy Grail>,\n",
       " <Text: Wall Street Journal>,\n",
       " <Text: Personals Corpus>,\n",
       " <Text: The Man Who Was Thursday by G . K . Chesterton 1908>]"
      ]
     },
     "execution_count": 9,
     "metadata": {},
     "output_type": "execute_result"
    }
   ],
   "source": [
    "#1. \n",
    "texts = [getattr(nltk.book, f'text{i}') for i in range(1, 10)]\n",
    "texts"
   ]
  },
  {
   "cell_type": "markdown",
   "id": "7b76e970-157c-4467-b826-afa98941d313",
   "metadata": {},
   "source": [
    "### NLTK corpus \n",
    "- 코퍼스 + 테마\n",
    "- 종류 \n",
    "    - brown\n",
    "    - gutenberg > 저작권 만료된 문학작품 모음 코퍼스\n",
    "    - inaugural\n",
    "- methods\n",
    "    - words() #tokens  >단어수\n",
    "    - sents()  > 글자수\n",
    "    - raw()    > 문장수\n",
    "    - fileids()"
   ]
  },
  {
   "cell_type": "code",
   "execution_count": 11,
   "id": "51d524f3-258e-406c-9d1d-b95c8914a36c",
   "metadata": {},
   "outputs": [
    {
     "name": "stderr",
     "output_type": "stream",
     "text": [
      "[nltk_data] Downloading package brown to\n",
      "[nltk_data]     C:\\Users\\SAMSUNG\\AppData\\Roaming\\nltk_data...\n",
      "[nltk_data]   Package brown is already up-to-date!\n",
      "[nltk_data] Downloading package gutenberg to\n",
      "[nltk_data]     C:\\Users\\SAMSUNG\\AppData\\Roaming\\nltk_data...\n",
      "[nltk_data]   Package gutenberg is already up-to-date!\n",
      "[nltk_data] Downloading package inaugural to\n",
      "[nltk_data]     C:\\Users\\SAMSUNG\\AppData\\Roaming\\nltk_data...\n",
      "[nltk_data]   Package inaugural is already up-to-date!\n"
     ]
    },
    {
     "data": {
      "text/plain": [
       "True"
      ]
     },
     "execution_count": 11,
     "metadata": {},
     "output_type": "execute_result"
    }
   ],
   "source": [
    "from nltk.corpus import gutenberg\n",
    "nltk.download(['brown', 'gutenberg', 'inaugural'])"
   ]
  },
  {
   "cell_type": "code",
   "execution_count": null,
   "id": "6415cc13-7817-4f98-ab5a-6133bf72903c",
   "metadata": {},
   "outputs": [],
   "source": [
    "gutenberg or gutenberg = nltk.corpus.gutenberg"
   ]
  },
  {
   "cell_type": "code",
   "execution_count": 53,
   "id": "906594e2-c1b8-40b7-8467-01d3ae8eaad6",
   "metadata": {},
   "outputs": [
    {
     "data": {
      "text/plain": [
       "['austen-emma.txt',\n",
       " 'austen-persuasion.txt',\n",
       " 'austen-sense.txt',\n",
       " 'bible-kjv.txt',\n",
       " 'blake-poems.txt',\n",
       " 'bryant-stories.txt',\n",
       " 'burgess-busterbrown.txt',\n",
       " 'carroll-alice.txt',\n",
       " 'chesterton-ball.txt',\n",
       " 'chesterton-brown.txt',\n",
       " 'chesterton-thursday.txt',\n",
       " 'edgeworth-parents.txt',\n",
       " 'melville-moby_dick.txt',\n",
       " 'milton-paradise.txt',\n",
       " 'shakespeare-caesar.txt',\n",
       " 'shakespeare-hamlet.txt',\n",
       " 'shakespeare-macbeth.txt',\n",
       " 'whitman-leaves.txt']"
      ]
     },
     "execution_count": 53,
     "metadata": {},
     "output_type": "execute_result"
    }
   ],
   "source": [
    "gutenberg.fileids()"
   ]
  },
  {
   "cell_type": "code",
   "execution_count": 10,
   "id": "7bea92d6-92c2-438a-8b3f-e14ed493cfb6",
   "metadata": {},
   "outputs": [],
   "source": [
    "# 각 파일마다 word, character, sent 개수 출력하기\n",
    "#gutenberg.words(fileids=[a, b, c...])\n",
    "auten-emma | 글자수=14개, 단어 수=15개, 문장 수=33개"
   ]
  },
  {
   "cell_type": "code",
   "execution_count": 55,
   "id": "38dab79a-1338-4d32-a5c7-5f2a94e0742e",
   "metadata": {},
   "outputs": [
    {
     "data": {
      "text/plain": [
       "['[', 'Alice', \"'\", 's', 'Adventures', 'in', ...]"
      ]
     },
     "execution_count": 55,
     "metadata": {},
     "output_type": "execute_result"
    }
   ],
   "source": [
    "gutenberg.words(fileids=['carroll-alice.txt', 'austen-emma.txt'])"
   ]
  },
  {
   "cell_type": "code",
   "execution_count": 25,
   "id": "72e40abb-a9b1-49ef-89c5-0f13c56a63df",
   "metadata": {},
   "outputs": [
    {
     "name": "stdout",
     "output_type": "stream",
     "text": [
      "austen-emma.txt | 글자수=192427개, 단어 수=7752개, 문장 수=887071개\n",
      "austen-persuasion.txt | 글자수=98171개, 단어 수=3747개, 문장 수=466292개\n",
      "austen-sense.txt | 글자수=141576개, 단어 수=4999개, 문장 수=673022개\n",
      "bible-kjv.txt | 글자수=1010654개, 단어 수=30103개, 문장 수=4332554개\n",
      "blake-poems.txt | 글자수=8354개, 단어 수=438개, 문장 수=38153개\n",
      "bryant-stories.txt | 글자수=55563개, 단어 수=2863개, 문장 수=249439개\n",
      "burgess-busterbrown.txt | 글자수=18963개, 단어 수=1054개, 문장 수=84663개\n",
      "carroll-alice.txt | 글자수=34110개, 단어 수=1703개, 문장 수=144395개\n",
      "chesterton-ball.txt | 글자수=96996개, 단어 수=4779개, 문장 수=457450개\n",
      "chesterton-brown.txt | 글자수=86063개, 단어 수=3806개, 문장 수=406629개\n",
      "chesterton-thursday.txt | 글자수=69213개, 단어 수=3742개, 문장 수=320525개\n",
      "edgeworth-parents.txt | 글자수=210663개, 단어 수=10230개, 문장 수=935158개\n",
      "melville-moby_dick.txt | 글자수=260819개, 단어 수=10059개, 문장 수=1242990개\n",
      "milton-paradise.txt | 글자수=96825개, 단어 수=1851개, 문장 수=468220개\n",
      "shakespeare-caesar.txt | 글자수=25833개, 단어 수=2163개, 문장 수=112310개\n",
      "shakespeare-hamlet.txt | 글자수=37360개, 단어 수=3106개, 문장 수=162881개\n",
      "shakespeare-macbeth.txt | 글자수=23140개, 단어 수=1907개, 문장 수=100351개\n",
      "whitman-leaves.txt | 글자수=154883개, 단어 수=4250개, 문장 수=711215개\n"
     ]
    }
   ],
   "source": [
    "for txt in gutenberg.fileids():\n",
    "    words = len(gutenberg.words(fileids=txt))\n",
    "    sents = len(gutenberg.sents(fileids=txt))\n",
    "    raw = len(gutenberg.raw(fileids=txt))\n",
    "    print(f'{text} | 글자수={words}개, 단어 수={sents}개, 문장 수={raw}개')"
   ]
  },
  {
   "cell_type": "markdown",
   "id": "869c6399-c7b5-4a76-8e2a-d2bbe20d1ea1",
   "metadata": {},
   "source": [
    "### gutenberg\n",
    "- 1. shakespeare-caesar의 중복된 단어를 거르고 각 단어의 길이를 출력하시오.\n",
    "- 2. chesterton-thursday에서 길이가 4자 이하인 알파벳 중 ie를 포함하는 단어를 소문자로 출력하고, 개수를 세어라\n",
    "- 3. bryant-stories에서 ch로 끝나는 단어를 출력하는데, 중복 없이, 첫 글자(모두소문자)의 끝 ch만 남기고 가운데 글자들은 모두 - 로 가려라."
   ]
  },
  {
   "cell_type": "code",
   "execution_count": 61,
   "id": "7e28b7ce-7d52-4cb9-8803-7ff053145bf6",
   "metadata": {},
   "outputs": [
    {
     "data": {
      "text/plain": [
       "[5, 4, 6, 6, 6, 6, 6, 7, 3, 4]"
      ]
     },
     "execution_count": 61,
     "metadata": {},
     "output_type": "execute_result"
    }
   ],
   "source": [
    "# 1번\n",
    "#list1 = set([word.lower() for word in gutenberg.words(fileids=['shakespeare-caesar.txt'])])\n",
    "#len_list1 = [len(word) for word in list]\n",
    "\n",
    "#for i in range(len(list1)+1):\n",
    "    #print(f'{list[i]}, {len_list1[i]}')\n",
    "    \n",
    "ex = [len(word.lower()) for word in set(gutenberg.words('shakespeare-caesar.txt'))]           \n",
    "ex[:10]"
   ]
  },
  {
   "cell_type": "code",
   "execution_count": 57,
   "id": "f0b10f99-9840-43c1-8d9c-a5fab9153fdc",
   "metadata": {},
   "outputs": [
    {
     "name": "stdout",
     "output_type": "stream",
     "text": [
      "37\n"
     ]
    }
   ],
   "source": [
    "# 2번\n",
    "list = len([word.lower() for word in gutenberg.words(fileids=['chesterton-thursday.txt']) if (len(word) <= 4) and 'ie' in word])\n",
    "print(list)"
   ]
  },
  {
   "cell_type": "code",
   "execution_count": 37,
   "id": "15b732dc-e52b-4f3e-8e61-72fa16ef08b3",
   "metadata": {},
   "outputs": [
    {
     "name": "stdout",
     "output_type": "stream",
     "text": [
      "{'t--ch', 'c---ch', 'b--ch', 's-ch', 'e-ch', 'b---ch', 's----ch', 'r--ch', 's---ch', 'r-ch', 't---ch', 'a-ch', 'l--ch', 'p--ch', 'm-ch', 'f--ch', 'f---ch', 'c--ch', 'w--ch'}\n"
     ]
    }
   ],
   "source": [
    "# 3번\n",
    "file = gutenberg.words(fileids='bryant-stories.txt')\n",
    "ch = set([word.lower().replace(word[1:-2], '-' * len(word[1:-2])) for word in file if word.endswith('ch')])\n",
    "print(ch)"
   ]
  },
  {
   "cell_type": "markdown",
   "id": "8f85bd2a-2a69-4239-9940-0bf083c99c58",
   "metadata": {},
   "source": [
    "### Brown\n",
    "    - categories()"
   ]
  },
  {
   "cell_type": "code",
   "execution_count": 63,
   "id": "f554b785-1319-46ba-a985-478042245b9d",
   "metadata": {},
   "outputs": [],
   "source": [
    "brown = nltk.corpus.brown"
   ]
  },
  {
   "cell_type": "code",
   "execution_count": 68,
   "id": "35b82569-1563-4854-8918-b32fe2725b90",
   "metadata": {},
   "outputs": [
    {
     "data": {
      "text/plain": [
       "['adventure',\n",
       " 'belles_lettres',\n",
       " 'editorial',\n",
       " 'fiction',\n",
       " 'government',\n",
       " 'hobbies',\n",
       " 'humor',\n",
       " 'learned',\n",
       " 'lore',\n",
       " 'mystery',\n",
       " 'news',\n",
       " 'religion',\n",
       " 'reviews',\n",
       " 'romance',\n",
       " 'science_fiction']"
      ]
     },
     "execution_count": 68,
     "metadata": {},
     "output_type": "execute_result"
    }
   ],
   "source": [
    "brown.categories()"
   ]
  },
  {
   "cell_type": "code",
   "execution_count": 72,
   "id": "31be6419-6a76-4e37-8241-2b0cf86aebad",
   "metadata": {},
   "outputs": [],
   "source": [
    "fdist = nltk.FreqDist([w.lower() for w in brown.words(categories='adventure')])"
   ]
  },
  {
   "cell_type": "code",
   "execution_count": 73,
   "id": "1ebee90c-5871-43b7-bdfb-5ed38f1e514a",
   "metadata": {},
   "outputs": [
    {
     "data": {
      "text/plain": [
       "83"
      ]
     },
     "execution_count": 73,
     "metadata": {},
     "output_type": "execute_result"
    }
   ],
   "source": [
    "fdist['men']"
   ]
  },
  {
   "cell_type": "code",
   "execution_count": 75,
   "id": "abd6719d-7402-4462-8a87-37ae85c8a4e0",
   "metadata": {},
   "outputs": [
    {
     "name": "stdout",
     "output_type": "stream",
     "text": [
      "can 48\n",
      "could 154\n",
      "will 51\n",
      "would 194\n",
      "may 7\n",
      "might 59\n"
     ]
    }
   ],
   "source": [
    "# modal verbs\n",
    "modals = ['can', 'could', 'will', 'would', 'may', 'might']\n",
    "\n",
    "for verb in modals:\n",
    "    print(verb, fdist[verb])"
   ]
  },
  {
   "cell_type": "markdown",
   "id": "413f5f5a-a15c-4175-95cd-c7d1e200f43f",
   "metadata": {},
   "source": [
    "### conditional frequency distribution\n",
    "- 조건에 따른 fdist"
   ]
  },
  {
   "cell_type": "code",
   "execution_count": 82,
   "id": "7a8c14fc-2fab-4e17-8da4-53b9567c208b",
   "metadata": {},
   "outputs": [],
   "source": [
    "cdf = nltk.ConditionalFreqDist(\n",
    "    # 각 장르에 따른 frequency distribution을 만든다.\n",
    "    (genre, word.lower())\n",
    "    for genre in brown.categories()\n",
    "    for word in brown.words(categories=genre)\n",
    ")"
   ]
  },
  {
   "cell_type": "code",
   "execution_count": 84,
   "id": "d8e84532-d8ef-4ed5-b3aa-49bb635407d0",
   "metadata": {},
   "outputs": [
    {
     "data": {
      "text/plain": [
       "36"
      ]
     },
     "execution_count": 84,
     "metadata": {},
     "output_type": "execute_result"
    }
   ],
   "source": [
    "cdf['romance']['love']"
   ]
  },
  {
   "cell_type": "code",
   "execution_count": null,
   "id": "89386f33-c679-4307-afb1-c97e12dea19e",
   "metadata": {},
   "outputs": [],
   "source": []
  }
 ],
 "metadata": {
  "kernelspec": {
   "display_name": "Python 3 (ipykernel)",
   "language": "python",
   "name": "python3"
  },
  "language_info": {
   "codemirror_mode": {
    "name": "ipython",
    "version": 3
   },
   "file_extension": ".py",
   "mimetype": "text/x-python",
   "name": "python",
   "nbconvert_exporter": "python",
   "pygments_lexer": "ipython3",
   "version": "3.9.7"
  }
 },
 "nbformat": 4,
 "nbformat_minor": 5
}
