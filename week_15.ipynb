{
 "cells": [
  {
   "cell_type": "markdown",
   "id": "a02e5076-c604-40c4-a9ce-88c7c0d9fc86",
   "metadata": {},
   "source": [
    "### 파일과 디렉터리\n",
    "- 디렉터리: 폴더의 다른 말, 파일이 논리적으로 묶인 단위\n",
    "- 파일: 컴퓨터를 실행하는 기본 단위\n",
    "    - 파일명 + 확장자\n",
    "    - 확장자: 파일의 쓰임을 구분하는 글자\n",
    "        - pdf, xlsx, txt, ..\n",
    "    - 종류: 바이너리 파일, 텍스트 파일\n",
    "        - 바이너리: 이진 정보로 저장됨\n",
    "            - 내용을 확인 못 함.\n",
    "            - 해당 확장자를 여 수 있는 프로그램이 필요함.\n",
    "        - 텍스트: 사람이 이해할 수 있는 문자열로 저장됨\n",
    "            - 메모장, html, py\n",
    "            - 변경 기준: 아스키코드, 유니코드\n",
    "            - 인코딩(encoding: 표준에 맞춰 저장하는 행위)\n",
    "            - utf-8\n",
    "            - cp949(window)"
   ]
  },
  {
   "cell_type": "markdown",
   "id": "e5388e92-3437-4b1d-bec7-855d71b2743b",
   "metadata": {},
   "source": [
    "#### 파일 열기\n",
    "- open(파일명, 모드)\n",
    "- 모드\n",
    "    - r: read(default)\n",
    "    (write)\n",
    "    - w: write - 파일 있으면 덮어쓰고, 없으면 생성\n",
    "    - x: 파일이 없을 때만 생성 (기존의 데이터를 날릴 위함 x) \n",
    "    - a: 있을 때 마지막 라인에 추가\n",
    "    \n",
    "    추가 모드\n",
    "    - b: binary\n",
    "    - t: text (default)\n",
    "    \n",
    "    'rb', 'rt'"
   ]
  },
  {
   "cell_type": "code",
   "execution_count": 82,
   "id": "354b490d-b048-408f-a990-0791c88ad5b7",
   "metadata": {},
   "outputs": [],
   "source": [
    "# 파일 열기\n",
    "file = 'test.txt' #위치가 같을때는 파일명만 쓰면 됨\n",
    "f = open(file, 'r')"
   ]
  },
  {
   "cell_type": "code",
   "execution_count": 64,
   "id": "119a07e7-ce9b-4446-b115-a6cb4da95f90",
   "metadata": {},
   "outputs": [
    {
     "data": {
      "text/plain": [
       "<_io.TextIOWrapper name='test.txt' mode='r' encoding='cp949'>"
      ]
     },
     "execution_count": 64,
     "metadata": {},
     "output_type": "execute_result"
    }
   ],
   "source": [
    "f"
   ]
  },
  {
   "cell_type": "markdown",
   "id": "50a38830-8837-4374-b817-d543ea66299f",
   "metadata": {},
   "source": [
    "#### 파일 읽기\n",
    "- read(): 전체를 하나의 str\n",
    "    - 포인터\n",
    "- readline(): 한줄만 str\n",
    "- readlines(): 전체를 list로, 각 줄이 한 str"
   ]
  },
  {
   "cell_type": "code",
   "execution_count": 60,
   "id": "8035ca74-7002-4908-b176-6eacffa09cf6",
   "metadata": {},
   "outputs": [
    {
     "data": {
      "text/plain": [
       "\"hello world\\nI'm reading a book.\\nI'm reading a book.\\nI'm reading a book.\\nI'm reading a book.\""
      ]
     },
     "execution_count": 60,
     "metadata": {},
     "output_type": "execute_result"
    }
   ],
   "source": [
    "# 파일 읽기\n",
    "f.read() # 한 줄만 읽음"
   ]
  },
  {
   "cell_type": "code",
   "execution_count": 66,
   "id": "de38aa06-b554-41d8-9b78-ddf1b4643953",
   "metadata": {},
   "outputs": [
    {
     "data": {
      "text/plain": [
       "' worl'"
      ]
     },
     "execution_count": 66,
     "metadata": {},
     "output_type": "execute_result"
    }
   ],
   "source": [
    "f.read(5) # 5개까지만 읽음, 다시 read를 하므로 아무것도 나오지 않음\n",
    "          # read > point를 갖고 있음. 마지막에 읽었던 부분 이후를 읽음"
   ]
  },
  {
   "cell_type": "code",
   "execution_count": 76,
   "id": "eae6e8dc-4583-4419-afef-c7e1ea776094",
   "metadata": {},
   "outputs": [],
   "source": [
    "f.close()"
   ]
  },
  {
   "cell_type": "code",
   "execution_count": 70,
   "id": "e781012d-a314-4636-ae3f-295e42119010",
   "metadata": {},
   "outputs": [
    {
     "data": {
      "text/plain": [
       "'hello world\\n'"
      ]
     },
     "execution_count": 70,
     "metadata": {},
     "output_type": "execute_result"
    }
   ],
   "source": [
    "f = open(file, 'r')\n",
    "f.readline()"
   ]
  },
  {
   "cell_type": "code",
   "execution_count": 73,
   "id": "ff7da6aa-4c5a-4c4b-af9f-7dd179c6238b",
   "metadata": {},
   "outputs": [
    {
     "data": {
      "text/plain": [
       "['hello world\\n',\n",
       " \"I'm reading a book.\\n\",\n",
       " \"I'm reading a book.\\n\",\n",
       " \"I'm reading a book.\\n\",\n",
       " \"I'm reading a book.\"]"
      ]
     },
     "execution_count": 73,
     "metadata": {},
     "output_type": "execute_result"
    }
   ],
   "source": [
    "f = open(file, 'r')\n",
    "sents = f.readlines()\n",
    "sents"
   ]
  },
  {
   "cell_type": "code",
   "execution_count": 78,
   "id": "59a66c8b-7753-4138-abee-12c8df39018e",
   "metadata": {},
   "outputs": [
    {
     "data": {
      "text/plain": [
       "['hello world',\n",
       " \"I'm reading a book.\",\n",
       " \"I'm reading a book.\",\n",
       " \"I'm reading a book.\",\n",
       " \"I'm reading a book.\"]"
      ]
     },
     "execution_count": 78,
     "metadata": {},
     "output_type": "execute_result"
    }
   ],
   "source": [
    "f = open(file, 'r')\n",
    "sents = f.readlines()\n",
    "sents = [s.strip() for s in sents] # 텍스트 정제\n",
    "f.close()\n",
    "sents"
   ]
  },
  {
   "cell_type": "markdown",
   "id": "7a3c5077-ab58-45f4-b1ef-382f85c2e3ff",
   "metadata": {},
   "source": [
    "#### 파일 닫기\n",
    "- 파일 여는 즉시 닫기(닫았지만 계속 쓸 수 있음, 변수에 담아놓아서)\n",
    "- 자원 해제"
   ]
  },
  {
   "cell_type": "code",
   "execution_count": 55,
   "id": "676d13e0-a336-4462-a440-9fc55a9cfb37",
   "metadata": {},
   "outputs": [],
   "source": [
    "with open(file, 'r') as f: # file\n",
    "    # open() 적용되는 블럭\n",
    "    content = f.read()\n",
    "# 파일 자동으로 닫힘"
   ]
  },
  {
   "cell_type": "code",
   "execution_count": 56,
   "id": "5cc9d8c0-533a-4070-8e35-20a8d714e2b9",
   "metadata": {},
   "outputs": [
    {
     "data": {
      "text/plain": [
       "\"hello world\\nI'm reading a book.\\nI'm reading a book.\\nI'm reading a book.\\nI'm reading a book.\""
      ]
     },
     "execution_count": 56,
     "metadata": {},
     "output_type": "execute_result"
    }
   ],
   "source": [
    "content # 원하는 정보가 불러와짐"
   ]
  },
  {
   "cell_type": "code",
   "execution_count": 79,
   "id": "11b3c7ea-414e-45d9-b6f3-272a55315a4e",
   "metadata": {},
   "outputs": [],
   "source": [
    "# readline 파일 읽는데, while 사용해서 한줄씩 읽고 strip()해서 리스트에 반환하는 함수 만들기\n",
    "sents = []\n",
    "with open(file, 'r') as f:\n",
    "    while True:\n",
    "        line = f.readline()\n",
    "        if not line: # ''(빈줄)의 길이는 1, 컨텐츠가 없을 때는 0\n",
    "            break\n",
    "        sent = line.strip()\n",
    "        sents.append(sent)"
   ]
  },
  {
   "cell_type": "code",
   "execution_count": 80,
   "id": "23372932-4395-4608-ae5b-b4497a3cd635",
   "metadata": {},
   "outputs": [
    {
     "data": {
      "text/plain": [
       "['hello world',\n",
       " \"I'm reading a book.\",\n",
       " \"I'm reading a book.\",\n",
       " \"I'm reading a book.\",\n",
       " \"I'm reading a book.\"]"
      ]
     },
     "execution_count": 80,
     "metadata": {},
     "output_type": "execute_result"
    }
   ],
   "source": [
    "sents"
   ]
  },
  {
   "cell_type": "markdown",
   "id": "d3f1677c-6213-427b-996a-a342e7b3fc75",
   "metadata": {},
   "source": [
    "#### 경로가 달라질 때 \n",
    "- . : 현재 경로\n",
    "- .. : 상위 경로"
   ]
  },
  {
   "cell_type": "code",
   "execution_count": null,
   "id": "888a156f-29d6-4c37-ba56-6ed4dda3093c",
   "metadata": {},
   "outputs": [],
   "source": [
    "file = './folder/test.txt' # / > 폴더로 들어가라\n",
    "\n",
    "with open(file) as f:\n",
    "    print(f.read())"
   ]
  },
  {
   "cell_type": "markdown",
   "id": "065082dd-b5f9-4e63-b877-2b4905877637",
   "metadata": {},
   "source": [
    "#### 쓰기\n",
    "- 인코딩 유의"
   ]
  },
  {
   "cell_type": "code",
   "execution_count": 92,
   "id": "3c7d50b3-74e9-471c-844e-ae99c08af083",
   "metadata": {},
   "outputs": [],
   "source": [
    "data = list(range(10))\n",
    "with open('test2.txt', 'w', encoding='utf-8') as f:\n",
    "    for i in range(10):\n",
    "        data = f'{i}번째 줄입니다.\\n'\n",
    "        f.write(data)"
   ]
  },
  {
   "cell_type": "code",
   "execution_count": 94,
   "id": "baa53f02-c51e-4cd2-99f2-aac057620588",
   "metadata": {},
   "outputs": [],
   "source": [
    "#print\n",
    "file_out = open('test2.txt', 'a', encoding='utf=8')\n",
    "print('한 줄을 추가했습니다', file=file_out)\n",
    "file_out.close()"
   ]
  },
  {
   "cell_type": "code",
   "execution_count": 95,
   "id": "1ec372d7-c7e5-4852-8099-c3c6f7cea229",
   "metadata": {},
   "outputs": [],
   "source": [
    "#프린트 함수 노출 방법\n",
    "#1. folder 만들어서 추가하는 방법\n",
    "    - 폴더 만들어야 함\n",
    "    - 접근"
   ]
  },
  {
   "cell_type": "code",
   "execution_count": 99,
   "id": "dd281b08-762f-46a7-a717-495e42e8f401",
   "metadata": {},
   "outputs": [],
   "source": [
    "data = list(range(10))\n",
    "with open('./abc/test2.txt', 'w', encoding='utf-8') as f:\n",
    "    for i in range(10):\n",
    "        data = f'{i}번째 줄입니다.\\n'\n",
    "        f.write(data)"
   ]
  },
  {
   "cell_type": "code",
   "execution_count": 101,
   "id": "14549153-150d-4b54-a30d-c37c8b501d6d",
   "metadata": {},
   "outputs": [],
   "source": [
    "import os"
   ]
  },
  {
   "cell_type": "code",
   "execution_count": null,
   "id": "d876328c-b249-49b4-99fd-c440c5197bb1",
   "metadata": {},
   "outputs": [],
   "source": [
    "os.mkdir('abc') # 폴더 생성"
   ]
  },
  {
   "cell_type": "code",
   "execution_count": null,
   "id": "473cf98c-2492-48e3-976e-d27e6d27cddc",
   "metadata": {},
   "outputs": [],
   "source": [
    "path = 'abc'\n",
    "# 있는지 확인하기\n",
    "if not os.isdir(path):\n",
    "    os.mkdir('abc')\n",
    "    \n",
    "#dir_name = './abc/test2.txt'\n",
    "dir_name = os.path.join(path, 'test2.txt')\n",
    "\n",
    "# 재확인\n",
    "if not os.path.exists(dir_name):\n",
    "    with open(dir_name, 'w') as f: # 덮어쓸 가능성 배제\n",
    "        # ..."
   ]
  },
  {
   "cell_type": "code",
   "execution_count": null,
   "id": "a488e8ef-a0d8-4b4c-9561-96ae77219ec7",
   "metadata": {},
   "outputs": [],
   "source": [
    "os.remove(file_name)\n",
    "os.rmdir(dir_name) # 폴더 안에 파일 있으면 삭제 못함"
   ]
  },
  {
   "cell_type": "code",
   "execution_count": null,
   "id": "e513bb08-8430-4e4f-bfb9-4f8b08b71486",
   "metadata": {},
   "outputs": [],
   "source": [
    "import shutil\n",
    "shutil.rmtree(dir_name) # 강제로 전부 삭제"
   ]
  },
  {
   "cell_type": "code",
   "execution_count": 108,
   "id": "f28be7ca-6798-4c26-b16f-27a17ac11f4a",
   "metadata": {},
   "outputs": [],
   "source": [
    "# folder 새로 만들어서\n",
    "# 파일에 내용 쓰기\n",
    "# 파일 열기"
   ]
  },
  {
   "cell_type": "code",
   "execution_count": null,
   "id": "fab2edc2-8d64-4c8a-8ed3-c7e347d8d8d6",
   "metadata": {},
   "outputs": [],
   "source": [
    "path = 'new_test'\n",
    "if not os.isdir(path):\n",
    "    os.mkdir(path)\n",
    "\n",
    "dir_name = os.path.exists(path, 'test3.txt')\n",
    "\n",
    "if not os.path.exists(dir_name):\n",
    "    with open(dir_name, 'w') as f:\n",
    "        for i in range(5):\n",
    "            data = f'{i}'\n",
    "            f.write(data)"
   ]
  },
  {
   "cell_type": "code",
   "execution_count": 114,
   "id": "b57e2ead-614a-4c5e-afd6-bc6eaed6974a",
   "metadata": {},
   "outputs": [
    {
     "data": {
      "text/plain": [
       "'C:\\\\Users\\\\Ativ'"
      ]
     },
     "execution_count": 114,
     "metadata": {},
     "output_type": "execute_result"
    }
   ],
   "source": [
    "os.getcwd()"
   ]
  },
  {
   "cell_type": "code",
   "execution_count": 115,
   "id": "1d8bb9a2-5008-4a6d-ab4e-9c82dab30a46",
   "metadata": {},
   "outputs": [],
   "source": [
    "os.chdir('..')"
   ]
  },
  {
   "cell_type": "markdown",
   "id": "bf836a6d-9e13-4981-9fc4-cc04a4cef230",
   "metadata": {},
   "source": [
    "#### pickle\n",
    "- 객체를 파일로 저장하는 기능 제공"
   ]
  },
  {
   "cell_type": "code",
   "execution_count": 116,
   "id": "f8b761c7-2629-4dd4-a101-cf05b40bedc3",
   "metadata": {},
   "outputs": [],
   "source": [
    "import pickle"
   ]
  },
  {
   "cell_type": "code",
   "execution_count": 119,
   "id": "629f0f0c-b91c-4bf1-8bb9-549e12924976",
   "metadata": {},
   "outputs": [],
   "source": [
    "with open('test.pickle', 'wb') as f:\n",
    "        pickle.dump(nums, f)"
   ]
  },
  {
   "cell_type": "code",
   "execution_count": 118,
   "id": "21aefe10-2e70-487e-9f08-e806b97561e1",
   "metadata": {},
   "outputs": [
    {
     "data": {
      "text/plain": [
       "[0, 1, 2, 3, 4, 5]"
      ]
     },
     "execution_count": 118,
     "metadata": {},
     "output_type": "execute_result"
    }
   ],
   "source": [
    "nums = list(range(6))\n",
    "nums"
   ]
  },
  {
   "cell_type": "code",
   "execution_count": 120,
   "id": "e291c048-9afe-402b-bada-134fb155bb7f",
   "metadata": {},
   "outputs": [],
   "source": [
    "with open('test.pickle', 'rb') as f:\n",
    "    number = pickle.load(f)"
   ]
  },
  {
   "cell_type": "code",
   "execution_count": 121,
   "id": "e8f335e3-248a-432c-9bce-41125dbee7ba",
   "metadata": {},
   "outputs": [
    {
     "data": {
      "text/plain": [
       "[0, 1, 2, 3, 4, 5]"
      ]
     },
     "execution_count": 121,
     "metadata": {},
     "output_type": "execute_result"
    }
   ],
   "source": [
    "number"
   ]
  },
  {
   "cell_type": "code",
   "execution_count": null,
   "id": "aeb6cf03-8a79-4049-a486-d52522f94342",
   "metadata": {},
   "outputs": [],
   "source": [
    "a = Product()"
   ]
  }
 ],
 "metadata": {
  "kernelspec": {
   "display_name": "Python 3 (ipykernel)",
   "language": "python",
   "name": "python3"
  },
  "language_info": {
   "codemirror_mode": {
    "name": "ipython",
    "version": 3
   },
   "file_extension": ".py",
   "mimetype": "text/x-python",
   "name": "python",
   "nbconvert_exporter": "python",
   "pygments_lexer": "ipython3",
   "version": "3.9.7"
  },
  "toc-autonumbering": false
 },
 "nbformat": 4,
 "nbformat_minor": 5
}
