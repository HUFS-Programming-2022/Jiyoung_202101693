{
 "cells": [
  {
   "cell_type": "markdown",
   "id": "33e4b0ac-f7f9-4ea4-bffe-bceb5d164a4b",
   "metadata": {},
   "source": [
    "## week 12"
   ]
  },
  {
   "cell_type": "markdown",
   "id": "e9d9bef8-8666-4a58-9750-7e9d13c0afcf",
   "metadata": {},
   "source": [
    "## 매직메소드\n",
    "- special\n",
    "- srt, repr"
   ]
  },
  {
   "cell_type": "code",
   "execution_count": 7,
   "id": "7faa8970-7fb1-4deb-a564-8934b608adc1",
   "metadata": {},
   "outputs": [],
   "source": [
    "class Customer:\n",
    "    def __init__(self, name):\n",
    "        self.name = name\n",
    "    #오버라이딩    \n",
    "    def __str(self):\n",
    "        # print() 함수로 나온 출력값을 변경하는 것\n",
    "        return self.name\n",
    "    \n",
    "    def __repr__(self):\n",
    "        # 설정을 안 하면 __str__ 동일\n",
    "        # 인스턴스를 출력하는 방식 => 사용자가 이해하는 객체의 모습을 표현\n",
    "        return self.name\n",
    "    \n",
    "c = Customer('amy')"
   ]
  },
  {
   "cell_type": "code",
   "execution_count": 4,
   "id": "f723e469-acbb-4d70-86e1-a2066787b187",
   "metadata": {},
   "outputs": [
    {
     "data": {
      "text/plain": [
       "<__main__.Customer at 0x1acf7f94040>"
      ]
     },
     "execution_count": 4,
     "metadata": {},
     "output_type": "execute_result"
    }
   ],
   "source": [
    "# 읽을 수 없음, repr 오버라이딩\n",
    "c"
   ]
  },
  {
   "cell_type": "code",
   "execution_count": 5,
   "id": "d43d51a6-0f34-453f-9e84-dfe0bca5c892",
   "metadata": {},
   "outputs": [
    {
     "name": "stdout",
     "output_type": "stream",
     "text": [
      "<__main__.Customer object at 0x000001ACF7F94040>\n"
     ]
    }
   ],
   "source": [
    "# string 오버라이딩\n",
    "print(c)"
   ]
  },
  {
   "cell_type": "code",
   "execution_count": 21,
   "id": "5a694d36-2e02-4cb1-afa7-a8cb26c47e00",
   "metadata": {},
   "outputs": [
    {
     "data": {
      "text/plain": [
       "'<__main__.Customer object at 0x000001ACF8015190>'"
      ]
     },
     "execution_count": 21,
     "metadata": {},
     "output_type": "execute_result"
    }
   ],
   "source": [
    "class Customer:\n",
    "    def __init__(self, name):\n",
    "        self.name = name\n",
    "   \n",
    "    def __str(self):\n",
    "        return self.name\n",
    "    \n",
    "c = Customer('amy')\n",
    "str(c)"
   ]
  },
  {
   "cell_type": "code",
   "execution_count": 13,
   "id": "56612e3f-17fb-4149-aee7-067e7d6e28e1",
   "metadata": {},
   "outputs": [
    {
     "data": {
      "text/plain": [
       "amy"
      ]
     },
     "execution_count": 13,
     "metadata": {},
     "output_type": "execute_result"
    }
   ],
   "source": [
    "class Customer:\n",
    "    def __init__(self, name):\n",
    "        self.name = name\n",
    "        \n",
    "    def __repr__(self):\n",
    "        return self.name\n",
    "c = Customer('amy')\n",
    "c"
   ]
  },
  {
   "cell_type": "code",
   "execution_count": 17,
   "id": "1aab1544-2b10-413e-b8ec-d35e2e8bd56a",
   "metadata": {},
   "outputs": [
    {
     "data": {
      "text/plain": [
       "Customer(amy)"
      ]
     },
     "execution_count": 17,
     "metadata": {},
     "output_type": "execute_result"
    }
   ],
   "source": [
    "class Customer:\n",
    "    def __init__(self, name):\n",
    "        self.name = name\n",
    "        \n",
    "    def __repr__(self):\n",
    "        return f'Customer({self.name})' ### Customer(객체이름) > 훨씬 직관적임\n",
    "c = Customer('amy')\n",
    "c"
   ]
  },
  {
   "cell_type": "code",
   "execution_count": 18,
   "id": "f18a9d02-f6ba-4e4b-bea5-6f368834163b",
   "metadata": {},
   "outputs": [
    {
     "name": "stdout",
     "output_type": "stream",
     "text": [
      "Customer(amy)\n"
     ]
    }
   ],
   "source": [
    "print(c)"
   ]
  },
  {
   "cell_type": "code",
   "execution_count": 19,
   "id": "2abe46db-7b38-4bef-ac6a-4b1b49b417dc",
   "metadata": {},
   "outputs": [
    {
     "data": {
      "text/plain": [
       "'Customer(amy)'"
      ]
     },
     "execution_count": 19,
     "metadata": {},
     "output_type": "execute_result"
    }
   ],
   "source": [
    "repr(c)"
   ]
  },
  {
   "cell_type": "markdown",
   "id": "20a24db7-1c09-4ccc-8591-ad437bf2838a",
   "metadata": {},
   "source": [
    "### NamedTuple, DataClass\n",
    "- 객체보다 효율적임 (간단한 속성만 가진 클래스일 경우 활용)\n",
    "- 딕셔너리의 키처럼 사용 가능하다"
   ]
  },
  {
   "cell_type": "code",
   "execution_count": 5,
   "id": "2c93b9f0-7fdb-499c-ba12-c6d994b804cd",
   "metadata": {},
   "outputs": [
    {
     "data": {
      "text/plain": [
       "('jay', 22)"
      ]
     },
     "execution_count": 5,
     "metadata": {},
     "output_type": "execute_result"
    }
   ],
   "source": [
    "from collections import namedtuple\n",
    "\n",
    "Customer = namedtuple('Customer', 'name age')\n",
    "a = Customer('jay', 22)\n",
    "a.name, a.age # 효율적"
   ]
  },
  {
   "cell_type": "code",
   "execution_count": 6,
   "id": "54479950-e221-41ec-8bc0-fe39c8765f58",
   "metadata": {},
   "outputs": [
    {
     "ename": "ModuleNotFoundError",
     "evalue": "No module named 'dataclass'",
     "output_type": "error",
     "traceback": [
      "\u001b[1;31m---------------------------------------------------------------------------\u001b[0m",
      "\u001b[1;31mModuleNotFoundError\u001b[0m                       Traceback (most recent call last)",
      "\u001b[1;32mC:\\Users\\Public\\Documents\\ESTsoft\\CreatorTemp/ipykernel_18412/1000418122.py\u001b[0m in \u001b[0;36m<module>\u001b[1;34m\u001b[0m\n\u001b[1;32m----> 1\u001b[1;33m \u001b[1;32mfrom\u001b[0m \u001b[0mdataclass\u001b[0m \u001b[1;32mimport\u001b[0m \u001b[0mdataclass\u001b[0m\u001b[1;33m\u001b[0m\u001b[1;33m\u001b[0m\u001b[0m\n\u001b[0m\u001b[0;32m      2\u001b[0m \u001b[1;31m# 3.7 이상에서만 가능\u001b[0m\u001b[1;33m\u001b[0m\u001b[1;33m\u001b[0m\u001b[0m\n\u001b[0;32m      3\u001b[0m \u001b[1;33m\u001b[0m\u001b[0m\n\u001b[0;32m      4\u001b[0m \u001b[1;33m@\u001b[0m\u001b[0mdataclass\u001b[0m\u001b[1;33m\u001b[0m\u001b[1;33m\u001b[0m\u001b[0m\n\u001b[0;32m      5\u001b[0m \u001b[1;32mclass\u001b[0m \u001b[0mCustomer\u001b[0m\u001b[1;33m:\u001b[0m\u001b[1;33m\u001b[0m\u001b[1;33m\u001b[0m\u001b[0m\n",
      "\u001b[1;31mModuleNotFoundError\u001b[0m: No module named 'dataclass'"
     ]
    }
   ],
   "source": [
    "from dataclass import dataclass\n",
    "# 3.7 이상에서만 가능\n",
    "\n",
    "@dataclass\n",
    "class Customer:\n",
    "    name: str\n",
    "    age: int\n",
    "    \n",
    "b = Customer('name', 12)\n",
    "b.name, b.age"
   ]
  },
  {
   "cell_type": "markdown",
   "id": "73020bc5-e409-412b-9c91-50c671fc48f8",
   "metadata": {},
   "source": [
    "### 함수 II\n",
    "- *, **\n",
    "- 일급객체\n",
    "- 내부함수, 클로저\n",
    "- 익명함수\n",
    "- 제너레이터\n",
    "- 재귀함수"
   ]
  },
  {
   "cell_type": "markdown",
   "id": "95a0e995-6a6d-4c5f-bac7-6e8790477aef",
   "metadata": {},
   "source": [
    "asterisk: *\n"
   ]
  },
  {
   "cell_type": "code",
   "execution_count": 7,
   "id": "b777c521-8e5f-4490-b37d-0959ae7d0df9",
   "metadata": {},
   "outputs": [
    {
     "name": "stdout",
     "output_type": "stream",
     "text": [
      "(1, 2, 3, 4)\n"
     ]
    }
   ],
   "source": [
    "def print_arg(*args): # 여러개의 인자 => 패킹(하나로 묶어줌)\n",
    "    print(args)\n",
    "    \n",
    "print_arg(1, 2, 3, 4)# 무한으로 받을 수 있음"
   ]
  },
  {
   "cell_type": "code",
   "execution_count": 8,
   "id": "f74ce8e3-d537-4368-becc-ac582b23c2d4",
   "metadata": {},
   "outputs": [
    {
     "name": "stdout",
     "output_type": "stream",
     "text": [
      "1 2 3 4\n"
     ]
    }
   ],
   "source": [
    "def print_arg(*args): \n",
    "    print(*args) #언패킹\n",
    "    \n",
    "print_arg(1, 2, 3, 4)"
   ]
  },
  {
   "cell_type": "code",
   "execution_count": 9,
   "id": "9d9248e2-e38d-4acb-a1a8-4d37e01bc493",
   "metadata": {},
   "outputs": [
    {
     "name": "stdout",
     "output_type": "stream",
     "text": [
      "1 2\n",
      "optional\n"
     ]
    }
   ],
   "source": [
    "def print_more(num1, num2, *args):\n",
    "    print(num1, num2)\n",
    "    print(*args, 'optional')\n",
    "    \n",
    "print_more(1, 2)"
   ]
  },
  {
   "cell_type": "code",
   "execution_count": 10,
   "id": "b80fd011-01d9-4838-a3d3-52dd1069e079",
   "metadata": {},
   "outputs": [
    {
     "name": "stdout",
     "output_type": "stream",
     "text": [
      "0 1 2 3\n"
     ]
    }
   ],
   "source": [
    "empty = list(range(4))\n",
    "print(*empty) # 언패킹"
   ]
  },
  {
   "cell_type": "code",
   "execution_count": 11,
   "id": "21a62261-0e6b-4702-ab4c-7536a3437d01",
   "metadata": {},
   "outputs": [
    {
     "name": "stdout",
     "output_type": "stream",
     "text": [
      "(1, 3)\n",
      "(2, 4)\n"
     ]
    }
   ],
   "source": [
    "# 행렬, 테이블 데이터\n",
    "matrix = [\n",
    "    [1, 2], \n",
    "    [3, 4]\n",
    "]\n",
    "# 1, 3 / 2, 4 (열만 타고 싶다)\n",
    "for item in zip(*matrix):\n",
    "    print(item)"
   ]
  },
  {
   "cell_type": "code",
   "execution_count": 12,
   "id": "f17396ef-239f-42ae-82fa-7f148da024cf",
   "metadata": {},
   "outputs": [
    {
     "name": "stdout",
     "output_type": "stream",
     "text": [
      "(1, 3, 5)\n",
      "(2, 4, 6)\n",
      "(0, 7, 8)\n"
     ]
    }
   ],
   "source": [
    "# zip 이해\n",
    "for item in zip([1, 2, 0], [3, 4, 7], [5, 6, 8]):\n",
    "    print(item)"
   ]
  },
  {
   "cell_type": "code",
   "execution_count": 14,
   "id": "a5ddfc1a-6a71-48d7-826f-be67a5f44f80",
   "metadata": {},
   "outputs": [
    {
     "name": "stdout",
     "output_type": "stream",
     "text": [
      "0\n",
      "1\n",
      "2\n"
     ]
    }
   ],
   "source": [
    "# 키워드 전용 인수 선언 시 사용\n",
    "def print_data(data, *, start, end):\n",
    "    for item in data[start:end]:\n",
    "        print(item)\n",
    "        \n",
    "# print_data(empty, 0, 3)> 오류\n",
    "print_data(empty, start=0, end=3)"
   ]
  },
  {
   "cell_type": "markdown",
   "id": "fd7e2358-1b3c-4ec1-9ad0-bd9a08b7f9c4",
   "metadata": {},
   "source": [
    "#### kargs : **"
   ]
  },
  {
   "cell_type": "code",
   "execution_count": 15,
   "id": "003f0d2a-6e8c-421c-9a59-871c023af396",
   "metadata": {},
   "outputs": [
    {
     "name": "stdout",
     "output_type": "stream",
     "text": [
      "{'wine': 'crianza', 'dring': 'orange'}\n"
     ]
    }
   ],
   "source": [
    "def print_kargs(**kargs): # 키: 값 => 딕셔너리로 변호나\n",
    "    print(kargs)\n",
    "   #print(**kargs)\n",
    "\n",
    "print_kargs(wine='crianza', dring='orange')"
   ]
  },
  {
   "cell_type": "code",
   "execution_count": 17,
   "id": "ded15419-c65f-4e03-b5e1-76f1b592f024",
   "metadata": {},
   "outputs": [
    {
     "name": "stdout",
     "output_type": "stream",
     "text": [
      "{'wine': 'a', 'drink': 'water'}\n",
      "{'wine': 'b', 'drink': 'water'}\n",
      "{'wine': 'c', 'drink': 'water'}\n"
     ]
    }
   ],
   "source": [
    "# 활용 > 원하는 딕셔너리 생성\n",
    "for wine in ['a', 'b', 'c']:\n",
    "    print_kargs(wine=wine, drink='water')"
   ]
  },
  {
   "cell_type": "code",
   "execution_count": 19,
   "id": "0b4da04b-f6ff-49b7-ad48-09642e740b0e",
   "metadata": {},
   "outputs": [
    {
     "name": "stdout",
     "output_type": "stream",
     "text": [
      "1 2\n",
      "12\n",
      "{'num': 3}\n"
     ]
    }
   ],
   "source": [
    "def print_all(num1, num2, *args, **kargs):\n",
    "    print(num1, num2)\n",
    "    print(sum(args))\n",
    "    print(kargs)\n",
    "    \n",
    "# print_all(1, 2, 3, 4, 5, num1=3, num2=3) > 오류발생\n",
    "print_all(1, 2, 3, 4, 5, num=3)"
   ]
  },
  {
   "cell_type": "code",
   "execution_count": 20,
   "id": "164e9e13-d1d6-4760-bd5d-af99fcd97e20",
   "metadata": {},
   "outputs": [],
   "source": [
    "# 딕셔너리 조인\n",
    "a = {1: 'a', 2: 'b'}\n",
    "b = {2: 'c', 3: 'd'}\n",
    "c = {**a, **b}"
   ]
  }
 ],
 "metadata": {
  "kernelspec": {
   "display_name": "Python 3 (ipykernel)",
   "language": "python",
   "name": "python3"
  },
  "language_info": {
   "codemirror_mode": {
    "name": "ipython",
    "version": 3
   },
   "file_extension": ".py",
   "mimetype": "text/x-python",
   "name": "python",
   "nbconvert_exporter": "python",
   "pygments_lexer": "ipython3",
   "version": "3.9.7"
  }
 },
 "nbformat": 4,
 "nbformat_minor": 5
}
