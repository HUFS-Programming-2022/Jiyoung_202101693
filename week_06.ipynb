{
 "cells": [
  {
   "cell_type": "markdown",
   "id": "85aaa936-2c00-4831-ba88-9b40cd7929b3",
   "metadata": {},
   "source": [
    "## week_06"
   ]
  },
  {
   "cell_type": "markdown",
   "id": "69b45451-3988-456e-9a8a-cf3f1556c95e",
   "metadata": {},
   "source": [
    "## nltk lnaugural"
   ]
  },
  {
   "cell_type": "code",
   "execution_count": 1,
   "id": "d98d260b-8369-4065-a57a-776430aa93b0",
   "metadata": {},
   "outputs": [
    {
     "name": "stderr",
     "output_type": "stream",
     "text": [
      "[nltk_data] Downloading package brown to\n",
      "[nltk_data]     C:\\Users\\Ativ\\AppData\\Roaming\\nltk_data...\n",
      "[nltk_data]   Package brown is already up-to-date!\n",
      "[nltk_data] Downloading package inaugural to\n",
      "[nltk_data]     C:\\Users\\Ativ\\AppData\\Roaming\\nltk_data...\n",
      "[nltk_data]   Package inaugural is already up-to-date!\n"
     ]
    },
    {
     "data": {
      "text/plain": [
       "True"
      ]
     },
     "execution_count": 1,
     "metadata": {},
     "output_type": "execute_result"
    }
   ],
   "source": [
    "import nltk\n",
    "\n",
    "nltk.download(['brown', 'inaugural'])"
   ]
  },
  {
   "cell_type": "code",
   "execution_count": 2,
   "id": "c20f37d2-7a78-452a-9ace-136470204b39",
   "metadata": {},
   "outputs": [],
   "source": [
    "brown = nltk.corpus.brown"
   ]
  },
  {
   "cell_type": "code",
   "execution_count": 3,
   "id": "0e71ffb1-94cc-492b-bd13-b135eb8615eb",
   "metadata": {},
   "outputs": [
    {
     "name": "stderr",
     "output_type": "stream",
     "text": [
      "[nltk_data] Downloading package brown to\n",
      "[nltk_data]     C:\\Users\\Ativ\\AppData\\Roaming\\nltk_data...\n",
      "[nltk_data]   Package brown is already up-to-date!\n",
      "[nltk_data] Downloading package gutenberg to\n",
      "[nltk_data]     C:\\Users\\Ativ\\AppData\\Roaming\\nltk_data...\n",
      "[nltk_data]   Package gutenberg is already up-to-date!\n",
      "[nltk_data] Downloading package inaugural to\n",
      "[nltk_data]     C:\\Users\\Ativ\\AppData\\Roaming\\nltk_data...\n",
      "[nltk_data]   Package inaugural is already up-to-date!\n"
     ]
    },
    {
     "data": {
      "text/plain": [
       "True"
      ]
     },
     "execution_count": 3,
     "metadata": {},
     "output_type": "execute_result"
    }
   ],
   "source": [
    "nltk.download(['brown', 'gutenberg', 'inaugural'])"
   ]
  },
  {
   "cell_type": "code",
   "execution_count": 3,
   "id": "11798152-2e58-48de-a018-3712612c8f29",
   "metadata": {},
   "outputs": [
    {
     "name": "stdout",
     "output_type": "stream",
     "text": [
      "                  can could would  will might   may \n",
      "      adventure    46   151   191    50    58     5 \n",
      " belles_lettres   246   213   392   236   113   207 \n",
      "      editorial   121    56   180   233    39    74 \n",
      "        fiction    37   166   287    52    44     8 \n",
      "     government   117    38   120   244    13   153 \n",
      "        hobbies   268    58    78   264    22   131 \n",
      "          humor    16    30    56    13     8     8 \n",
      "        learned   365   159   319   340   128   324 \n",
      "           lore   170   141   186   175    49   165 \n",
      "        mystery    42   141   186    20    57    13 \n",
      "           news    93    86   244   389    38    66 \n",
      "       religion    82    59    68    71    12    78 \n",
      "        reviews    45    40    47    58    26    45 \n",
      "        romance    74   193   244    43    51    11 \n",
      "science_fiction    16    49    79    16    12     4 \n"
     ]
    }
   ],
   "source": [
    "# cfd 어떤 컨디션을 정해 그 컨디션에 맞는 빈도수를 설정\n",
    "cfd = nltk.ConditionalFreqDist(\n",
    "    (genre, word)\n",
    "    for genre in brown.categories()\n",
    "    for word in brown.words(categories=genre) # fileids\n",
    ")\n",
    "\n",
    "modals = ['can', 'could', 'would', 'will', 'might', 'may']\n",
    "cfd.tabulate(conditions=brown.categories(), samples=modals)"
   ]
  },
  {
   "cell_type": "code",
   "execution_count": 12,
   "id": "432b9385-71b6-4f7d-b143-cfe109c3a044",
   "metadata": {},
   "outputs": [
    {
     "name": "stdout",
     "output_type": "stream",
     "text": [
      "                  can could   may might  will would \n",
      "      adventure    48   154     7    59    51   194 \n",
      " belles_lettres   249   216   221   113   246   397 \n",
      "      editorial   124    57    79    39   235   185 \n",
      "        fiction    39   168    10    44    56   291 \n",
      "     government   119    38   179    13   244   120 \n",
      "        hobbies   276    59   143    22   269    83 \n",
      "          humor    17    33     8     8    13    56 \n",
      "        learned   367   159   336   128   340   321 \n",
      "           lore   170   142   170    50   178   188 \n",
      "        mystery    45   145    15    57    25   189 \n",
      "           news    94    87    93    38   389   246 \n",
      "       religion    84    59    79    12    72    69 \n",
      "        reviews    45    40    47    26    61    48 \n",
      "        romance    79   195    11    51    49   247 \n",
      "science_fiction    16    49     4    12    17    80 \n"
     ]
    }
   ],
   "source": [
    "# modals의 빈도수가 포함된 cfd ( word -> modal_verb)\n",
    "cfd1 = nltk.ConditionalFreqDist(\n",
    "    (genre, modal)\n",
    "    for genre in brown.categories()\n",
    "    for modal in ['can', 'could', 'would', 'will', 'might', 'may'] # 컨디션 한정\n",
    "    \n",
    "    for word in brown.words(categories=genre)\n",
    "        if word.lower() == modal\n",
    ")\n",
    "cfd1.tabulate()"
   ]
  },
  {
   "cell_type": "code",
   "execution_count": 4,
   "id": "067f55bf-e136-42a4-b0c6-04aac4155216",
   "metadata": {},
   "outputs": [
    {
     "name": "stdout",
     "output_type": "stream",
     "text": [
      "Requirement already satisfied: matplotlib in c:\\programdata\\anaconda3\\lib\\site-packages (3.4.3)\n",
      "Requirement already satisfied: python-dateutil>=2.7 in c:\\programdata\\anaconda3\\lib\\site-packages (from matplotlib) (2.8.2)\n",
      "Requirement already satisfied: numpy>=1.16 in c:\\programdata\\anaconda3\\lib\\site-packages (from matplotlib) (1.20.3)\n",
      "Requirement already satisfied: pillow>=6.2.0 in c:\\programdata\\anaconda3\\lib\\site-packages (from matplotlib) (8.4.0)\n",
      "Requirement already satisfied: kiwisolver>=1.0.1 in c:\\programdata\\anaconda3\\lib\\site-packages (from matplotlib) (1.3.1)\n",
      "Requirement already satisfied: cycler>=0.10 in c:\\programdata\\anaconda3\\lib\\site-packages (from matplotlib) (0.10.0)\n",
      "Requirement already satisfied: pyparsing>=2.2.1 in c:\\programdata\\anaconda3\\lib\\site-packages (from matplotlib) (3.0.4)\n",
      "Requirement already satisfied: six in c:\\programdata\\anaconda3\\lib\\site-packages (from cycler>=0.10->matplotlib) (1.16.0)\n"
     ]
    },
    {
     "ename": "NameError",
     "evalue": "name 'cfd1' is not defined",
     "output_type": "error",
     "traceback": [
      "\u001b[1;31m---------------------------------------------------------------------------\u001b[0m",
      "\u001b[1;31mNameError\u001b[0m                                 Traceback (most recent call last)",
      "\u001b[1;32mC:\\Users\\Public\\Documents\\ESTsoft\\CreatorTemp/ipykernel_10220/242447667.py\u001b[0m in \u001b[0;36m<module>\u001b[1;34m\u001b[0m\n\u001b[0;32m      2\u001b[0m \u001b[1;32mimport\u001b[0m \u001b[0mmatplotlib\u001b[0m\u001b[1;33m.\u001b[0m\u001b[0mpyplot\u001b[0m \u001b[1;32mas\u001b[0m \u001b[0mplt\u001b[0m\u001b[1;33m\u001b[0m\u001b[1;33m\u001b[0m\u001b[0m\n\u001b[0;32m      3\u001b[0m \u001b[0mplt\u001b[0m\u001b[1;33m.\u001b[0m\u001b[0mfigure\u001b[0m\u001b[1;33m(\u001b[0m\u001b[0mfigsize\u001b[0m\u001b[1;33m=\u001b[0m\u001b[1;33m(\u001b[0m\u001b[1;36m12\u001b[0m\u001b[1;33m,\u001b[0m\u001b[1;36m5\u001b[0m\u001b[1;33m)\u001b[0m\u001b[1;33m)\u001b[0m\u001b[1;33m\u001b[0m\u001b[1;33m\u001b[0m\u001b[0m\n\u001b[1;32m----> 4\u001b[1;33m \u001b[0mcfd1\u001b[0m\u001b[1;33m.\u001b[0m\u001b[0mplot\u001b[0m\u001b[1;33m(\u001b[0m\u001b[1;33m)\u001b[0m\u001b[1;33m\u001b[0m\u001b[1;33m\u001b[0m\u001b[0m\n\u001b[0m",
      "\u001b[1;31mNameError\u001b[0m: name 'cfd1' is not defined"
     ]
    },
    {
     "data": {
      "text/plain": [
       "<Figure size 864x360 with 0 Axes>"
      ]
     },
     "metadata": {},
     "output_type": "display_data"
    }
   ],
   "source": [
    "!pip install matplotlib\n",
    "import matplotlib.pyplot as plt\n",
    "plt.figure(figsize=(12,5))\n",
    "cfd1.plot()"
   ]
  },
  {
   "cell_type": "markdown",
   "id": "b3ebbf58-20c8-4e62-ac88-ebc09fe2d079",
   "metadata": {
    "tags": []
   },
   "source": [
    "### inaugural \n",
    "- 연설문 코퍼스"
   ]
  },
  {
   "cell_type": "code",
   "execution_count": 48,
   "id": "91bf4643-a13c-46b2-8b4b-0a1659208eaa",
   "metadata": {},
   "outputs": [],
   "source": [
    "inaugural = nltk.corpus.inaugural"
   ]
  },
  {
   "cell_type": "code",
   "execution_count": 49,
   "id": "75223fbf-6e97-4099-9be8-e0a83daa24b5",
   "metadata": {
    "collapsed": true,
    "jupyter": {
     "outputs_hidden": true
    },
    "tags": []
   },
   "outputs": [
    {
     "data": {
      "text/plain": [
       "['1789-Washington.txt',\n",
       " '1793-Washington.txt',\n",
       " '1797-Adams.txt',\n",
       " '1801-Jefferson.txt',\n",
       " '1805-Jefferson.txt',\n",
       " '1809-Madison.txt',\n",
       " '1813-Madison.txt',\n",
       " '1817-Monroe.txt',\n",
       " '1821-Monroe.txt',\n",
       " '1825-Adams.txt',\n",
       " '1829-Jackson.txt',\n",
       " '1833-Jackson.txt',\n",
       " '1837-VanBuren.txt',\n",
       " '1841-Harrison.txt',\n",
       " '1845-Polk.txt',\n",
       " '1849-Taylor.txt',\n",
       " '1853-Pierce.txt',\n",
       " '1857-Buchanan.txt',\n",
       " '1861-Lincoln.txt',\n",
       " '1865-Lincoln.txt',\n",
       " '1869-Grant.txt',\n",
       " '1873-Grant.txt',\n",
       " '1877-Hayes.txt',\n",
       " '1881-Garfield.txt',\n",
       " '1885-Cleveland.txt',\n",
       " '1889-Harrison.txt',\n",
       " '1893-Cleveland.txt',\n",
       " '1897-McKinley.txt',\n",
       " '1901-McKinley.txt',\n",
       " '1905-Roosevelt.txt',\n",
       " '1909-Taft.txt',\n",
       " '1913-Wilson.txt',\n",
       " '1917-Wilson.txt',\n",
       " '1921-Harding.txt',\n",
       " '1925-Coolidge.txt',\n",
       " '1929-Hoover.txt',\n",
       " '1933-Roosevelt.txt',\n",
       " '1937-Roosevelt.txt',\n",
       " '1941-Roosevelt.txt',\n",
       " '1945-Roosevelt.txt',\n",
       " '1949-Truman.txt',\n",
       " '1953-Eisenhower.txt',\n",
       " '1957-Eisenhower.txt',\n",
       " '1961-Kennedy.txt',\n",
       " '1965-Johnson.txt',\n",
       " '1969-Nixon.txt',\n",
       " '1973-Nixon.txt',\n",
       " '1977-Carter.txt',\n",
       " '1981-Reagan.txt',\n",
       " '1985-Reagan.txt',\n",
       " '1989-Bush.txt',\n",
       " '1993-Clinton.txt',\n",
       " '1997-Clinton.txt',\n",
       " '2001-Bush.txt',\n",
       " '2005-Bush.txt',\n",
       " '2009-Obama.txt',\n",
       " '2013-Obama.txt',\n",
       " '2017-Trump.txt',\n",
       " '2021-Biden.txt']"
      ]
     },
     "execution_count": 49,
     "metadata": {},
     "output_type": "execute_result"
    }
   ],
   "source": [
    "inaugural.fileids() # 연도-이름.txt | 2021-Biden.txt"
   ]
  },
  {
   "cell_type": "code",
   "execution_count": 21,
   "id": "7f4db8a3-a8ae-4a25-89fb-db3d8db5ae69",
   "metadata": {},
   "outputs": [
    {
     "name": "stdout",
     "output_type": "stream",
     "text": [
      "        1793-Washington      1797-Adams     1817-Monroe     1821-Monroe      1825-Adams   1837-VanBuren   1841-Harrison     1853-Pierce   1857-Buchanan    1861-Lincoln      1869-Grant      1873-Grant      1877-Hayes   1881-Garfield  1885-Cleveland   1889-Harrison  1893-Cleveland       1909-Taft     1917-Wilson    1921-Harding   1925-Coolidge     1929-Hoover  1937-Roosevelt  1941-Roosevelt  1945-Roosevelt 1953-Eisenhower 1957-Eisenhower    1961-Kennedy    1965-Johnson      1969-Nixon      1973-Nixon     1977-Carter     1981-Reagan     1985-Reagan       1989-Bush    1993-Clinton    1997-Clinton       2001-Bush       2005-Bush      2009-Obama      2013-Obama      2017-Trump      2021-Biden \n",
      "america               1               5               0               2               0               1               0               0               1               0               0               0               0               1               0               0               0               4               2              15               8               6               1               7               1               3               5               2               3               6              21               2               6               7               7              19              15              11              20              10               8              20              20 \n",
      "citizen               0               1               5               0               1               1              11               1               0               1               2               1               1               2               5               3               3               0               0               0               2               2               1               1               0               3               0               0               3               0               0               0               0               0               1               0               1               1               1               0               2               0               0 \n"
     ]
    }
   ],
   "source": [
    "# ['america', 'citizen'] 빈도수를 cfd로 만드시오.\n",
    "\n",
    "cfd = nltk.ConditionalFreqDist(\n",
    "    (target, fileid[:-4]) #(x, y)\n",
    "    for fileid in inaugural.fileids()\n",
    "    for target in ['america', 'citizen']\n",
    "    \n",
    "    for word in inaugural.words(fileids=fileid)\n",
    "        if word.lower() == target # citizen in citizen's\n",
    "        # if target in word.lower()\n",
    "        # if word.lower().startswith(target)\n",
    ")\n",
    "\n",
    "cfd.tabulate()"
   ]
  },
  {
   "cell_type": "code",
   "execution_count": 29,
   "id": "a2ce2776-dc34-43d7-820c-508a23df9705",
   "metadata": {},
   "outputs": [
    {
     "data": {
      "image/png": "[encoded data removed]",
      "text/plain": [
       "<Figure size 864x360 with 1 Axes>"
      ]
     },
     "metadata": {
      "needs_background": "light"
     },
     "output_type": "display_data"
    },
    {
     "data": {
      "text/plain": [
       "<AxesSubplot:xlabel='Samples', ylabel='Counts'>"
      ]
     },
     "execution_count": 29,
     "metadata": {},
     "output_type": "execute_result"
    }
   ],
   "source": [
    "plt.figure(figsize=(12, 5))\n",
    "cfd.plot()"
   ]
  },
  {
   "cell_type": "markdown",
   "id": "bcd78953-3ea2-4be5-b846-adbb0203f4a9",
   "metadata": {},
   "source": [
    "### Tuple & List\n",
    "- 불변 객체 vs. 가변객체"
   ]
  },
  {
   "cell_type": "code",
   "execution_count": 5,
   "id": "83ac2ffe-99d6-46e6-9a2d-f354651e38b9",
   "metadata": {},
   "outputs": [
    {
     "data": {
      "text/plain": [
       "((), [])"
      ]
     },
     "execution_count": 5,
     "metadata": {},
     "output_type": "execute_result"
    }
   ],
   "source": [
    "# 1. 생성\n",
    "Tuple = ()\n",
    "Tuple = tuple()\n",
    "\n",
    "List = []\n",
    "List = list()\n",
    "\n",
    "Tuple, List"
   ]
  },
  {
   "cell_type": "code",
   "execution_count": 37,
   "id": "f6ec271b-5541-4641-a6c1-5fa3b3dea6c8",
   "metadata": {},
   "outputs": [
    {
     "data": {
      "text/plain": [
       "('a', 'b')"
      ]
     },
     "execution_count": 37,
     "metadata": {},
     "output_type": "execute_result"
    }
   ],
   "source": [
    "#1.1 요소 여러 개일 때\n",
    "alphabetT = ('a', 'b')\n",
    "alphabetT = 'a', 'b' # 괄호 없이도 가능\n",
    "alphabetT\n",
    "\n",
    "alphabetL = ['a', 'b']"
   ]
  },
  {
   "cell_type": "code",
   "execution_count": 8,
   "id": "3177fbb2-9dbc-4b62-ac8d-e3eefa2b7d67",
   "metadata": {},
   "outputs": [
    {
     "data": {
      "text/plain": [
       "(str, tuple)"
      ]
     },
     "execution_count": 8,
     "metadata": {},
     "output_type": "execute_result"
    }
   ],
   "source": [
    "alpstr = ('T') # 하나일 때는 자료형이 변하지 않음 > str\n",
    "\n",
    "alp = ('T',)\n",
    "\n",
    "type(alpstr), type(alp)"
   ]
  },
  {
   "cell_type": "markdown",
   "id": "ad36fa8d-d593-4fbf-9e33-86cf1cb34d01",
   "metadata": {},
   "source": [
    "- packing: 한 변수에 여러 데이터를 할당하는 것.\n",
    "    - list, tuple 자체. a = [1, 2, 3, 4]\n",
    "- unpacking: 한 변수에 여러 데이터가 들어 있을 때 여러 변수에 나누는 것\n",
    "    - n1 = '1', n2 = '2', n3 = '3'"
   ]
  },
  {
   "cell_type": "code",
   "execution_count": 9,
   "id": "3f7adbb2-65b4-42ac-b68c-4d9b9baab859",
   "metadata": {},
   "outputs": [
    {
     "data": {
      "text/plain": [
       "('1', '2', '3')"
      ]
     },
     "execution_count": 9,
     "metadata": {},
     "output_type": "execute_result"
    }
   ],
   "source": [
    "n1, n2, n3 = '123'\n",
    "n1, n2, n3"
   ]
  },
  {
   "cell_type": "code",
   "execution_count": 11,
   "id": "b9668e22-5c09-42d4-a667-57dbe92e0dca",
   "metadata": {},
   "outputs": [
    {
     "data": {
      "text/plain": [
       "('abc', '1234')"
      ]
     },
     "execution_count": 11,
     "metadata": {},
     "output_type": "execute_result"
    }
   ],
   "source": [
    "# 값 교환하기 유용 > tuple\n",
    "pwd = '1234'\n",
    "userId = 'abc'\n",
    "\n",
    "\"\"\"\n",
    "temp1 = userId\n",
    "temp2 = pwd\n",
    "pwd = temp1\n",
    "userId = temp2\n",
    "\"\"\"\n",
    "\n",
    "#튜플의 경우\n",
    "pwd, userId = userId, pwd\n",
    "pwd, userId"
   ]
  },
  {
   "cell_type": "code",
   "execution_count": 16,
   "id": "16076655-2049-45af-8d23-03a57f4594c3",
   "metadata": {},
   "outputs": [
    {
     "data": {
      "text/plain": [
       "(1, 2, 1, 2, 1, 2, 1, 2, 1, 2)"
      ]
     },
     "execution_count": 16,
     "metadata": {},
     "output_type": "execute_result"
    }
   ],
   "source": [
    "# 연산\n",
    "#('ㅅ',) * (1, 2)\n",
    "(1, 2) * 5"
   ]
  },
  {
   "cell_type": "code",
   "execution_count": 21,
   "id": "1e5f7972-ba78-4557-92c1-768e6bf6e878",
   "metadata": {},
   "outputs": [
    {
     "data": {
      "text/plain": [
       "(1400269203824, 1400443749664)"
      ]
     },
     "execution_count": 21,
     "metadata": {},
     "output_type": "execute_result"
    }
   ],
   "source": [
    "a = (3)\n",
    "b = (2, 3)\n",
    "\n",
    "id(a), id(a * b) # id 값이 다름 > 새로운 변수에 할당이 됨"
   ]
  },
  {
   "cell_type": "code",
   "execution_count": 27,
   "id": "27526443-a78a-4833-aef5-73b6705f3ca6",
   "metadata": {},
   "outputs": [
    {
     "data": {
      "text/plain": [
       "True"
      ]
     },
     "execution_count": 27,
     "metadata": {},
     "output_type": "execute_result"
    }
   ],
   "source": [
    "# 비교\n",
    "a = 1, 2\n",
    "y = 4, 5\n",
    "\n",
    "a < b # 첫 인자부터 비교"
   ]
  },
  {
   "cell_type": "code",
   "execution_count": 24,
   "id": "34d135c9-2765-4f0c-9dad-6c784ac898f8",
   "metadata": {},
   "outputs": [
    {
     "name": "stdout",
     "output_type": "stream",
     "text": [
      "(1, 2)\n",
      "(1, 2)\n"
     ]
    }
   ],
   "source": [
    "# 순회\n",
    "for i in a:\n",
    "    print(a)"
   ]
  },
  {
   "cell_type": "code",
   "execution_count": 28,
   "id": "dff7122d-99d7-447a-87fd-cb4e3f94a14d",
   "metadata": {},
   "outputs": [
    {
     "data": {
      "text/plain": [
       "[1, 2]"
      ]
     },
     "execution_count": 28,
     "metadata": {},
     "output_type": "execute_result"
    }
   ],
   "source": [
    "[i for i in a] #1 |리스트로 변환"
   ]
  },
  {
   "cell_type": "code",
   "execution_count": 33,
   "id": "9e068149-e923-4bee-84de-405ec277be60",
   "metadata": {},
   "outputs": [
    {
     "data": {
      "text/plain": [
       "(1, 2)"
      ]
     },
     "execution_count": 33,
     "metadata": {},
     "output_type": "execute_result"
    }
   ],
   "source": [
    "# tuple comprehension??? > 없음\n",
    "tuple([i for i in a]) #2 | list comprehension을 튜플로 변경\n",
    "*[i for i in a], #3| 느림, 튜플로 변경"
   ]
  },
  {
   "cell_type": "code",
   "execution_count": 37,
   "id": "35a4cdc3-805e-48ae-8bd3-29f9b12995e4",
   "metadata": {},
   "outputs": [
    {
     "data": {
      "text/plain": [
       "(('c', 'a', 't'), 'cat')"
      ]
     },
     "execution_count": 37,
     "metadata": {},
     "output_type": "execute_result"
    }
   ],
   "source": [
    "# 형변환\n",
    "cat = 'cat'\n",
    "catT = tuple(cat)\n",
    "catT, (cat)"
   ]
  },
  {
   "cell_type": "code",
   "execution_count": 34,
   "id": "c91434c4-9922-46af-a819-24269499daa9",
   "metadata": {},
   "outputs": [
    {
     "data": {
      "text/plain": [
       "(('cat',), ('cat',))"
      ]
     },
     "execution_count": 34,
     "metadata": {},
     "output_type": "execute_result"
    }
   ],
   "source": [
    "(cat,), ('cat',)"
   ]
  },
  {
   "cell_type": "code",
   "execution_count": 36,
   "id": "3422317b-1f79-44e3-9545-9bd0b293fa44",
   "metadata": {},
   "outputs": [
    {
     "data": {
      "text/plain": [
       "(['c', 'a', 't'], ['cat'])"
      ]
     },
     "execution_count": 36,
     "metadata": {},
     "output_type": "execute_result"
    }
   ],
   "source": [
    "list(cat), [cat]"
   ]
  },
  {
   "cell_type": "code",
   "execution_count": 38,
   "id": "081f01f2-0a33-4e5b-acba-50aeac381860",
   "metadata": {},
   "outputs": [
    {
     "data": {
      "text/plain": [
       "'t'"
      ]
     },
     "execution_count": 38,
     "metadata": {},
     "output_type": "execute_result"
    }
   ],
   "source": [
    "# slicing도 동일하게 가능하다\n",
    "catT[2]"
   ]
  },
  {
   "cell_type": "markdown",
   "id": "2ffa9cd2-30eb-40c7-8aed-a00b82274a4e",
   "metadata": {},
   "source": [
    "[정리]\n",
    "- tuple 장점\n",
    "    - 변하지 않는 데이터 시퀀스를 만들 수 있다. 타인의 접근을 막는다\n",
    "        - blue=1, white=2, ...\n",
    "    - 메모리 사용이 적다\n",
    "    \n",
    "- list 장점\n",
    "    - 튜플 장점 필요없을 때 전부 리스트 사용\n",
    "    - 데이터를 순차적으로 파악할 때\n",
    "    - 중복 데이터를 쓸 수 있다는 점vs.set"
   ]
  },
  {
   "cell_type": "markdown",
   "id": "284edac4-2341-485b-8b02-62a00b48d18b",
   "metadata": {},
   "source": [
    "### 리스트의 유용한 함수들\n",
    "- 변경, 삭제, 추가\n",
    "- 리스트컴프리헨션 업그레이드"
   ]
  },
  {
   "cell_type": "code",
   "execution_count": 1,
   "id": "48d4fcb2-1b9b-42ce-be7b-82d23f3f4bb2",
   "metadata": {},
   "outputs": [
    {
     "data": {
      "text/plain": [
       "[0, 1, 2, 3, 4]"
      ]
     },
     "execution_count": 1,
     "metadata": {},
     "output_type": "execute_result"
    }
   ],
   "source": [
    "numL = list(range(5))\n",
    "numL"
   ]
  },
  {
   "cell_type": "code",
   "execution_count": 2,
   "id": "07fca128-14d0-4847-b6e9-b71fca97b599",
   "metadata": {},
   "outputs": [],
   "source": [
    "# 추가 \n",
    "numL.append(7)"
   ]
  },
  {
   "cell_type": "code",
   "execution_count": 3,
   "id": "01c97ae4-57c0-4274-b584-c7890f0a1644",
   "metadata": {},
   "outputs": [
    {
     "data": {
      "text/plain": [
       "[8, 0, 1, 2, 3, 4, 5]"
      ]
     },
     "execution_count": 3,
     "metadata": {},
     "output_type": "execute_result"
    }
   ],
   "source": [
    "# insert(index, item)\n",
    "num = list(range(6))\n",
    "num.insert(0, 8)\n",
    "num"
   ]
  },
  {
   "cell_type": "code",
   "execution_count": 6,
   "id": "bab4f8db-b094-4afc-8c9c-db88659b1658",
   "metadata": {},
   "outputs": [
    {
     "data": {
      "text/plain": [
       "([8, 0, 1, 2, 3, 4, 5, 2, 3, 4, 2, 3, 4], [0, 1, 2, 3, 4, 7, [2, 3, 4]])"
      ]
     },
     "execution_count": 6,
     "metadata": {},
     "output_type": "execute_result"
    }
   ],
   "source": [
    "# 여러 개 추가\n",
    "x = [2, 3, 4]\n",
    "num.extend(x)\n",
    "numL.append(x)\n",
    "num, numL"
   ]
  },
  {
   "cell_type": "code",
   "execution_count": 8,
   "id": "f66c6f90-901d-4566-ab54-da587d6b15f8",
   "metadata": {},
   "outputs": [
    {
     "data": {
      "text/plain": [
       "[8, 0, 1, 2, 3, 4, 5, 2, 3, 4, 2, 3, 4, 2, 3, 4, 2, 3, 4]"
      ]
     },
     "execution_count": 8,
     "metadata": {},
     "output_type": "execute_result"
    }
   ],
   "source": [
    "num += x # extend()와 동일한 방법\n",
    "num"
   ]
  },
  {
   "cell_type": "code",
   "execution_count": 9,
   "id": "6601eb0d-d7b4-4e93-bcab-cb27bee7d00d",
   "metadata": {},
   "outputs": [
    {
     "data": {
      "text/plain": [
       "[2, 2, 2, 2, 3, 4, 5, 2, 3, 4, 2, 3, 4, 2, 3, 4, 2, 3, 4]"
      ]
     },
     "execution_count": 9,
     "metadata": {},
     "output_type": "execute_result"
    }
   ],
   "source": [
    "# slicing\n",
    "num[:3] = 2, 2, 2\n",
    "num"
   ]
  },
  {
   "cell_type": "code",
   "execution_count": 10,
   "id": "aca83b68-fecf-41e0-81bc-6a47326a49cf",
   "metadata": {
    "tags": []
   },
   "outputs": [
    {
     "data": {
      "text/plain": [
       "['a', 'b', 'c', 2, 3, 4, 5, 2, 3, 4, 2, 3, 4, 2, 3, 4, 2, 3, 4]"
      ]
     },
     "execution_count": 10,
     "metadata": {},
     "output_type": "execute_result"
    }
   ],
   "source": [
    "num[:3] = 'abc'\n",
    "num"
   ]
  },
  {
   "cell_type": "code",
   "execution_count": 12,
   "id": "95d76a16-815d-4df0-a204-094a2779a938",
   "metadata": {},
   "outputs": [
    {
     "data": {
      "text/plain": [
       "[5, 2, 3, 4, 2, 3, 4, 2, 3, 4, 2, 3, 4]"
      ]
     },
     "execution_count": 12,
     "metadata": {},
     "output_type": "execute_result"
    }
   ],
   "source": [
    "# 삭제 \n",
    "del num[:3]\n",
    "num"
   ]
  },
  {
   "cell_type": "code",
   "execution_count": 14,
   "id": "18ab7726-efc2-4790-aa3d-6ea266ae7e97",
   "metadata": {},
   "outputs": [
    {
     "data": {
      "text/plain": [
       "[5, 2, 3, 2, 3, 2, 3, 4, 2, 3, 4]"
      ]
     },
     "execution_count": 14,
     "metadata": {},
     "output_type": "execute_result"
    }
   ],
   "source": [
    "# remove(value)\n",
    "num.remove(4)\n",
    "num"
   ]
  },
  {
   "cell_type": "code",
   "execution_count": 15,
   "id": "2e71e361-9f95-4bd0-91d7-94dd8e6545ef",
   "metadata": {},
   "outputs": [
    {
     "data": {
      "text/plain": [
       "[5, 2, 3, 2, 3, 2, 3, 4, 2, 3]"
      ]
     },
     "execution_count": 15,
     "metadata": {},
     "output_type": "execute_result"
    }
   ],
   "source": [
    "# pop(index) | 기본값: -1\n",
    "num.pop()\n",
    "num"
   ]
  },
  {
   "cell_type": "code",
   "execution_count": 17,
   "id": "61b0aee1-6ebb-461f-bc89-bed906b62dc3",
   "metadata": {},
   "outputs": [
    {
     "data": {
      "text/plain": [
       "[3, 2, 3, 2, 3, 4, 2, 3]"
      ]
     },
     "execution_count": 17,
     "metadata": {},
     "output_type": "execute_result"
    }
   ],
   "source": [
    "num.pop(0)\n",
    "num"
   ]
  },
  {
   "cell_type": "code",
   "execution_count": 18,
   "id": "7a237eac-a9b7-4f51-ab83-6a5ae43e8e65",
   "metadata": {},
   "outputs": [
    {
     "data": {
      "text/plain": [
       "[]"
      ]
     },
     "execution_count": 18,
     "metadata": {},
     "output_type": "execute_result"
    }
   ],
   "source": [
    "# clear \n",
    "num.clear()\n",
    "num"
   ]
  },
  {
   "cell_type": "code",
   "execution_count": 19,
   "id": "892d527f-b0d8-4c07-8c93-ba27b293dc2f",
   "metadata": {},
   "outputs": [
    {
     "data": {
      "text/plain": [
       "4"
      ]
     },
     "execution_count": 19,
     "metadata": {},
     "output_type": "execute_result"
    }
   ],
   "source": [
    "# 인덱스\n",
    "num = list(range(7))\n",
    "num.index(4)"
   ]
  },
  {
   "cell_type": "code",
   "execution_count": 21,
   "id": "cd6f56ad-92fe-44d2-bb55-fb7676b6a4aa",
   "metadata": {},
   "outputs": [
    {
     "data": {
      "text/plain": [
       "False"
      ]
     },
     "execution_count": 21,
     "metadata": {},
     "output_type": "execute_result"
    }
   ],
   "source": [
    "7 in num"
   ]
  },
  {
   "cell_type": "code",
   "execution_count": 22,
   "id": "a43749c2-839d-4fb9-b586-45f0b3f864e2",
   "metadata": {},
   "outputs": [
    {
     "data": {
      "text/plain": [
       "[6, 5, 4, 3, 2, 1, 0]"
      ]
     },
     "execution_count": 22,
     "metadata": {},
     "output_type": "execute_result"
    }
   ],
   "source": [
    "# 정렬: sort(), sorted()\n",
    "sorted(num, reverse=True) # 변한 값만 복사해서 출력"
   ]
  },
  {
   "cell_type": "code",
   "execution_count": 24,
   "id": "868db77e-e7ee-40b1-a04b-1b15da2c8e40",
   "metadata": {},
   "outputs": [
    {
     "data": {
      "text/plain": [
       "[6, 5, 4, 3, 2, 1, 0]"
      ]
     },
     "execution_count": 24,
     "metadata": {},
     "output_type": "execute_result"
    }
   ],
   "source": [
    "num.sort(reverse=True) # 리스트.sort(), 값을 할당하지 않아도 된다.\n",
    "num"
   ]
  },
  {
   "cell_type": "code",
   "execution_count": 32,
   "id": "a9ef3bda-2c4a-48e6-bf40-34cd79b9313b",
   "metadata": {},
   "outputs": [
    {
     "data": {
      "text/plain": [
       "[0, 1, 2, 3, 4, 5, 6]"
      ]
     },
     "execution_count": 32,
     "metadata": {},
     "output_type": "execute_result"
    }
   ],
   "source": [
    "# reverse(), reversed()\n",
    "num.reverse()\n",
    "num"
   ]
  },
  {
   "cell_type": "code",
   "execution_count": 30,
   "id": "4137cbfc-8377-4786-8bf7-ccb0eb26b04d",
   "metadata": {},
   "outputs": [
    {
     "data": {
      "text/plain": [
       "<list_reverseiterator at 0x18e4f17caf0>"
      ]
     },
     "execution_count": 30,
     "metadata": {},
     "output_type": "execute_result"
    }
   ],
   "source": [
    "reversed(num)"
   ]
  },
  {
   "cell_type": "code",
   "execution_count": 7,
   "id": "8a66b028-de45-4f9a-a37a-e10977975582",
   "metadata": {},
   "outputs": [
    {
     "data": {
      "text/plain": [
       "[1, 2, 3, 4, 5, 6]"
      ]
     },
     "execution_count": 7,
     "metadata": {},
     "output_type": "execute_result"
    }
   ],
   "source": [
    "# 할당\n",
    "a = list(range(1, 7))\n",
    "a"
   ]
  },
  {
   "cell_type": "code",
   "execution_count": 8,
   "id": "dcd046f0-18c3-490e-b95d-9e8a05b80862",
   "metadata": {},
   "outputs": [
    {
     "data": {
      "text/plain": [
       "([3, 2, 3, 4, 5, 6], [3, 2, 3, 4, 5, 6])"
      ]
     },
     "execution_count": 8,
     "metadata": {},
     "output_type": "execute_result"
    }
   ],
   "source": [
    "b = a # 메모리주소를 참조하는 것\n",
    "b[0] = 3\n",
    "a, b"
   ]
  },
  {
   "cell_type": "code",
   "execution_count": 9,
   "id": "b5f8a6e4-42cb-4537-95a0-0b1bc9334c27",
   "metadata": {},
   "outputs": [
    {
     "data": {
      "text/plain": [
       "(2879801979584, 2879801979584)"
      ]
     },
     "execution_count": 9,
     "metadata": {},
     "output_type": "execute_result"
    }
   ],
   "source": [
    "id(a), id(b)"
   ]
  },
  {
   "cell_type": "code",
   "execution_count": 10,
   "id": "915430e4-6c19-4646-9f85-66e2a6d83cbc",
   "metadata": {},
   "outputs": [
    {
     "data": {
      "text/plain": [
       "(2879801979584, 2879887551488, 2879886936384, 2879887201472)"
      ]
     },
     "execution_count": 10,
     "metadata": {},
     "output_type": "execute_result"
    }
   ],
   "source": [
    "# shallow copy: 참조하지 않고 새로운 객체에 할당하는 방법. 앞은 복사\n",
    "c = a.copy()\n",
    "d = list(a)\n",
    "e = a[:]\n",
    "\n",
    "id(a), id(d), id(c), id(e)"
   ]
  },
  {
   "cell_type": "code",
   "execution_count": 11,
   "id": "6e30da3d-433c-44b4-9bd8-21c3a7c5946e",
   "metadata": {
    "tags": []
   },
   "outputs": [
    {
     "data": {
      "text/plain": [
       "[3, 2, 3, 4, 5, 6, [1, 2, 3]]"
      ]
     },
     "execution_count": 11,
     "metadata": {},
     "output_type": "execute_result"
    }
   ],
   "source": [
    "# deepcopy: 깊은 복사, 하위에 줌첩된 리스트 요소가 안 바뀌도록\n",
    "a.append([1,2,3])\n",
    "a"
   ]
  },
  {
   "cell_type": "code",
   "execution_count": 12,
   "id": "1757c915-3390-44c0-a52e-3660da6ffd1c",
   "metadata": {},
   "outputs": [
    {
     "data": {
      "text/plain": [
       "(2879801979584, 2879857624256)"
      ]
     },
     "execution_count": 12,
     "metadata": {},
     "output_type": "execute_result"
    }
   ],
   "source": [
    "f = a.copy()\n",
    "id(a), id(f)"
   ]
  },
  {
   "cell_type": "code",
   "execution_count": 13,
   "id": "4b92db2e-5c15-47f2-a80a-63ba8b730aca",
   "metadata": {},
   "outputs": [
    {
     "data": {
      "text/plain": [
       "([3, 2, 3, 4, 5, 6, [9, 2, 3]], [3, 2, 3, 4, 5, 6, [9, 2, 3]])"
      ]
     },
     "execution_count": 13,
     "metadata": {},
     "output_type": "execute_result"
    }
   ],
   "source": [
    "f[-1][0] = 9\n",
    "a, f"
   ]
  },
  {
   "cell_type": "code",
   "execution_count": 14,
   "id": "e1104e95-68a3-4e71-92cc-bd7a18ff4a10",
   "metadata": {},
   "outputs": [
    {
     "data": {
      "text/plain": [
       "9"
      ]
     },
     "execution_count": 14,
     "metadata": {},
     "output_type": "execute_result"
    }
   ],
   "source": [
    "f[-1][0] "
   ]
  },
  {
   "cell_type": "code",
   "execution_count": 15,
   "id": "53ee9286-27e3-4408-b904-cebee4d14379",
   "metadata": {},
   "outputs": [
    {
     "data": {
      "text/plain": [
       "[3, 2, 3, 4, 5, 6, [9, 2, 3]]"
      ]
     },
     "execution_count": 15,
     "metadata": {},
     "output_type": "execute_result"
    }
   ],
   "source": [
    "import copy\n",
    "g = copy.deepcopy(a)\n",
    "g"
   ]
  },
  {
   "cell_type": "code",
   "execution_count": 16,
   "id": "71c960d2-25ff-4624-b9de-4c15d384a313",
   "metadata": {},
   "outputs": [
    {
     "data": {
      "text/plain": [
       "([3, 2, 3, 4, 5, 6, [9, 2, 3]], [3, 2, 3, 4, 5, 6, [10, 2, 3]])"
      ]
     },
     "execution_count": 16,
     "metadata": {},
     "output_type": "execute_result"
    }
   ],
   "source": [
    "g[-1][0] = 10\n",
    "a, g"
   ]
  },
  {
   "cell_type": "code",
   "execution_count": 128,
   "id": "83e0bda1-e1c1-4eaf-a741-865e33ed70c2",
   "metadata": {},
   "outputs": [
    {
     "name": "stdout",
     "output_type": "stream",
     "text": [
      "('dog', '7마리')\n",
      "('cat', '4마리')\n",
      "('caw', '12마리')\n"
     ]
    }
   ],
   "source": [
    "# 순회: zip =, enumerate\n",
    "animal = ['dog', 'cat', 'caw']\n",
    "num = ['7마리', '4마리', '12마리']\n",
    "\n",
    "#(animal, num)\n",
    "for item1, item2 in zip(animal, num): # 여러 리스트를 동시에 순환, 하나가 더 많으면 짧은 것 기준으로 순환\n",
    "    print((item1, item2))"
   ]
  },
  {
   "cell_type": "code",
   "execution_count": 19,
   "id": "e96f55c2-1616-43c9-9f18-5804dbc6db40",
   "metadata": {},
   "outputs": [
    {
     "name": "stdout",
     "output_type": "stream",
     "text": [
      "dog 7마리\n",
      "dog 4마리\n",
      "dog 12마리\n",
      "cat 7마리\n",
      "cat 4마리\n",
      "cat 12마리\n",
      "caw 7마리\n",
      "caw 4마리\n",
      "caw 12마리\n"
     ]
    }
   ],
   "source": [
    "for item1 in animal:\n",
    "    for item2 in num:\n",
    "        print(item1, item2)"
   ]
  },
  {
   "cell_type": "code",
   "execution_count": 20,
   "id": "0a2cbfe1-516e-4400-9698-145e4dbbbd70",
   "metadata": {},
   "outputs": [
    {
     "data": {
      "text/plain": [
       "[('dog', '7마리'), ('cat', '4마리'), ('caw', '12마리')]"
      ]
     },
     "execution_count": 20,
     "metadata": {},
     "output_type": "execute_result"
    }
   ],
   "source": [
    "list(zip(animal, num))"
   ]
  },
  {
   "cell_type": "code",
   "execution_count": 21,
   "id": "49909035-7f4e-4e87-ba71-805e772f4344",
   "metadata": {},
   "outputs": [
    {
     "name": "stdout",
     "output_type": "stream",
     "text": [
      "0 dog\n",
      "1 cat\n",
      "2 caw\n"
     ]
    }
   ],
   "source": [
    "# 리스트 + 인덱스 enumerate\n",
    "for idx, item in enumerate(animal):\n",
    "    print(idx, item)"
   ]
  },
  {
   "cell_type": "code",
   "execution_count": 26,
   "id": "e6e192dc-1de6-4ed6-b31f-fe2b6668aecd",
   "metadata": {},
   "outputs": [
    {
     "data": {
      "text/plain": [
       "[('dog', '7마리'), ('cat', '4마리'), ('caw', '12마리')]"
      ]
     },
     "execution_count": 26,
     "metadata": {},
     "output_type": "execute_result"
    }
   ],
   "source": [
    "# 82 line -> 리스트 컴\n",
    "[w for w in zip(animal, num)]\n",
    "[(i, j) for i, j in zip(animal, num)]"
   ]
  },
  {
   "cell_type": "code",
   "execution_count": 17,
   "id": "ada7b472-3ab5-44a6-a383-b87b16ca6185",
   "metadata": {},
   "outputs": [
    {
     "name": "stdout",
     "output_type": "stream",
     "text": [
      "[('kim', 23), ('lee', 57), ('park', 43)]\n"
     ]
    }
   ],
   "source": [
    "# name, age를 이용해서 새로운 리스트를 형성하는데 (이름, 나이), for 문 사용(리.컴 사용 \n",
    "name = ['kim', 'lee', 'park']\n",
    "age = [23, 57, 43]\n",
    "new_list = []\n",
    "\n",
    "for i, j in zip(name, age):\n",
    "    new_list.append((i, j))\n",
    "    \n",
    "print(new_list)"
   ]
  },
  {
   "cell_type": "code",
   "execution_count": 18,
   "id": "bfe6a947-4055-4410-a3ab-398a6ecc536b",
   "metadata": {},
   "outputs": [
    {
     "name": "stdout",
     "output_type": "stream",
     "text": [
      "['kim', 23, 'lee', 57, 'park', 43]\n"
     ]
    }
   ],
   "source": [
    "newlist = []\n",
    "for i, j in zip(name, age):\n",
    "    newlist.extend((i, j))\n",
    "print(newlist)"
   ]
  },
  {
   "cell_type": "code",
   "execution_count": 129,
   "id": "66a00944-3e10-45b0-b84f-22d3e27e0b2f",
   "metadata": {},
   "outputs": [
    {
     "name": "stdout",
     "output_type": "stream",
     "text": [
      "kim 23\n",
      "kim 57\n",
      "kim 43\n",
      "lee 23\n",
      "lee 57\n",
      "lee 43\n",
      "park 23\n",
      "park 57\n",
      "park 43\n",
      "[('kim', 23), ('kim', 57), ('kim', 43), ('lee', 23), ('lee', 57), ('lee', 43), ('park', 23), ('park', 57), ('park', 43)]\n"
     ]
    }
   ],
   "source": [
    "[(i, j) for i, j in zip(animal, num)]\n",
    "\n",
    "# 1. for 문의 리, 컴 으로 바꾸기\n",
    "\"\"\"\n",
    "(name1, age1)\n",
    "(name1, age2)\n",
    "(name1, age3)\n",
    "\"\"\"\n",
    "temp = []\n",
    "for i in name:\n",
    "    for j in age:\n",
    "        print(i, j)\n",
    "        temp.append((i, j))\n",
    "print(temp)"
   ]
  },
  {
   "cell_type": "code",
   "execution_count": 20,
   "id": "9a08f1ad-ee6b-48df-8d1f-384f329bdcd9",
   "metadata": {},
   "outputs": [
    {
     "data": {
      "text/plain": [
       "[('kim', 23),\n",
       " ('kim', 57),\n",
       " ('kim', 43),\n",
       " ('lee', 23),\n",
       " ('lee', 57),\n",
       " ('lee', 43),\n",
       " ('park', 23),\n",
       " ('park', 57),\n",
       " ('park', 43)]"
      ]
     },
     "execution_count": 20,
     "metadata": {},
     "output_type": "execute_result"
    }
   ],
   "source": [
    "[(j, i) for j in name for i in age]"
   ]
  },
  {
   "cell_type": "code",
   "execution_count": 21,
   "id": "5ca58c35-5a7a-4597-b8c8-f43dbf258dd2",
   "metadata": {},
   "outputs": [
    {
     "name": "stdout",
     "output_type": "stream",
     "text": [
      "kim 23\n",
      "kim 57\n",
      "kim 43\n"
     ]
    },
    {
     "ename": "TypeError",
     "evalue": "'list' object is not callable",
     "output_type": "error",
     "traceback": [
      "\u001b[1;31m---------------------------------------------------------------------------\u001b[0m",
      "\u001b[1;31mTypeError\u001b[0m                                 Traceback (most recent call last)",
      "\u001b[1;32mC:\\Users\\Public\\Documents\\ESTsoft\\CreatorTemp/ipykernel_22608/1544506270.py\u001b[0m in \u001b[0;36m<module>\u001b[1;34m\u001b[0m\n\u001b[0;32m      7\u001b[0m         \u001b[0mprint\u001b[0m\u001b[1;33m(\u001b[0m\u001b[0mi\u001b[0m\u001b[1;33m,\u001b[0m \u001b[0mj\u001b[0m\u001b[1;33m)\u001b[0m\u001b[1;33m\u001b[0m\u001b[1;33m\u001b[0m\u001b[0m\n\u001b[0;32m      8\u001b[0m         \u001b[0mempty\u001b[0m\u001b[1;33m.\u001b[0m\u001b[0mappend\u001b[0m\u001b[1;33m(\u001b[0m\u001b[1;33m(\u001b[0m\u001b[0mi\u001b[0m\u001b[1;33m,\u001b[0m \u001b[0mj\u001b[0m\u001b[1;33m)\u001b[0m\u001b[1;33m)\u001b[0m\u001b[1;33m\u001b[0m\u001b[1;33m\u001b[0m\u001b[0m\n\u001b[1;32m----> 9\u001b[1;33m     \u001b[0mout\u001b[0m\u001b[1;33m(\u001b[0m\u001b[0mempty\u001b[0m\u001b[1;33m)\u001b[0m\u001b[1;33m\u001b[0m\u001b[1;33m\u001b[0m\u001b[0m\n\u001b[0m\u001b[0;32m     10\u001b[0m \u001b[1;33m\u001b[0m\u001b[0m\n\u001b[0;32m     11\u001b[0m \u001b[1;33m\u001b[0m\u001b[0m\n",
      "\u001b[1;31mTypeError\u001b[0m: 'list' object is not callable"
     ]
    }
   ],
   "source": [
    "# 2. [i, j]리스트의 리스트로 바꿔보기\n",
    "out = []\n",
    "\n",
    "for i in name:\n",
    "    empty = []\n",
    "    for j in age:\n",
    "        print(i, j)\n",
    "        empty.append((i, j))\n",
    "    out(empty)\n",
    "\n",
    "\n",
    "\"\"\"\n",
    "[[(name1, age1), (name2, age1), (name3, age1)],\n",
    "[(name1, age2), (name2, age2), (name3, age2)],\n",
    "[(name1, age3), (name2, age3), (name3, age3)]]\n",
    "\"\"\""
   ]
  },
  {
   "cell_type": "code",
   "execution_count": null,
   "id": "e865cf39-41ea-44df-91fb-a76a32350717",
   "metadata": {},
   "outputs": [],
   "source": [
    "# 2. [i, j]리스트의 리스트로 바꿔보기"
   ]
  },
  {
   "cell_type": "code",
   "execution_count": 25,
   "id": "795d1b94-7a98-4a4d-b3f5-99368a2175bb",
   "metadata": {},
   "outputs": [
    {
     "name": "stdout",
     "output_type": "stream",
     "text": [
      "kim 23\n",
      "kim 57\n",
      "kim 43\n",
      "lee 23\n",
      "lee 57\n",
      "lee 43\n",
      "park 23\n",
      "park 57\n",
      "park 43\n"
     ]
    },
    {
     "data": {
      "text/plain": [
       "'\\n[[(name1, age1), (name2, age1), (name3, age1)],\\n[(name1, age2), (name2, age2), (name3, age2)],\\n[(name1, age3), (name2, age3), (name3, age3)]]\\n'"
      ]
     },
     "execution_count": 25,
     "metadata": {},
     "output_type": "execute_result"
    }
   ],
   "source": [
    "[[(i, j) for j in age] for i in name]\n",
    "output = []\n",
    "for i in name:\n",
    "    empty = []\n",
    "    for j in age:\n",
    "        print(i, j)\n",
    "        empty.append((i, j))\n",
    "    output.append(output)\n",
    "\"\"\"\n",
    "[[(name1, age1), (name2, age1), (name3, age1)],\n",
    "[(name1, age2), (name2, age2), (name3, age2)],\n",
    "[(name1, age3), (name2, age3), (name3, age3)]]\n",
    "\"\"\""
   ]
  },
  {
   "cell_type": "code",
   "execution_count": 27,
   "id": "475129f5-aa43-4f3b-a361-3e3a93844e32",
   "metadata": {},
   "outputs": [
    {
     "data": {
      "text/plain": [
       "[[('kim', 23), ('kim', 57), ('kim', 43)],\n",
       " [('lee', 23), ('lee', 57), ('lee', 43)],\n",
       " [('park', 23), ('park', 57), ('park', 43)]]"
      ]
     },
     "execution_count": 27,
     "metadata": {},
     "output_type": "execute_result"
    }
   ],
   "source": [
    "[[(i, j) for j in age] for i in name]"
   ]
  },
  {
   "cell_type": "code",
   "execution_count": 26,
   "id": "614d8983-372e-405e-9790-46190f01677e",
   "metadata": {},
   "outputs": [
    {
     "data": {
      "text/plain": [
       "[[...], [...], [...]]"
      ]
     },
     "execution_count": 26,
     "metadata": {},
     "output_type": "execute_result"
    }
   ],
   "source": [
    "output"
   ]
  },
  {
   "cell_type": "code",
   "execution_count": 13,
   "id": "220291cf-9877-43f9-9a86-ad3c7046c8d8",
   "metadata": {},
   "outputs": [
    {
     "data": {
      "text/plain": [
       "'\\nlist_out = []\\nsentence = sentence.split()\\nfor i in sentence:\\n    empty = []\\n    for j in sentence:\\n        upper = sentence.upper()\\n        cap = sentence.title()\\n        words = sentence.word()\\n'"
      ]
     },
     "execution_count": 13,
     "metadata": {},
     "output_type": "execute_result"
    }
   ],
   "source": [
    "sents = 'do not judge a book by its cover'\n",
    "# [(대문자, 첫글자대문자, 글자수), ...] 리스트 만들기\n",
    "\n",
    "sentslist = [(w.upper(), w.title(), len(w)) for w in sents.split()# 공백기준]\n",
    "\"\"\"\n",
    "list_out = []\n",
    "sentence = sentence.split()\n",
    "for i in sentence:\n",
    "    empty = []\n",
    "    for j in sentence:\n",
    "        upper = sentence.upper()\n",
    "        cap = sentence.title()\n",
    "        words = sentence.word()\n",
    "\"\"\""
   ]
  },
  {
   "cell_type": "code",
   "execution_count": 14,
   "id": "7bea318a-f04a-4d76-bdbf-6620f1f58ca9",
   "metadata": {},
   "outputs": [
    {
     "data": {
      "text/plain": [
       "[('DO', 'Do', 2),\n",
       " ('NOT', 'Not', 3),\n",
       " ('JUDGE', 'Judge', 5),\n",
       " ('A', 'A', 1),\n",
       " ('BOOK', 'Book', 4),\n",
       " ('BY', 'By', 2),\n",
       " ('ITS', 'Its', 3),\n",
       " ('COVER', 'Cover', 5)]"
      ]
     },
     "execution_count": 14,
     "metadata": {},
     "output_type": "execute_result"
    }
   ],
   "source": [
    "sentslist"
   ]
  },
  {
   "cell_type": "code",
   "execution_count": 28,
   "id": "ac726f14-2275-4adc-ae3c-d4566792d85d",
   "metadata": {},
   "outputs": [
    {
     "name": "stdout",
     "output_type": "stream",
     "text": [
      "['Sunja said goodnight to her mother', 'Hansu was no longer in Busan']\n",
      "Sunja said goodnight to her mother Hansu was no longer in Busan\n"
     ]
    }
   ],
   "source": [
    "#1. 문장마다 스트링으로 변환해서 리스트로 반환\n",
    "    # ['문장1', '문장2']\n",
    "#2. 전체를 스트링으로 반환\n",
    "    # '문장1 문장2'\n",
    "text = [\n",
    "    ['Sunja', 'said', 'goodnight', 'to', 'her', 'mother'], \n",
    "    ['Hansu', 'was', 'no', 'longer', 'in', 'Busan']\n",
    "]\n",
    "#1.\n",
    "Q1 = [' '.join(w) for w in text]\n",
    "#2.\n",
    "Q2 = ' '.join([' '.join(w) for w in text])\n",
    "\n",
    "print(Q1)\n",
    "print(Q2)"
   ]
  },
  {
   "cell_type": "code",
   "execution_count": 32,
   "id": "7b3d7e7a-5fbe-461f-b42b-0cc82cff8d67",
   "metadata": {},
   "outputs": [
    {
     "data": {
      "text/plain": [
       "[['Sunja', 'said', 'goodnight', 'to', 'her', 'mother'],\n",
       " ['Hansu', 'was', 'no', 'longer', 'in', 'Busan']]"
      ]
     },
     "execution_count": 32,
     "metadata": {},
     "output_type": "execute_result"
    }
   ],
   "source": [
    "#3. 전체 단어 리스트 가져오기\n",
    "    # ['sunja', 'said', 'goodnight',...]\n",
    "[word for sent in text for word in sent]"
   ]
  },
  {
   "cell_type": "code",
   "execution_count": 33,
   "id": "3f32e473-ddca-44d0-aad8-e3865cefb3ef",
   "metadata": {},
   "outputs": [
    {
     "data": {
      "text/plain": [
       "[0, '홀수', 2, '홀수', 4, '홀수', 6, '홀수', 8, '홀수']"
      ]
     },
     "execution_count": 33,
     "metadata": {},
     "output_type": "execute_result"
    }
   ],
   "source": [
    "[i if i%2 == 0 else '홀수' for i  in range(10)]"
   ]
  },
  {
   "cell_type": "code",
   "execution_count": 29,
   "id": "d4abc9df-8ebd-40c9-b0fb-91faef09579d",
   "metadata": {},
   "outputs": [
    {
     "name": "stderr",
     "output_type": "stream",
     "text": [
      "[nltk_data] Downloading package brown to\n",
      "[nltk_data]     C:\\Users\\Ativ\\AppData\\Roaming\\nltk_data...\n",
      "[nltk_data]   Package brown is already up-to-date!\n"
     ]
    }
   ],
   "source": [
    "import nltk\n",
    "nltk.download('brown')\n",
    "brown = nltk.corpus.brown"
   ]
  },
  {
   "cell_type": "code",
   "execution_count": 30,
   "id": "a4926881-917a-443d-beed-683883a9be78",
   "metadata": {
    "collapsed": true,
    "jupyter": {
     "outputs_hidden": true
    },
    "tags": []
   },
   "outputs": [
    {
     "data": {
      "text/plain": [
       "['adventure',\n",
       " 'belles_lettres',\n",
       " 'editorial',\n",
       " 'fiction',\n",
       " 'government',\n",
       " 'hobbies',\n",
       " 'humor',\n",
       " 'learned',\n",
       " 'lore',\n",
       " 'mystery',\n",
       " 'news',\n",
       " 'religion',\n",
       " 'reviews',\n",
       " 'romance',\n",
       " 'science_fiction']"
      ]
     },
     "execution_count": 30,
     "metadata": {},
     "output_type": "execute_result"
    }
   ],
   "source": [
    "brown.categories()"
   ]
  },
  {
   "cell_type": "code",
   "execution_count": 228,
   "id": "d5a2dd3b-f0b3-4c65-820f-efe0ad57fe3f",
   "metadata": {},
   "outputs": [
    {
     "data": {
      "text/plain": [
       "True"
      ]
     },
     "execution_count": 228,
     "metadata": {},
     "output_type": "execute_result"
    }
   ],
   "source": [
    "import nltk\n",
    "nltk.download('book', quiet=True)"
   ]
  },
  {
   "cell_type": "code",
   "execution_count": 229,
   "id": "913ce838-0d94-4a7b-befe-0d6a30b444b2",
   "metadata": {
    "collapsed": true,
    "jupyter": {
     "outputs_hidden": true
    },
    "tags": []
   },
   "outputs": [
    {
     "name": "stdout",
     "output_type": "stream",
     "text": [
      "*** Introductory Examples for the NLTK Book ***\n",
      "Loading text1, ..., text9 and sent1, ..., sent9\n",
      "Type the name of the text or sentence to view it.\n",
      "Type: 'texts()' or 'sents()' to list the materials.\n",
      "text1: Moby Dick by Herman Melville 1851\n",
      "text2: Sense and Sensibility by Jane Austen 1811\n",
      "text3: The Book of Genesis\n",
      "text4: Inaugural Address Corpus\n",
      "text5: Chat Corpus\n",
      "text6: Monty Python and the Holy Grail\n",
      "text7: Wall Street Journal\n",
      "text8: Personals Corpus\n",
      "text9: The Man Who Was Thursday by G . K . Chesterton 1908\n"
     ]
    }
   ],
   "source": [
    "from nltk import book"
   ]
  },
  {
   "cell_type": "code",
   "execution_count": 31,
   "id": "1b3f420a-47ae-4ba4-bf91-10692ccc8e51",
   "metadata": {
    "tags": []
   },
   "outputs": [
    {
     "data": {
      "text/plain": [
       "\"\\n    - 문장부호, PDS 제거\\n    - 's 'nt (she's -> she 's)(don't -> do, 'nt)\\n    - 'fly-dotted' -> fly, dotted\\n\""
      ]
     },
     "execution_count": 31,
     "metadata": {},
     "output_type": "execute_result"
    }
   ],
   "source": [
    "brown.raw(categories='romance')[:5000] # ['They', 'neighber', 'liked', ...], []\n",
    "# 문장 분절 -> 단어 분절\n",
    "# 불필요한 것을 제거하기\n",
    "\"\"\"\n",
    "    - 문장부호, PDS 제거\n",
    "    - 's 'nt (she's -> she 's)(don't -> do, 'nt)\n",
    "    - 'fly-dotted' -> fly, dotted\n",
    "\"\"\" "
   ]
  },
  {
   "cell_type": "code",
   "execution_count": null,
   "id": "eb488a0b-82f5-492f-832a-60dbc0df6177",
   "metadata": {},
   "outputs": [],
   "source": [
    "brownor = brown.()"
   ]
  }
 ],
 "metadata": {
  "kernelspec": {
   "display_name": "Python 3 (ipykernel)",
   "language": "python",
   "name": "python3"
  },
  "language_info": {
   "codemirror_mode": {
    "name": "ipython",
    "version": 3
   },
   "file_extension": ".py",
   "mimetype": "text/x-python",
   "name": "python",
   "nbconvert_exporter": "python",
   "pygments_lexer": "ipython3",
   "version": "3.9.7"
  }
 },
 "nbformat": 4,
 "nbformat_minor": 5
}
