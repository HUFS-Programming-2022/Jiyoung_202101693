{
 "cells": [
  {
   "cell_type": "markdown",
   "id": "935248eb-2ff8-4fe0-ab00-8f4e021da6ee",
   "metadata": {},
   "source": [
    "## week_07"
   ]
  },
  {
   "cell_type": "markdown",
   "id": "dfb05b3b-8449-47ad-953e-6821a6410653",
   "metadata": {},
   "source": [
    "#### 1. 정의\n",
    "- 코드의 덩어리, 코드의 묶음\n",
    "- 간편한 재사용을 위해, 한 줄로 재사용 가능하다.\n",
    "- 정의(define) 부분 + 호출(call) 부분\n",
    "    - 정의하기\n",
    "    def 함수이름(매개변수1, 2, 3,...):\n",
    "        수행문1 (매개변수를 이용)\n",
    "        수행문2 \n",
    "        ....\n",
    "        return 반환값\n",
    "    - 호출하기\n",
    "    함수이름(인수1, 2, 3, ...)\n",
    "- 2*2 = 4\n",
    "    1. 둘다 없는\n",
    "    2. 둘다 잇는\n",
    "    3. 매개변수만 있는\n",
    "    4. 반환값만 있는"
   ]
  },
  {
   "cell_type": "code",
   "execution_count": 57,
   "id": "7045e16e-ce88-4603-8bd5-fef8733889da",
   "metadata": {},
   "outputs": [],
   "source": [
    "#1.\n",
    "def make_a_sound():\n",
    "    print('yay')\n",
    "    # return None 생략"
   ]
  },
  {
   "cell_type": "code",
   "execution_count": 3,
   "id": "8b675787-615d-4523-9d05-2477eef95b39",
   "metadata": {},
   "outputs": [
    {
     "data": {
      "text/plain": [
       "2"
      ]
     },
     "execution_count": 3,
     "metadata": {},
     "output_type": "execute_result"
    }
   ],
   "source": [
    "def ex(x): \n",
    "    return x + 1\n",
    "#2. \n",
    "def ex():\n",
    "    y = x + 1\n",
    "    return y\n",
    "ex(1)"
   ]
  },
  {
   "cell_type": "code",
   "execution_count": 1,
   "id": "b2fea176-7cdb-4e79-b003-97fdfa6c7879",
   "metadata": {},
   "outputs": [
    {
     "name": "stdout",
     "output_type": "stream",
     "text": [
      "hello\n"
     ]
    }
   ],
   "source": [
    "#3.\n",
    "def make_a_sound(sound):  # sound: 매개변수,  'hello: 인수'\n",
    "    print(sound)\n",
    "    \n",
    "make_a_sound('hello')"
   ]
  },
  {
   "cell_type": "code",
   "execution_count": 5,
   "id": "8e285b4e-fc28-432e-b947-13a5612ada2f",
   "metadata": {},
   "outputs": [
    {
     "ename": "NameError",
     "evalue": "name 'sound' is not defined",
     "output_type": "error",
     "traceback": [
      "\u001b[1;31m---------------------------------------------------------------------------\u001b[0m",
      "\u001b[1;31mNameError\u001b[0m                                 Traceback (most recent call last)",
      "\u001b[1;32mC:\\Users\\Public\\Documents\\ESTsoft\\CreatorTemp/ipykernel_11204/4152913712.py\u001b[0m in \u001b[0;36m<module>\u001b[1;34m\u001b[0m\n\u001b[1;32m----> 1\u001b[1;33m \u001b[0msound\u001b[0m\u001b[1;33m\u001b[0m\u001b[1;33m\u001b[0m\u001b[0m\n\u001b[0m",
      "\u001b[1;31mNameError\u001b[0m: name 'sound' is not defined"
     ]
    }
   ],
   "source": [
    "sound"
   ]
  },
  {
   "cell_type": "code",
   "execution_count": 2,
   "id": "d307c2d1-6797-4c0d-8d2f-838c7494400b",
   "metadata": {},
   "outputs": [
    {
     "name": "stdout",
     "output_type": "stream",
     "text": [
      "good\n"
     ]
    }
   ],
   "source": [
    "#4.\n",
    "def agree():\n",
    "    return True\n",
    "\n",
    "if agree():\n",
    "    print('good')\n",
    "    \n",
    "else:\n",
    "    print('bad')"
   ]
  },
  {
   "cell_type": "markdown",
   "id": "9d68e8a5-8670-48b4-b32c-93e6f66b498e",
   "metadata": {},
   "source": [
    "- 이름 짓기\n",
    "    - 소문자만 사용한다\n",
    "        - splitWord > 어색함 \n",
    "        - split_word\n",
    "    - 동작과 관련되어 있기 대문에 \"동사+명사\"의 형태 주로 씀\n",
    "    - i.e., 클래스는 명사 def split_word(): (x)\n",
    "    - 줄임말 쓰지 말 것, 명료하게 짓는다.\n",
    "        - 예외: carculate -> calc_xxx()"
   ]
  },
  {
   "cell_type": "markdown",
   "id": "bdece346-f86f-44a1-98c0-7399e93e1ff7",
   "metadata": {},
   "source": [
    "#### 2. 인수\n",
    "- 매개변수 vs. 인수\n",
    "    - 매개변수: 함수 내에서(\"인터페이스\") 유효한 변수\n",
    "    - 인수: 실제 매개변수에 대입되는 변수\n",
    "    - \"호출 시에 인수가 매개변수에 복제된다\" yay -> sound\n",
    "- 위치 인수\n",
    "    - positional argument\n",
    "    - 매개변수를 값에 순서에 상응하게 복제한다\n",
    "- 키워드 인수\n",
    "    - keyword argument\n",
    "    - 매개변수 키워드에 맞는 인수로 지정. => 위치 달라도 됨\n",
    "- 디폴트 인수\n",
    "    - default argument\n",
    "    - 매개변수를 정의할 대 값을 미리 지정해놓는 것\n",
    "    - 호출 시에 값이 입력되지 않으면 디폴트값을 사용한다.\n",
    "    - 단, 디폴트 값이 언디폴트값 앞에 위치할 수는 없음."
   ]
  },
  {
   "cell_type": "code",
   "execution_count": 2,
   "id": "89f1cddf-fc2a-4691-b022-b7ee77e9bd3b",
   "metadata": {},
   "outputs": [
    {
     "name": "stdout",
     "output_type": "stream",
     "text": [
      "no\n",
      "red\n",
      "no\n"
     ]
    }
   ],
   "source": [
    "def commentary(color):\n",
    "    if color == 'r':\n",
    "        return 'red'\n",
    "    else:\n",
    "        return 'no'\n",
    "\n",
    "colors = ['b', 'r', 'f']\n",
    "\n",
    "for color in colors:\n",
    "    print(commentary(color))"
   ]
  },
  {
   "cell_type": "code",
   "execution_count": 10,
   "id": "8935d49a-c947-493d-8411-eb4ed1fe784f",
   "metadata": {},
   "outputs": [
    {
     "data": {
      "text/plain": [
       "{'wine': 1, 'entree': 2, 'dissert': 3}"
      ]
     },
     "execution_count": 10,
     "metadata": {},
     "output_type": "execute_result"
    }
   ],
   "source": [
    "# 위치 인수\n",
    "def menu(wine, entree, dissert):\n",
    "    return {'wine':wine, 'entree':entree, 'dissert':dissert}\n",
    "\n",
    "menu(1, 2, 3)"
   ]
  },
  {
   "cell_type": "code",
   "execution_count": 11,
   "id": "43759f19-8fbe-4ae0-a301-f0bcaf98633b",
   "metadata": {},
   "outputs": [
    {
     "data": {
      "text/plain": [
       "{'wine': 2, 'entree': 1, 'dissert': 3}"
      ]
     },
     "execution_count": 11,
     "metadata": {},
     "output_type": "execute_result"
    }
   ],
   "source": [
    "# 키워드 인수\n",
    "menu(entree=1, wine=2, dissert=3)"
   ]
  },
  {
   "cell_type": "code",
   "execution_count": 14,
   "id": "146d50f2-c20d-477c-8af3-cfc34fa8fe27",
   "metadata": {},
   "outputs": [],
   "source": [
    "# 디폴트 인수\n",
    "def menu(entree, dessert, wine='a'): # 디폴트 인수는 항상 뒤로 와야함\n",
    "    return {wine, entree, dessert}"
   ]
  },
  {
   "cell_type": "code",
   "execution_count": 15,
   "id": "80faca8e-59b3-4ae7-ae16-c47d7a87d0fa",
   "metadata": {},
   "outputs": [
    {
     "data": {
      "text/plain": [
       "{1, 2, 'a'}"
      ]
     },
     "execution_count": 15,
     "metadata": {},
     "output_type": "execute_result"
    }
   ],
   "source": [
    "menu(1, 2)"
   ]
  },
  {
   "cell_type": "markdown",
   "id": "c1ed655e-c7e3-4d13-9761-465fff26dbb5",
   "metadata": {},
   "source": [
    "#### 3. 호출방식\n",
    "- 정의 부분은 호출 시 실행된다.\n",
    "- 메모리에저장되어 잇다가 호출 시에 사용이 됨\n",
    "- 매개변수 vs. 인수\n",
    "    - 창조에 의한 호출(call by reference)\n",
    "    - \"매개변수  = 인수\" copy되기 때문에 나타나는 문제점\n",
    "        - 리스트처럼 가변 객체일 대 주소값을 공유하므로 값이 변함."
   ]
  },
  {
   "cell_type": "code",
   "execution_count": 19,
   "id": "33061809-ca08-434f-84a3-15b2cd10c496",
   "metadata": {},
   "outputs": [
    {
     "name": "stdout",
     "output_type": "stream",
     "text": [
      "2\n",
      "3\n",
      "1\n",
      "4\n"
     ]
    }
   ],
   "source": [
    "def multiply(a, b):\n",
    "    print('1')\n",
    "    return a * b\n",
    "\n",
    "print('2') \n",
    "\n",
    "i = 3\n",
    "j = 12\n",
    "\n",
    "print(3)\n",
    "multiply(i, j) #### i=3, j=12 => a=i, b=j\n",
    "\n",
    "print(4)"
   ]
  },
  {
   "cell_type": "code",
   "execution_count": 57,
   "id": "2e533632-e419-4051-af31-0b042e611993",
   "metadata": {},
   "outputs": [
    {
     "name": "stdout",
     "output_type": "stream",
     "text": [
      "[1]\n",
      "[1, 2]\n",
      "[1]\n"
     ]
    }
   ],
   "source": [
    "def buggy(arg, result=[]):\n",
    "    \"\"\"\n",
    "    arg: str, 이름\n",
    "    result: list, ...\n",
    "    이름을 리스트에 추가한다\n",
    "    \"\"\"\n",
    "    # result = []  > 리셋\n",
    "    result.append(arg)\n",
    "    print(result)\n",
    "\n",
    "arg1, arg2 = 1, 2\n",
    "buggy(arg1)\n",
    "buggy(arg2) #id 를 공유하기 때문에 리셋이 되지 않음\n",
    "buggy(1, [])"
   ]
  },
  {
   "cell_type": "code",
   "execution_count": 50,
   "id": "7ceff29d-1f97-4961-9a7b-ae6b084fbc8c",
   "metadata": {},
   "outputs": [],
   "source": [
    "# 둘 다 조건식으로 포함하는 함수로 변경하기.\n",
    "\n",
    "def nonbuggy(arg, result=None):\n",
    "    if result is None: # None 은 is 로 | == (value), is (id)\n",
    "        result = []\n",
    "        \n",
    "    result.append(arg)\n",
    "    print(result)"
   ]
  },
  {
   "cell_type": "code",
   "execution_count": 51,
   "id": "4e847f98-b121-490d-b4c3-37cbb83de5f4",
   "metadata": {},
   "outputs": [
    {
     "name": "stdout",
     "output_type": "stream",
     "text": [
      "[1]\n",
      "[2]\n",
      "['c', 1]\n",
      "['c', 1, 2]\n",
      "[2]\n"
     ]
    }
   ],
   "source": [
    "nonbuggy(arg1)\n",
    "nonbuggy(arg2)\n",
    "empty = ['c']\n",
    "nonbuggy(1, empty)\n",
    "nonbuggy(2, empty)\n",
    "nonbuggy(2)"
   ]
  },
  {
   "cell_type": "code",
   "execution_count": 42,
   "id": "79682320-2201-40d3-973b-98245d15667f",
   "metadata": {},
   "outputs": [
    {
     "name": "stdout",
     "output_type": "stream",
     "text": [
      "None\n"
     ]
    }
   ],
   "source": [
    "thing = None # True 도 False 도 아니다\n",
    "\n",
    "if thing:\n",
    "    print('True')\n",
    "elif thing == False:\n",
    "    print('False')\n",
    "else:\n",
    "    print('None')"
   ]
  },
  {
   "cell_type": "code",
   "execution_count": null,
   "id": "f1bc0166-1697-4932-a18c-a3a1b8f1328c",
   "metadata": {},
   "outputs": [],
   "source": [
    "a = 1\n",
    "\n",
    "def ex():\n",
    "    a  < 함수 밖의 a와 공존하지 않는다, 함수 내에서만 유효함 (지엽변수)"
   ]
  },
  {
   "cell_type": "code",
   "execution_count": 52,
   "id": "4956dae5-914c-4415-9dd8-c134ec0a7369",
   "metadata": {},
   "outputs": [
    {
     "name": "stdout",
     "output_type": "stream",
     "text": [
      "Tokyo\n",
      "Tokyo\n"
     ]
    }
   ],
   "source": [
    "def fx():\n",
    "    global city # 전역변수\n",
    "    city = 'Tokyo'\n",
    "    print(city)\n",
    "    \n",
    "city = 'Seoul'\n",
    "fx()\n",
    "print(city)"
   ]
  },
  {
   "cell_type": "code",
   "execution_count": 53,
   "id": "1d5561fd-eaa4-46ab-95b8-62ed834848fe",
   "metadata": {},
   "outputs": [
    {
     "data": {
      "text/plain": [
       "'change'"
      ]
     },
     "execution_count": 53,
     "metadata": {},
     "output_type": "execute_result"
    }
   ],
   "source": [
    "city = 'change'\n",
    "city"
   ]
  },
  {
   "cell_type": "markdown",
   "id": "6333480b-22a3-46a6-b7be-f706f3063afd",
   "metadata": {},
   "source": [
    "#### doc string\n",
    "- 함수 성명\n",
    "- 매개변수 타입, 의미, 함수 기능\n",
    "- \"\"\"\n",
    "독스트링\n",
    "\n",
    "\"\"\""
   ]
  },
  {
   "cell_type": "code",
   "execution_count": 58,
   "id": "b45c3ede-738e-4d85-81fa-db31a5f70d9a",
   "metadata": {},
   "outputs": [
    {
     "name": "stdout",
     "output_type": "stream",
     "text": [
      "Help on function buggy in module __main__:\n",
      "\n",
      "buggy(arg, result=[1, 2])\n",
      "    arg: str, 이름\n",
      "    result: list, ...\n",
      "    이름을 리스트에 추가한다\n",
      "\n"
     ]
    }
   ],
   "source": [
    "# 독스트링 확인\n",
    "help(buggy)"
   ]
  },
  {
   "cell_type": "code",
   "execution_count": 59,
   "id": "e8ed54f4-eed0-47bd-a859-8703acebe602",
   "metadata": {},
   "outputs": [
    {
     "data": {
      "text/plain": [
       "'\\n    arg: str, 이름\\n    result: list, ...\\n    이름을 리스트에 추가한다\\n    '"
      ]
     },
     "execution_count": 59,
     "metadata": {},
     "output_type": "execute_result"
    }
   ],
   "source": [
    "buggy.__doc__"
   ]
  },
  {
   "cell_type": "code",
   "execution_count": null,
   "id": "aeccecef-3ed5-4b0d-8af6-ab30c389a660",
   "metadata": {},
   "outputs": [],
   "source": [
    "# 나이 -> 연도\n",
    "# 함수: 입력값=나이, 변환=연도\n",
    "# 나이 = input 받기"
   ]
  },
  {
   "cell_type": "code",
   "execution_count": 32,
   "id": "d5f639ac-c4f4-4f6b-b717-4eddb55b90cb",
   "metadata": {},
   "outputs": [
    {
     "name": "stdin",
     "output_type": "stream",
     "text": [
      "나이를 입력하세요 22\n"
     ]
    },
    {
     "data": {
      "text/plain": [
       "2001"
      ]
     },
     "execution_count": 32,
     "metadata": {},
     "output_type": "execute_result"
    }
   ],
   "source": [
    "def birth_year(old): # 함수 이름: *calc_birthday, age_to_year, convert_year, get_year, birth_year, *change_age_to_year\n",
    "    this_year = 2022 # 변수로 받기\n",
    "    return this_year - (old-1)\n",
    "\n",
    "old = int(input('나이를 입력하세요'))\n",
    "bitrh_year(22)"
   ]
  }
 ],
 "metadata": {
  "kernelspec": {
   "display_name": "Python 3 (ipykernel)",
   "language": "python",
   "name": "python3"
  },
  "language_info": {
   "codemirror_mode": {
    "name": "ipython",
    "version": 3
   },
   "file_extension": ".py",
   "mimetype": "text/x-python",
   "name": "python",
   "nbconvert_exporter": "python",
   "pygments_lexer": "ipython3",
   "version": "3.9.7"
  }
 },
 "nbformat": 4,
 "nbformat_minor": 5
}
