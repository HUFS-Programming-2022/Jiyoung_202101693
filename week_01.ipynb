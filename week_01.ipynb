{
 "cells": [
  {
   "cell_type": "markdown",
   "id": "8697434e-c208-409b-b794-18899713e0ae",
   "metadata": {},
   "source": [
    "# week1"
   ]
  },
  {
   "cell_type": "markdown",
   "id": "c147925b-1a91-4fe5-ac64-ba783c90609f",
   "metadata": {},
   "source": [
    "## 프로그래밍이란?\n",
    "     - 프로그래밍 언어를 사용하여 프로그램을 개발하는 것\n",
    "     - 논리적인 사고를 가질 수 있다.\n",
    "\n",
    "## programing language? \n",
    "    - 프로그램을 개발할 때 사용하는 도구\n",
    "    - 인간이 원하는 것을 컴퓨터에게 명령할 때 사용하는 컴퓨터가 이해할 수 있는 언어\n",
    "    \n",
    "## 파이썬?\n",
    "    - 쉽다. 간결하다\n",
    "    - 라이브러리가 많다."
   ]
  },
  {
   "cell_type": "markdown",
   "id": "8f158851-3e95-47e7-8375-d5215d753a16",
   "metadata": {
    "tags": []
   },
   "source": [
    "## Chapter 2. Data: Types, Values, Wariables, and Names"
   ]
  },
  {
   "cell_type": "code",
   "execution_count": 6,
   "id": "2570e7bf-0cd2-413a-b952-d9d691be1312",
   "metadata": {},
   "outputs": [
    {
     "data": {
      "text/plain": [
       "3"
      ]
     },
     "execution_count": 6,
     "metadata": {},
     "output_type": "execute_result"
    }
   ],
   "source": [
    "a = 3\n",
    "a\n",
    "#a 에 3을 할당함."
   ]
  },
  {
   "cell_type": "code",
   "execution_count": 7,
   "id": "7b8376f7-2dbb-4855-aeb6-1015ecb45ea9",
   "metadata": {},
   "outputs": [
    {
     "data": {
      "text/plain": [
       "True"
      ]
     },
     "execution_count": 7,
     "metadata": {},
     "output_type": "execute_result"
    }
   ],
   "source": [
    "a == 3\n",
    "#a는 3이다."
   ]
  },
  {
   "cell_type": "markdown",
   "id": "7ec8b183-a773-4a96-9af5-409b284a640e",
   "metadata": {},
   "source": [
    "- 변수|varialbe: 특정 값을 저장하는 공간\n",
    "    a\n",
    "- 값|value\n",
    "    2\n",
    "- 할당하다|assign: 변수에 값을 넣는 과정\n",
    "    \"2를 a에 넣었다.\"\n",
    "    \n",
    "        *** a는 2다. a == 2\n",
    "        \n",
    "a = 2 와 a == 2 혼동 유의\n",
    "- 자료형|type: 데이터의 형태\n",
    "    a 데이터의 형태? integer (int 타입이다.)"
   ]
  },
  {
   "cell_type": "code",
   "execution_count": 8,
   "id": "809a51b2-4bc5-4306-93b2-e38260b34043",
   "metadata": {},
   "outputs": [
    {
     "name": "stdout",
     "output_type": "stream",
     "text": [
      "3\n"
     ]
    },
    {
     "data": {
      "text/plain": [
       "3"
      ]
     },
     "execution_count": 8,
     "metadata": {},
     "output_type": "execute_result"
    }
   ],
   "source": [
    "#a 를 출력\n",
    "print(a)\n",
    "a"
   ]
  },
  {
   "cell_type": "code",
   "execution_count": 9,
   "id": "cd178d79-23b2-426f-989b-3650912c1a76",
   "metadata": {},
   "outputs": [
    {
     "data": {
      "text/plain": [
       "int"
      ]
     },
     "execution_count": 9,
     "metadata": {},
     "output_type": "execute_result"
    }
   ],
   "source": [
    "#type 알아보기\n",
    "type(a)"
   ]
  },
  {
   "cell_type": "code",
   "execution_count": 10,
   "id": "dd0c20c1-d143-49c7-b77e-180e49f941be",
   "metadata": {},
   "outputs": [
    {
     "data": {
      "text/plain": [
       "int"
      ]
     },
     "execution_count": 10,
     "metadata": {},
     "output_type": "execute_result"
    }
   ],
   "source": [
    "type(2)"
   ]
  },
  {
   "cell_type": "code",
   "execution_count": 10,
   "id": "2a791918-74a9-4829-a935-f5f5ac7acdc3",
   "metadata": {},
   "outputs": [
    {
     "data": {
      "text/plain": [
       "bool"
      ]
     },
     "execution_count": 10,
     "metadata": {},
     "output_type": "execute_result"
    }
   ],
   "source": [
    "type(a == 2) #bool, boolean, True와 False를 나타냄"
   ]
  },
  {
   "cell_type": "markdown",
   "id": "cd0305b1-8e46-49f2-aedc-f40b3f1f3078",
   "metadata": {},
   "source": [
    "### Type \n",
    "- integer|정수 : 1, 2, 3 ..\n",
    "- floating point number|부동소수점: 1.0, 2.0, ..., 0.4\n",
    "- string|문자열: \"1\"(int가 아닌 str로 인식됨), '' \n",
    "- boolean|불리안: True/False (bool)"
   ]
  },
  {
   "cell_type": "code",
   "execution_count": 11,
   "id": "063b043b-047f-4d57-95bd-8b473b56708f",
   "metadata": {},
   "outputs": [
    {
     "data": {
      "text/plain": [
       "str"
      ]
     },
     "execution_count": 11,
     "metadata": {},
     "output_type": "execute_result"
    }
   ],
   "source": [
    "type(\"453\")"
   ]
  },
  {
   "cell_type": "code",
   "execution_count": 12,
   "id": "721d9385-8c24-4b6d-a0dd-4d6ed368c8ac",
   "metadata": {},
   "outputs": [
    {
     "data": {
      "text/plain": [
       "str"
      ]
     },
     "execution_count": 12,
     "metadata": {},
     "output_type": "execute_result"
    }
   ],
   "source": [
    "type('dog')"
   ]
  },
  {
   "cell_type": "code",
   "execution_count": 13,
   "id": "a79a1032-58e6-4f78-9bcf-3083068ae11c",
   "metadata": {},
   "outputs": [
    {
     "ename": "NameError",
     "evalue": "name 'dog' is not defined",
     "output_type": "error",
     "traceback": [
      "\u001b[1;31m---------------------------------------------------------------------------\u001b[0m",
      "\u001b[1;31mNameError\u001b[0m                                 Traceback (most recent call last)",
      "\u001b[1;32m~\\AppData\\Local\\Temp/ipykernel_6804/3455479424.py\u001b[0m in \u001b[0;36m<module>\u001b[1;34m\u001b[0m\n\u001b[1;32m----> 1\u001b[1;33m \u001b[0mtype\u001b[0m\u001b[1;33m(\u001b[0m\u001b[0mdog\u001b[0m\u001b[1;33m)\u001b[0m \u001b[1;31m#변수명 > 오류\u001b[0m\u001b[1;33m\u001b[0m\u001b[1;33m\u001b[0m\u001b[0m\n\u001b[0m",
      "\u001b[1;31mNameError\u001b[0m: name 'dog' is not defined"
     ]
    }
   ],
   "source": [
    "type(dog) #변수명 > 오류"
   ]
  },
  {
   "cell_type": "code",
   "execution_count": 14,
   "id": "836dd34a-0152-4c5c-98c4-1bf5baae7c69",
   "metadata": {},
   "outputs": [
    {
     "data": {
      "text/plain": [
       "'jiyoung'"
      ]
     },
     "execution_count": 14,
     "metadata": {},
     "output_type": "execute_result"
    }
   ],
   "source": [
    "#이름 출력\n",
    "name = 'jiyoung'\n",
    "name #1"
   ]
  },
  {
   "cell_type": "code",
   "execution_count": 15,
   "id": "0bf13ee6-d19f-418f-ae40-4f5597d9bccf",
   "metadata": {},
   "outputs": [
    {
     "name": "stdout",
     "output_type": "stream",
     "text": [
      "jiyoung\n",
      "jiyoung\n"
     ]
    }
   ],
   "source": [
    "print(name) #2\n",
    "\n",
    "print('jiyoung') #되도록 지양"
   ]
  },
  {
   "cell_type": "markdown",
   "id": "767ffb1c-e9cd-4c95-82c7-edd3d26e9e5d",
   "metadata": {
    "tags": []
   },
   "source": [
    "### 할당\n",
    "- = 이 기호를 사용한다.\n",
    "- 수학에서는 '양변이 같다'라는 의미로 사용되지만, 프로그래밍에서는 '할당하다'라는 의미가 추가된다.\n",
    "- \"오른쪽의 값을 왼쪽에 할당한다\"\n",
    "- 1. 오른쪽에 있는 모든 것은 값을 가져야 한다. (초기화를 해야 한다.)\n",
    "- 2. 같은 변수에 다른 값을 넣을 수 있다."
   ]
  },
  {
   "cell_type": "code",
   "execution_count": 16,
   "id": "a099c737-df18-4d8b-9e70-2a1e482f8b1b",
   "metadata": {},
   "outputs": [
    {
     "ename": "NameError",
     "evalue": "name 'x' is not defined",
     "output_type": "error",
     "traceback": [
      "\u001b[1;31m---------------------------------------------------------------------------\u001b[0m",
      "\u001b[1;31mNameError\u001b[0m                                 Traceback (most recent call last)",
      "\u001b[1;32m~\\AppData\\Local\\Temp/ipykernel_6804/1081561661.py\u001b[0m in \u001b[0;36m<module>\u001b[1;34m\u001b[0m\n\u001b[1;32m----> 1\u001b[1;33m \u001b[0my\u001b[0m \u001b[1;33m=\u001b[0m \u001b[0mx\u001b[0m \u001b[1;33m+\u001b[0m \u001b[1;36m7\u001b[0m \u001b[1;31m#x의 값이 정해져 있지 않음\u001b[0m\u001b[1;33m\u001b[0m\u001b[1;33m\u001b[0m\u001b[0m\n\u001b[0m",
      "\u001b[1;31mNameError\u001b[0m: name 'x' is not defined"
     ]
    }
   ],
   "source": [
    "y = x + 7 #x의 값이 정해져 있지 않음"
   ]
  },
  {
   "cell_type": "code",
   "execution_count": 17,
   "id": "191e1fe2-2918-4e5c-aa4a-e60bb76263d7",
   "metadata": {},
   "outputs": [],
   "source": [
    "x = 2 #초기화\n",
    "y = x + 19"
   ]
  },
  {
   "cell_type": "code",
   "execution_count": 18,
   "id": "be254109-ce8a-485c-983f-39d53636fb44",
   "metadata": {},
   "outputs": [
    {
     "data": {
      "text/plain": [
       "(2, 21)"
      ]
     },
     "execution_count": 18,
     "metadata": {},
     "output_type": "execute_result"
    }
   ],
   "source": [
    "x, y"
   ]
  },
  {
   "cell_type": "code",
   "execution_count": 19,
   "id": "b869adc0-f35e-4e20-b2b5-dbb7395934c5",
   "metadata": {},
   "outputs": [
    {
     "name": "stdout",
     "output_type": "stream",
     "text": [
      "35\n"
     ]
    }
   ],
   "source": [
    "name = 'bob'\n",
    "name = 'jin'\n",
    "name = 'may'\n",
    "name = 35\n",
    "\n",
    "print(name) #맨 마지막에 실행된 값이 나옴"
   ]
  },
  {
   "cell_type": "code",
   "execution_count": 20,
   "id": "e597c420-9b78-404e-a362-651a6274c32d",
   "metadata": {},
   "outputs": [],
   "source": [
    "text = 'hufs'\n",
    "text = 'boo'\n",
    "#변수명 동일하게 사용하지 않기, 혼선을 피하기 위함"
   ]
  },
  {
   "cell_type": "markdown",
   "id": "70277bde-8ad3-4335-9e9a-a23febf65242",
   "metadata": {
    "tags": []
   },
   "source": [
    "### 변수명 정하기\n",
    "- 나쁜 변수명: a, b, c, a1, b1, .. (변수의 의미를 알기 어려움)\n",
    "- 의미있는 이름으로 선언해야 한다.\n",
    "- 소문자, 대문자, 숫자, 언더바를 사용한다.\n",
    "    예: name, name2, my_name, Name, NAME"
   ]
  },
  {
   "cell_type": "code",
   "execution_count": 21,
   "id": "5efe1ba4-1650-4284-a78d-5010d6118028",
   "metadata": {},
   "outputs": [
    {
     "data": {
      "text/plain": [
       "('joo', 'jae', 'choe')"
      ]
     },
     "execution_count": 21,
     "metadata": {},
     "output_type": "execute_result"
    }
   ],
   "source": [
    "name = 'joo'\n",
    "name1 = 'jae'\n",
    "my_name = 'choe'\n",
    "#카멜표기법 myName\n",
    "\n",
    "name, name1, my_name"
   ]
  },
  {
   "cell_type": "code",
   "execution_count": 22,
   "id": "09edfa7e-20e0-45c9-9698-e2cf76d49fe1",
   "metadata": {},
   "outputs": [
    {
     "name": "stdout",
     "output_type": "stream",
     "text": [
      "joo,jae,choe\n"
     ]
    }
   ],
   "source": [
    "print(name, name1, my_name, sep=',') #세 변수가 쉼표로 구분되어 출력됨"
   ]
  },
  {
   "cell_type": "markdown",
   "id": "46cf377e-8176-47bc-8c8c-23868e7e4090",
   "metadata": {},
   "source": [
    "- 안되는 것\n",
    "    -숫자로 시작할 수 없다.\n",
    "        예: 22name, 22_name\n",
    "    - 예약어로 선언할 수 없다.\n",
    "        예: def, False, ..."
   ]
  },
  {
   "cell_type": "code",
   "execution_count": 24,
   "id": "e85a6bf1-000a-4bc0-9822-66bfa4c16a9f",
   "metadata": {},
   "outputs": [
    {
     "ename": "SyntaxError",
     "evalue": "invalid syntax (Temp/ipykernel_6804/4158520207.py, line 1)",
     "output_type": "error",
     "traceback": [
      "\u001b[1;36m  File \u001b[1;32m\"C:\\Users\\SAMSUNG\\AppData\\Local\\Temp/ipykernel_6804/4158520207.py\"\u001b[1;36m, line \u001b[1;32m1\u001b[0m\n\u001b[1;33m    if = 'kite' #변수명이 예약어이므로 사용불가능\u001b[0m\n\u001b[1;37m       ^\u001b[0m\n\u001b[1;31mSyntaxError\u001b[0m\u001b[1;31m:\u001b[0m invalid syntax\n"
     ]
    }
   ],
   "source": [
    "if = 'kite' #변수명이 예약어이므로 사용불가능"
   ]
  },
  {
   "cell_type": "code",
   "execution_count": 33,
   "id": "05ca6693-e7f1-47af-ae8c-c1e8b118446b",
   "metadata": {},
   "outputs": [
    {
     "name": "stdout",
     "output_type": "stream",
     "text": [
      "\n",
      "Here is a list of the Python keywords.  Enter any keyword to get more help.\n",
      "\n",
      "False               break               for                 not\n",
      "None                class               from                or\n",
      "True                continue            global              pass\n",
      "__peg_parser__      def                 if                  raise\n",
      "and                 del                 import              return\n",
      "as                  elif                in                  try\n",
      "assert              else                is                  while\n",
      "async               except              lambda              with\n",
      "await               finally             nonlocal            yield\n",
      "\n"
     ]
    }
   ],
   "source": [
    "help(\"keywords\") #사용하여 예약어 불러오기 가능"
   ]
  },
  {
   "cell_type": "markdown",
   "id": "b5655c94-2076-4b9d-8daf-5dbbef862e11",
   "metadata": {},
   "source": [
    "- 조심할 것 : 특별한 용도가 있기 때문에\n",
    "    - 언더바로 시작하는 변수명: _name\n",
    "    - 더블 언더바로 시작하는 변수명: __name\n",
    "    - 대문자로 시작하는 변수명: Name\n",
    "    - 전체 대문자: NAME"
   ]
  },
  {
   "cell_type": "code",
   "execution_count": 35,
   "id": "a95516d2-4849-4945-a662-b0bac25090cd",
   "metadata": {},
   "outputs": [],
   "source": [
    "# 변수명은 대소문자 구분한다.\n",
    "num = 3\n",
    "Num = 4"
   ]
  },
  {
   "cell_type": "code",
   "execution_count": 36,
   "id": "5784be52-7a7d-4d1b-802d-201f34b490aa",
   "metadata": {},
   "outputs": [
    {
     "data": {
      "text/plain": [
       "False"
      ]
     },
     "execution_count": 36,
     "metadata": {},
     "output_type": "execute_result"
    }
   ],
   "source": [
    "num == Num"
   ]
  },
  {
   "cell_type": "code",
   "execution_count": 37,
   "id": "28a9f7fd-0dd4-4a71-9c0e-043218f7f9ad",
   "metadata": {},
   "outputs": [],
   "source": [
    "num = 'number'\n",
    "Num = 'Number'\n",
    "# 대소문자를 구분하기 때문에 서로 다른 데이터를 가짐"
   ]
  },
  {
   "cell_type": "code",
   "execution_count": 38,
   "id": "7f53257d-c1eb-4f6c-8cae-6f03a9743ecb",
   "metadata": {},
   "outputs": [
    {
     "data": {
      "text/plain": [
       "False"
      ]
     },
     "execution_count": 38,
     "metadata": {},
     "output_type": "execute_result"
    }
   ],
   "source": [
    "num == Num"
   ]
  },
  {
   "cell_type": "code",
   "execution_count": 39,
   "id": "5ad37eea-e3da-4051-bb1f-0d036a77aabd",
   "metadata": {},
   "outputs": [
    {
     "data": {
      "text/plain": [
       "True"
      ]
     },
     "execution_count": 39,
     "metadata": {},
     "output_type": "execute_result"
    }
   ],
   "source": [
    "num != Num "
   ]
  }
 ],
 "metadata": {
  "kernelspec": {
   "display_name": "Python 3 (ipykernel)",
   "language": "python",
   "name": "python3"
  },
  "language_info": {
   "codemirror_mode": {
    "name": "ipython",
    "version": 3
   },
   "file_extension": ".py",
   "mimetype": "text/x-python",
   "name": "python",
   "nbconvert_exporter": "python",
   "pygments_lexer": "ipython3",
   "version": "3.9.7"
  }
 },
 "nbformat": 4,
 "nbformat_minor": 5
}
