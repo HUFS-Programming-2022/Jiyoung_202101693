{
 "cells": [
  {
   "cell_type": "markdown",
   "id": "ba5d230e-f2b9-498b-93ca-c976bffaa50a",
   "metadata": {},
   "source": [
    "# week02"
   ]
  },
  {
   "cell_type": "markdown",
   "id": "92ecb69f-dcd4-4518-9900-3f12184ad663",
   "metadata": {},
   "source": [
    "## Ch02. Variables\n",
    "\n",
    "- string\n",
    "- float\n",
    "- integer\n",
    "- boolean"
   ]
  },
  {
   "cell_type": "code",
   "execution_count": 1,
   "id": "f63ca32e-8b3d-45ed-b64c-0659fcc680fc",
   "metadata": {
    "tags": []
   },
   "outputs": [
    {
     "data": {
      "text/plain": [
       "2"
      ]
     },
     "execution_count": 1,
     "metadata": {},
     "output_type": "execute_result"
    }
   ],
   "source": [
    "# 여러 이름 동시에 할당\n",
    "two = deux = dos = 2 # dos -> deus -> two\n",
    "two"
   ]
  },
  {
   "cell_type": "code",
   "execution_count": 2,
   "id": "aecdc476-d5e8-4800-86f6-7e0b329e7ddf",
   "metadata": {},
   "outputs": [
    {
     "name": "stdout",
     "output_type": "stream",
     "text": [
      "4 2\n"
     ]
    }
   ],
   "source": [
    "# 불변객체이므로 deux의 값이 변하지 않음\n",
    "two = 4\n",
    "print(two, deux)"
   ]
  },
  {
   "cell_type": "code",
   "execution_count": 3,
   "id": "26e26306-9c45-4677-8865-4e502e7078a1",
   "metadata": {},
   "outputs": [
    {
     "data": {
      "text/plain": [
       "(2436761282960, 2436761282896)"
      ]
     },
     "execution_count": 3,
     "metadata": {},
     "output_type": "execute_result"
    }
   ],
   "source": [
    "id(two), id(deux)"
   ]
  },
  {
   "cell_type": "code",
   "execution_count": 51,
   "id": "9ff8b87f-5e8e-4c13-b863-c1418881b380",
   "metadata": {},
   "outputs": [
    {
     "data": {
      "text/plain": [
       "([3, 6, 5], [3, 6, 5])"
      ]
     },
     "execution_count": 51,
     "metadata": {},
     "output_type": "execute_result"
    }
   ],
   "source": [
    "p = [3, 6, 5]\n",
    "q = p\n",
    "p, q"
   ]
  },
  {
   "cell_type": "code",
   "execution_count": 52,
   "id": "d2eb63ce-d7ee-4002-b5d9-34a891297d5c",
   "metadata": {},
   "outputs": [
    {
     "data": {
      "text/plain": [
       "(2436843376000, 2436843376000)"
      ]
     },
     "execution_count": 52,
     "metadata": {},
     "output_type": "execute_result"
    }
   ],
   "source": [
    "id(p), id(q)"
   ]
  },
  {
   "cell_type": "code",
   "execution_count": 53,
   "id": "a54b50a7-d4c4-49d1-b0a9-be2e0179105c",
   "metadata": {},
   "outputs": [
    {
     "data": {
      "text/plain": [
       "([7, 6, 5], [7, 6, 5])"
      ]
     },
     "execution_count": 53,
     "metadata": {},
     "output_type": "execute_result"
    }
   ],
   "source": [
    "p[0] = 7\n",
    "p, q"
   ]
  },
  {
   "cell_type": "code",
   "execution_count": 54,
   "id": "94423838-c1aa-40cc-96c7-7987f32bc10c",
   "metadata": {},
   "outputs": [
    {
     "data": {
      "text/plain": [
       "(2436843376000, 2436843376000)"
      ]
     },
     "execution_count": 54,
     "metadata": {},
     "output_type": "execute_result"
    }
   ],
   "source": [
    "id(p), id(q)\n",
    "\n",
    "#id는 변하지 않음"
   ]
  },
  {
   "cell_type": "markdown",
   "id": "6a8ded10-bfc8-40b2-967c-9009a33d8077",
   "metadata": {},
   "source": [
    "### 좋은 변수명\n",
    "- 간결하고 명확한 이름\n",
    "- 의미가 담겨야 함.\n",
    "a, b, c, ...\n",
    "- `코드에는 의미가 담기고 주석에는 의도가 담긴다.`\n",
    "    예: the number of students\n",
    "    n < the_numner_of_students < num_students\n",
    "    - 카멜표기법: numStudents (주로 자바에서 사용)"
   ]
  },
  {
   "cell_type": "markdown",
   "id": "9ee912ff-50f1-4124-9f4e-9b9714e113e4",
   "metadata": {},
   "source": [
    "### 자료형 변환, 형 변환\n",
    "- str(<변환할 값>), int(), float(), bool()"
   ]
  },
  {
   "cell_type": "code",
   "execution_count": 9,
   "id": "0c74a290-56e4-4819-86e6-11ba469e071e",
   "metadata": {},
   "outputs": [
    {
     "data": {
      "text/plain": [
       "True"
      ]
     },
     "execution_count": 9,
     "metadata": {},
     "output_type": "execute_result"
    }
   ],
   "source": [
    "num = 20\n",
    "\n",
    "#str\n",
    "str(num)\n",
    "\n",
    "#float\n",
    "float(num)\n",
    "\n",
    "#bool \n",
    "bool(num) # 어떤 값이 False로 변환이 되는지 기억"
   ]
  },
  {
   "cell_type": "markdown",
   "id": "e1095df5-a223-472f-b337-cc013cd32561",
   "metadata": {},
   "source": [
    "주의할 점 1: float -> int"
   ]
  },
  {
   "cell_type": "code",
   "execution_count": 3,
   "id": "fc33521b-ee10-42a9-a361-0f1723ebcefb",
   "metadata": {},
   "outputs": [
    {
     "data": {
      "text/plain": [
       "5"
      ]
     },
     "execution_count": 3,
     "metadata": {},
     "output_type": "execute_result"
    }
   ],
   "source": [
    "#스페이싱 주의 \n",
    "x = 5.3 #소수점 내림\n",
    "int(x)"
   ]
  },
  {
   "cell_type": "code",
   "execution_count": 4,
   "id": "66db7c54-590a-4ce6-ab62-367873d9e972",
   "metadata": {},
   "outputs": [
    {
     "name": "stdout",
     "output_type": "stream",
     "text": [
      "19\n",
      "18\n"
     ]
    }
   ],
   "source": [
    "y = 13.8\n",
    "\n",
    "#출력값이 다름\n",
    "print(int(x + y))\n",
    "print(int(x) + int(y))"
   ]
  },
  {
   "cell_type": "code",
   "execution_count": 45,
   "id": "dbf4ec7a-f955-4acb-99dd-b47fd6843f3c",
   "metadata": {},
   "outputs": [
    {
     "data": {
      "text/plain": [
       "(9, 9.0)"
      ]
     },
     "execution_count": 45,
     "metadata": {},
     "output_type": "execute_result"
    }
   ],
   "source": [
    "i = '9'\n",
    "int(i), float(i) #가능함"
   ]
  },
  {
   "cell_type": "code",
   "execution_count": 16,
   "id": "fb0b8281-7b95-4f0d-a0d3-b20b9045c58e",
   "metadata": {},
   "outputs": [
    {
     "ename": "ValueError",
     "evalue": "invalid literal for int() with base 10: '10.7'",
     "output_type": "error",
     "traceback": [
      "\u001b[1;31m---------------------------------------------------------------------------\u001b[0m",
      "\u001b[1;31mValueError\u001b[0m                                Traceback (most recent call last)",
      "\u001b[1;32m~\\AppData\\Local\\Temp/ipykernel_25772/1111154319.py\u001b[0m in \u001b[0;36m<module>\u001b[1;34m\u001b[0m\n\u001b[0;32m      1\u001b[0m \u001b[0mj\u001b[0m \u001b[1;33m=\u001b[0m \u001b[1;34m'10.7'\u001b[0m\u001b[1;33m\u001b[0m\u001b[1;33m\u001b[0m\u001b[0m\n\u001b[1;32m----> 2\u001b[1;33m \u001b[0mint\u001b[0m\u001b[1;33m(\u001b[0m\u001b[0mj\u001b[0m\u001b[1;33m)\u001b[0m\u001b[1;33m\u001b[0m\u001b[1;33m\u001b[0m\u001b[0m\n\u001b[0m\u001b[0;32m      3\u001b[0m \u001b[1;33m\u001b[0m\u001b[0m\n\u001b[0;32m      4\u001b[0m \u001b[1;31m#integer로 예상되는 것을 float로 바꾸면 error발생\u001b[0m\u001b[1;33m\u001b[0m\u001b[1;33m\u001b[0m\u001b[0m\n",
      "\u001b[1;31mValueError\u001b[0m: invalid literal for int() with base 10: '10.7'"
     ]
    }
   ],
   "source": [
    "j = '10.7'\n",
    "int(j)\n",
    "\n",
    "#string으로 예상되는 것을 float로 바꾸면 error발생"
   ]
  },
  {
   "cell_type": "markdown",
   "id": "edca4c5e-241b-426b-ade2-93b011f0ec21",
   "metadata": {
    "tags": []
   },
   "source": [
    "## 꿀팁 `print()`"
   ]
  },
  {
   "cell_type": "code",
   "execution_count": 33,
   "id": "84d0b652-2a1a-45b3-81f8-dcf984e7b3f5",
   "metadata": {},
   "outputs": [
    {
     "name": "stdout",
     "output_type": "stream",
     "text": [
      "applebananalemon\n",
      "apple banana lemon\n"
     ]
    }
   ],
   "source": [
    "apple = 'apple'\n",
    "banana = 'banana'\n",
    "lemon = 'lemon'\n",
    "\n",
    "print(apple + banana + lemon) # space X, \\n\n",
    "print(apple, banana, lemon) # space O, \\n"
   ]
  },
  {
   "cell_type": "code",
   "execution_count": 34,
   "id": "c3ffa7c6-00a2-4f04-b23b-82708c9716e9",
   "metadata": {},
   "outputs": [
    {
     "name": "stdout",
     "output_type": "stream",
     "text": [
      "apple banana lemon\n",
      "apple/banana/lemon\n",
      "\n",
      "EOL\n"
     ]
    }
   ],
   "source": [
    "print(apple, banana, lemon, sep=' ', end='\\n') #default\n",
    "print(apple, banana, lemon, sep='/', end='\\n\\n')\n",
    "print('EOL')"
   ]
  },
  {
   "cell_type": "code",
   "execution_count": 35,
   "id": "3771fa85-4dab-4a51-a528-dd468cf619f2",
   "metadata": {},
   "outputs": [
    {
     "name": "stdout",
     "output_type": "stream",
     "text": [
      "My favorite fruit is  apple\n",
      "My favorite fruit is apple.\n"
     ]
    }
   ],
   "source": [
    "#1.\n",
    "print(\"My favorite fruit is \", apple)\n",
    "\n",
    "#2.\n",
    "print(f\"My favorite fruit is {apple}.\")"
   ]
  },
  {
   "cell_type": "markdown",
   "id": "17118352-0f52-4cb7-9ea5-a8cb4e2f7c20",
   "metadata": {},
   "source": [
    "코드 줄이 짧을 때 ;(semicolon)을 이용해 한 줄로 쓸 수 있다."
   ]
  },
  {
   "cell_type": "code",
   "execution_count": 36,
   "id": "1bc02167-04c5-453f-9898-079e3831c54a",
   "metadata": {},
   "outputs": [
    {
     "name": "stdout",
     "output_type": "stream",
     "text": [
      "puppy\n"
     ]
    }
   ],
   "source": [
    "puppy = 'puppy'; kitty = 'kitty'; lamb = 'lamb'\n",
    "print(puppy)"
   ]
  },
  {
   "cell_type": "markdown",
   "id": "dbd5ec93-9037-4cfe-ae06-a71f53872095",
   "metadata": {},
   "source": [
    "### `input()` 함수\n",
    "- console에서 사용자가 입력하는 값을 받을 수 있는 함수\n",
    "- 입력 받는 값은 문자열로 인식이 된다.\n",
    "- 입력 받은 값을 변수에 담아서 사용한다. 안 그러면 사라짐\n",
    "- 숫자일 경우 형 변환 한다."
   ]
  },
  {
   "cell_type": "code",
   "execution_count": 37,
   "id": "55b9e6b7-464b-4221-bb38-a266904dc412",
   "metadata": {},
   "outputs": [
    {
     "name": "stdin",
     "output_type": "stream",
     "text": [
      "hi 안녕\n"
     ]
    },
    {
     "data": {
      "text/plain": [
       "'안녕'"
      ]
     },
     "execution_count": 37,
     "metadata": {},
     "output_type": "execute_result"
    }
   ],
   "source": [
    "input(\"hi\")"
   ]
  },
  {
   "cell_type": "code",
   "execution_count": 38,
   "id": "c429b29b-0a00-4d1f-a946-52136eb00013",
   "metadata": {},
   "outputs": [
    {
     "name": "stdin",
     "output_type": "stream",
     "text": [
      "나이? 23\n"
     ]
    },
    {
     "data": {
      "text/plain": [
       "23"
      ]
     },
     "execution_count": 38,
     "metadata": {},
     "output_type": "execute_result"
    }
   ],
   "source": [
    "int(input('나이?'))"
   ]
  },
  {
   "cell_type": "markdown",
   "id": "b68eec9f-bade-4cd7-986d-3612428acd9b",
   "metadata": {},
   "source": [
    "- 변수에 할당하는 방법"
   ]
  },
  {
   "cell_type": "code",
   "execution_count": 39,
   "id": "6d54b52e-9ede-4d8d-9e97-b05fac64180a",
   "metadata": {},
   "outputs": [
    {
     "name": "stdin",
     "output_type": "stream",
     "text": [
      "나이? 33\n"
     ]
    }
   ],
   "source": [
    "#1.\n",
    "age = input('나이?')"
   ]
  },
  {
   "cell_type": "code",
   "execution_count": 30,
   "id": "895d2933-1370-4129-99c7-4429b80ceed7",
   "metadata": {},
   "outputs": [
    {
     "data": {
      "text/plain": [
       "'33'"
      ]
     },
     "execution_count": 30,
     "metadata": {},
     "output_type": "execute_result"
    }
   ],
   "source": [
    "age"
   ]
  },
  {
   "cell_type": "code",
   "execution_count": 40,
   "id": "2038d2da-0523-4aae-b0ff-d865a8732d51",
   "metadata": {},
   "outputs": [
    {
     "name": "stdout",
     "output_type": "stream",
     "text": [
      "나이?\n"
     ]
    },
    {
     "name": "stdin",
     "output_type": "stream",
     "text": [
      " 34\n"
     ]
    }
   ],
   "source": [
    "#2. \n",
    "print('나이?')\n",
    "age = input()"
   ]
  },
  {
   "cell_type": "code",
   "execution_count": 41,
   "id": "d646c7e0-321f-4853-8cf7-1c2e30dbd452",
   "metadata": {},
   "outputs": [
    {
     "data": {
      "text/plain": [
       "'34'"
      ]
     },
     "execution_count": 41,
     "metadata": {},
     "output_type": "execute_result"
    }
   ],
   "source": [
    "age"
   ]
  },
  {
   "cell_type": "markdown",
   "id": "abce9956-145e-47bc-b191-80d371a55f89",
   "metadata": {},
   "source": [
    "#### Quiz 1 \n",
    "- 섭씨를 입력 받아서 화씨로 변환하기 \n",
    "- \"섭씨 + 1.8 + 32 = 화씨\""
   ]
  },
  {
   "cell_type": "code",
   "execution_count": 17,
   "id": "46c86259-d902-46dd-ba0f-7de1febadad5",
   "metadata": {},
   "outputs": [
    {
     "name": "stdin",
     "output_type": "stream",
     "text": [
      "섭씨 : 32\n"
     ]
    },
    {
     "name": "stdout",
     "output_type": "stream",
     "text": [
      "화씨 : 89.6\n"
     ]
    }
   ],
   "source": [
    "C = int(input(\"섭씨 :\"))\n",
    "F = C*1.8 +32\n",
    "print('화씨 : ', F, sep='')"
   ]
  },
  {
   "cell_type": "markdown",
   "id": "55919414-9835-4b94-91d6-45a0837ffc21",
   "metadata": {},
   "source": [
    "피드백: C와 F가 아닌 Celsius와 Fahrenheit를 사용해 변수의 의미를 이해하기 쉽도록 해야한다."
   ]
  },
  {
   "cell_type": "markdown",
   "id": "5538d3cb-83dd-436c-9d5e-a337e9a55d31",
   "metadata": {
    "tags": []
   },
   "source": [
    "### Quiz 2\n",
    "- 택배 정보 입력 받고, 총 합계 계산하기\n",
    "- 출력값: \n",
    "    - 수취인 성명: <이름>\n",
    "    - 수취인 주소: <주소>\n",
    "    - 배송비: 3000원\n",
    "    - 물건 비용: <가격>원\n",
    "    - 총 합계: <가격>원\n",
    "- 물건 비용 = 무게(g) * 5\n",
    "- 합계 = 배송비 + 물건 비용"
   ]
  },
  {
   "cell_type": "code",
   "execution_count": 111,
   "id": "e054d201-5445-4b45-98b6-241b00539916",
   "metadata": {},
   "outputs": [
    {
     "name": "stdin",
     "output_type": "stream",
     "text": [
      "이름 백지영\n",
      "주소 경기도\n",
      "무게(g) 12.3\n"
     ]
    },
    {
     "name": "stdout",
     "output_type": "stream",
     "text": [
      "수취인 성명: 백지영\n",
      "수취인 주소: 경기도\n",
      "배송비: 3000원\n",
      "물건비용: 61원\n",
      "총 합계: 3061원\n"
     ]
    }
   ],
   "source": [
    "name = input(\"이름\")\n",
    "address = input(\"주소\")\n",
    "weight = float(input('무게(g)'))\n",
    "price = int(weight * 5)\n",
    "total = price + 3000\n",
    "\n",
    "print(f'수취인 성명: {name}')\n",
    "print(f'수취인 주소: {address}')\n",
    "print('배송비: 3000원')\n",
    "print(f'물건비용: {price}원')\n",
    "print(f'총 합계: {total}원')"
   ]
  },
  {
   "cell_type": "markdown",
   "id": "280e45a7-31da-4457-876f-c0c69c83bb55",
   "metadata": {},
   "source": [
    "## Ch03. Numbers"
   ]
  },
  {
   "cell_type": "markdown",
   "id": "7cb8a594-ae53-4d8c-9c00-72bba9267ad7",
   "metadata": {},
   "source": [
    "#### boolean\n",
    "- 형 변환할 때 True, False인지 기억하라 \n",
    "    - '', None, 0, ..\n",
    "- 조건식에서 많이 쓴다. 예: 만약 이 조건이 True라면 .."
   ]
  },
  {
   "cell_type": "code",
   "execution_count": 43,
   "id": "e95761ae-5579-4d37-9f1c-587f094d9e01",
   "metadata": {},
   "outputs": [
    {
     "data": {
      "text/plain": [
       "True"
      ]
     },
     "execution_count": 43,
     "metadata": {},
     "output_type": "execute_result"
    }
   ],
   "source": [
    "bool(2)"
   ]
  },
  {
   "cell_type": "code",
   "execution_count": 44,
   "id": "be14634a-6789-4130-b26d-c033c71603ee",
   "metadata": {},
   "outputs": [
    {
     "data": {
      "text/plain": [
       "False"
      ]
     },
     "execution_count": 44,
     "metadata": {},
     "output_type": "execute_result"
    }
   ],
   "source": [
    "bool('')"
   ]
  },
  {
   "cell_type": "markdown",
   "id": "3768453f-7881-430c-8aa8-ee0d70253a4c",
   "metadata": {},
   "source": [
    "#### integer\n",
    "- 소수점 없음\n",
    "- default 양수, 음수는 앞에 -를 붙인다.\n",
    "- 숫자 앞에는 0을 붙일 수 없다. 예: 07\n",
    "    - 예외적으로 0bxxx, => 다른 진수 표현법\n",
    "- 리터럴: 3\n",
    "- 공백이 많아도 무시가 된다.\n",
    "- 10,000원 -> 10과 000 두 개로 인식 => _사용"
   ]
  },
  {
   "cell_type": "code",
   "execution_count": 56,
   "id": "a6351913-bed8-46ac-91ef-9f0d7152c3a3",
   "metadata": {},
   "outputs": [
    {
     "data": {
      "text/plain": [
       "-1"
      ]
     },
     "execution_count": 56,
     "metadata": {},
     "output_type": "execute_result"
    }
   ],
   "source": [
    "a = -3\n",
    "2 + a"
   ]
  },
  {
   "cell_type": "code",
   "execution_count": 58,
   "id": "7ac33456-cd1f-4fbf-be1e-bee17fc5653f",
   "metadata": {},
   "outputs": [
    {
     "ename": "SyntaxError",
     "evalue": "leading zeros in decimal integer literals are not permitted; use an 0o prefix for octal integers (Temp/ipykernel_25772/1344509212.py, line 1)",
     "output_type": "error",
     "traceback": [
      "\u001b[1;36m  File \u001b[1;32m\"C:\\Users\\SAMSUNG\\AppData\\Local\\Temp/ipykernel_25772/1344509212.py\"\u001b[1;36m, line \u001b[1;32m1\u001b[0m\n\u001b[1;33m    a = 07 # 숫자 앞 0 사용 불가\u001b[0m\n\u001b[1;37m         ^\u001b[0m\n\u001b[1;31mSyntaxError\u001b[0m\u001b[1;31m:\u001b[0m leading zeros in decimal integer literals are not permitted; use an 0o prefix for octal integers\n"
     ]
    }
   ],
   "source": [
    "a = 07 # 숫자 앞 0 사용 불가"
   ]
  },
  {
   "cell_type": "code",
   "execution_count": 59,
   "id": "12743025-b014-439b-8cc9-9d7325bd3dff",
   "metadata": {},
   "outputs": [
    {
     "data": {
      "text/plain": [
       "2"
      ]
     },
     "execution_count": 59,
     "metadata": {},
     "output_type": "execute_result"
    }
   ],
   "source": [
    "-1 + 3"
   ]
  },
  {
   "cell_type": "code",
   "execution_count": 112,
   "id": "e115fc98-0e1e-43b1-80d3-df394e3d0b78",
   "metadata": {},
   "outputs": [
    {
     "name": "stdout",
     "output_type": "stream",
     "text": [
      "10000\n"
     ]
    }
   ],
   "source": [
    "num = 10_000\n",
    "print(num)"
   ]
  },
  {
   "cell_type": "markdown",
   "id": "6021b83e-ce4f-4f23-8261-705bd586986a",
   "metadata": {
    "tags": []
   },
   "source": [
    "#### 연산\n",
    "- 연산자|operator: +, - , ..\n",
    "- 피연산자|operand: 3, 5, ..\n",
    "- 수식|experession"
   ]
  },
  {
   "cell_type": "code",
   "execution_count": 61,
   "id": "3131d853-ba94-48d2-be39-1c2a80dad356",
   "metadata": {},
   "outputs": [
    {
     "data": {
      "text/plain": [
       "256"
      ]
     },
     "execution_count": 61,
     "metadata": {},
     "output_type": "execute_result"
    }
   ],
   "source": [
    "x = 2\n",
    "y = 8\n",
    "\n",
    "x + y\n",
    "x - y\n",
    "x * y\n",
    "x / y\n",
    "\n",
    "#거듭제곱\n",
    "x ** y"
   ]
  },
  {
   "cell_type": "markdown",
   "id": "7dc75c82-b195-43f8-9f34-3ed5e9693cd9",
   "metadata": {},
   "source": [
    "나눗셈에서 주의할 사항"
   ]
  },
  {
   "cell_type": "code",
   "execution_count": 62,
   "id": "c3b0a7bd-5ce6-47c6-9ebe-02d7fd6d7c91",
   "metadata": {},
   "outputs": [
    {
     "data": {
      "text/plain": [
       "(0, 2, 0.25)"
      ]
     },
     "execution_count": 62,
     "metadata": {},
     "output_type": "execute_result"
    }
   ],
   "source": [
    "#1. division by zero => 주의 (y!=0)\n",
    "#2. 몫, 나머지\n",
    "x // y, x % y, x / y"
   ]
  },
  {
   "cell_type": "code",
   "execution_count": 64,
   "id": "332bd00e-db87-444f-bba6-d8f2730a0b1d",
   "metadata": {},
   "outputs": [
    {
     "data": {
      "text/plain": [
       "(0, 2)"
      ]
     },
     "execution_count": 64,
     "metadata": {},
     "output_type": "execute_result"
    }
   ],
   "source": [
    "# 몫과 나머지만 출력\n",
    "divmod(x, y)"
   ]
  },
  {
   "cell_type": "markdown",
   "id": "0edae899-1a0c-4d91-a1b6-80bc4b9e21d2",
   "metadata": {
    "tags": []
   },
   "source": [
    "#### 복합 대입연산자|compound assignment operator"
   ]
  },
  {
   "cell_type": "code",
   "execution_count": 11,
   "id": "40ecca1c-8df6-4f36-8011-5742658ffb0f",
   "metadata": {},
   "outputs": [
    {
     "name": "stdout",
     "output_type": "stream",
     "text": [
      "8\n"
     ]
    }
   ],
   "source": [
    "a = 8\n",
    "a - 4\n",
    "print(a)"
   ]
  },
  {
   "cell_type": "code",
   "execution_count": 14,
   "id": "d7b8d67c-7c0b-4212-9197-836153976f0d",
   "metadata": {},
   "outputs": [],
   "source": [
    "a = a - 4\n",
    "#1. a - 4 계산\n",
    "#2. 임시변수 temp = a -4\n",
    "#3. a = a - 4\n",
    "\n",
    "a -= 3"
   ]
  },
  {
   "cell_type": "code",
   "execution_count": 8,
   "id": "be00a9ae-28c8-4e66-b6dd-cde902a07819",
   "metadata": {},
   "outputs": [],
   "source": [
    "a += 4\n",
    "a -= 4\n",
    "a *= 4\n",
    "a /= 4"
   ]
  },
  {
   "cell_type": "code",
   "execution_count": 71,
   "id": "2cf8531a-2775-442d-8ff1-bbf5ea73085a",
   "metadata": {},
   "outputs": [
    {
     "ename": "SyntaxError",
     "evalue": "invalid syntax (Temp/ipykernel_25772/2285946780.py, line 1)",
     "output_type": "error",
     "traceback": [
      "\u001b[1;36m  File \u001b[1;32m\"C:\\Users\\SAMSUNG\\AppData\\Local\\Temp/ipykernel_25772/2285946780.py\"\u001b[1;36m, line \u001b[1;32m1\u001b[0m\n\u001b[1;33m    c = ? # 값 초기화할 것\u001b[0m\n\u001b[1;37m        ^\u001b[0m\n\u001b[1;31mSyntaxError\u001b[0m\u001b[1;31m:\u001b[0m invalid syntax\n"
     ]
    }
   ],
   "source": [
    "c = ? # 값 초기화할 것\n",
    "c = c + 5"
   ]
  },
  {
   "cell_type": "markdown",
   "id": "b2b55967-2b18-4c86-84cc-1bdbfa301c4d",
   "metadata": {},
   "source": [
    "### Quiz 1. "
   ]
  },
  {
   "cell_type": "markdown",
   "id": "de69f845-ce8b-42e5-a019-16a7c81f752a",
   "metadata": {},
   "source": [
    "- 정수를 입력 받고 3의 배수인지 확인하세요.\n",
    "- = 홀수인지 확인하세요."
   ]
  },
  {
   "cell_type": "code",
   "execution_count": 78,
   "id": "f1db5814-4c59-4957-bd10-b43c69d3ee64",
   "metadata": {},
   "outputs": [
    {
     "name": "stdin",
     "output_type": "stream",
     "text": [
      " 6\n"
     ]
    },
    {
     "data": {
      "text/plain": [
       "True"
      ]
     },
     "execution_count": 78,
     "metadata": {},
     "output_type": "execute_result"
    }
   ],
   "source": [
    "num = int(input())\n",
    "num % 3 == 0"
   ]
  },
  {
   "cell_type": "code",
   "execution_count": 79,
   "id": "e6fb3402-9170-4bf7-bf3e-cd78a29ccf78",
   "metadata": {},
   "outputs": [
    {
     "data": {
      "text/plain": [
       "False"
      ]
     },
     "execution_count": 79,
     "metadata": {},
     "output_type": "execute_result"
    }
   ],
   "source": [
    "num % 2 == 1"
   ]
  },
  {
   "cell_type": "markdown",
   "id": "46fda4e9-c070-4123-8cc2-8064a5a343c0",
   "metadata": {},
   "source": [
    "#### 지수 표현\n",
    "- e, E 둘다 가능 하다\n",
    "- 앞부분은 float, int\n",
    "- 뒷부분은 int만 온다.\n",
    "    - 양수면 0 앞으로\n",
    "    - 음수면 0 뒤로 (소수점)"
   ]
  },
  {
   "cell_type": "code",
   "execution_count": 82,
   "id": "da968fb6-3b37-4c34-bfd3-e88c56903b81",
   "metadata": {},
   "outputs": [
    {
     "data": {
      "text/plain": [
       "1000000.0"
      ]
     },
     "execution_count": 82,
     "metadata": {},
     "output_type": "execute_result"
    }
   ],
   "source": [
    "1.0e6 #float"
   ]
  },
  {
   "cell_type": "code",
   "execution_count": 90,
   "id": "ae242aff-80a2-4040-8414-929b2a4f81c6",
   "metadata": {},
   "outputs": [
    {
     "data": {
      "text/plain": [
       "0.000789"
      ]
     },
     "execution_count": 90,
     "metadata": {},
     "output_type": "execute_result"
    }
   ],
   "source": [
    "# 0.000789 => 지수 표현\n",
    "789.0e-6\n",
    "78.9e-5"
   ]
  },
  {
   "cell_type": "markdown",
   "id": "29d82912-d888-4855-b486-f2a77f8f4a66",
   "metadata": {},
   "source": [
    "## Ch04"
   ]
  },
  {
   "cell_type": "markdown",
   "id": "c949139d-db7c-45cd-ad3a-6b7525600c18",
   "metadata": {},
   "source": [
    "### 조건문, if"
   ]
  },
  {
   "cell_type": "markdown",
   "id": "9e660bd6-9665-4063-87db-249f66f0f426",
   "metadata": {},
   "source": [
    "- code structure"
   ]
  },
  {
   "cell_type": "markdown",
   "id": "d9f2710a-fdd3-45e5-bc04-2ee4a6bb2f81",
   "metadata": {
    "tags": []
   },
   "source": [
    "### 코드 짜는 룰 \n",
    "- 주석 다는 법\n",
    "    - 설명하는 부분 \n",
    "    - 목적: 의도를 표현한다.\n",
    "    - '#' hash, sharp, ...\n",
    "    - 시작된 부분 부터 그 라인의 끝까짖가 주석\n",
    "    - 문자열 안에 들어있는 해시는 문자열로 인식\n",
    "    - \"\"\"<주석>\"\"\" (긴 주석)\n",
    "    \n",
    "- 라인 유지하기\n",
    "    - 들여쓰기, 공백 4개, 탭 1개\n",
    "    - 한 줄에 최대 80자 넘지 않게\n",
    "    - 백슬래시로 끊어준다 ( \\ )"
   ]
  },
  {
   "cell_type": "code",
   "execution_count": 93,
   "id": "cc4332a3-be03-46c6-bade-a1034d43cbe0",
   "metadata": {},
   "outputs": [],
   "source": [
    "x = 3 # 여기서부터 라인 끝\n",
    "y = 5 "
   ]
  },
  {
   "cell_type": "code",
   "execution_count": 94,
   "id": "ed69a944-0ee2-465b-b432-00f3a810c3d4",
   "metadata": {},
   "outputs": [
    {
     "name": "stdout",
     "output_type": "stream",
     "text": [
      "hi ###\n"
     ]
    },
    {
     "data": {
      "text/plain": [
       "'\\n주\\n석\\n'"
      ]
     },
     "execution_count": 94,
     "metadata": {},
     "output_type": "execute_result"
    }
   ],
   "source": [
    "example = 'hi ###'\n",
    "print(example)\n",
    "\n",
    "\"\"\"\n",
    "주\n",
    "석\n",
    "\"\"\""
   ]
  },
  {
   "cell_type": "code",
   "execution_count": null,
   "id": "796ea7bc-0d00-40c3-975a-93a7c601df23",
   "metadata": {},
   "outputs": [],
   "source": [
    "if ....: \n",
    "    ###공백 4개 or Tap 하나"
   ]
  },
  {
   "cell_type": "markdown",
   "id": "28695ec3-c355-44eb-8788-32bddbe3fb50",
   "metadata": {},
   "source": [
    "- 조건 1개\n",
    "if <조건식>:\n",
    "    <실행코드>"
   ]
  },
  {
   "cell_type": "code",
   "execution_count": 17,
   "id": "bc6c1302-d99c-4898-8e2f-a6eb7666deda",
   "metadata": {},
   "outputs": [
    {
     "name": "stdout",
     "output_type": "stream",
     "text": [
      "3은 2가 아니다\n"
     ]
    }
   ],
   "source": [
    "if 3 != 2:\n",
    "    print('3은 2가 아니다')"
   ]
  },
  {
   "cell_type": "markdown",
   "id": "d3474a60-a2cf-4cc3-83f8-2bf6d23fa108",
   "metadata": {},
   "source": [
    "- 조건 2개:\n",
    "    if <조건식1>:\n",
    "        <실행할 코드>\n",
    "    else:\n",
    "        <실행할 코드2>"
   ]
  },
  {
   "cell_type": "code",
   "execution_count": 104,
   "id": "464ceb51-53e6-4185-9f9e-7e327c65fd48",
   "metadata": {},
   "outputs": [
    {
     "name": "stdout",
     "output_type": "stream",
     "text": [
      "3은 2가 아니다\n"
     ]
    }
   ],
   "source": [
    "if 3 == 2:\n",
    "    print('3은 2')\n",
    "else:\n",
    "    print('3은 2가 아니다')"
   ]
  },
  {
   "cell_type": "markdown",
   "id": "fe70a7f2-85f2-4b93-8ec6-15346bb216b7",
   "metadata": {},
   "source": [
    "- 조건 3개 이상:\n",
    "    if <조건식1>:\n",
    "        <실행할 코드>\n",
    "    elif <조건식2>:\n",
    "        <실행할 코드2>\n",
    "    ...else <조건식3>:\n",
    "        <실행할 코드3>"
   ]
  },
  {
   "cell_type": "markdown",
   "id": "b7ec1c41-609f-4f11-9920-d107177f4129",
   "metadata": {},
   "source": [
    "#### 비교연산자\n",
    "- x < y, x <= y\n",
    "- x > y, x >= y\n",
    "- x == y (값)\n",
    "- x != y (값)\n",
    "- x is y (값, 메모리 주소)\n",
    "- x is not y"
   ]
  },
  {
   "cell_type": "markdown",
   "id": "e9ff6781-c407-4e9e-92a2-c1db920b023c",
   "metadata": {},
   "source": [
    "### Quiz 1.\n",
    "- 학점 부여하기\n",
    "- 학점을 입력 받아서\n",
    "    - 90점 이상이면 A\n",
    "    - 80, B\n",
    "    - 70, C\n",
    "    - 그외, D\n",
    "- 변수 설정 유의"
   ]
  },
  {
   "cell_type": "code",
   "execution_count": 107,
   "id": "ef8ed2c4-f4db-421b-b342-d406ab0ab885",
   "metadata": {},
   "outputs": [
    {
     "name": "stdin",
     "output_type": "stream",
     "text": [
      "점수를 입력하세요: 87\n"
     ]
    },
    {
     "name": "stdout",
     "output_type": "stream",
     "text": [
      "B\n"
     ]
    }
   ],
   "source": [
    "score = float(input('점수를 입력하세요:'))\n",
    "if score >= 90:\n",
    "    print('A')\n",
    "elif score >= 80:\n",
    "    print('B')\n",
    "else:\n",
    "    print('C')"
   ]
  },
  {
   "cell_type": "markdown",
   "id": "d01243e7-2036-4b8f-887f-ef26b67435f1",
   "metadata": {},
   "source": [
    "### Quiz 2. \n",
    "- 아이디와 비번 입력 받아서 둘다 일치하면 로그인하기\n",
    "- 아이디, 비번 각자 정해놓기\n",
    "- 일치하지 않을 때에는 창의적으로 어떤 걸로 반환하기"
   ]
  },
  {
   "cell_type": "code",
   "execution_count": 110,
   "id": "f1c01166-bde0-48ca-b5af-6e6110cf4e17",
   "metadata": {
    "tags": []
   },
   "outputs": [
    {
     "name": "stdin",
     "output_type": "stream",
     "text": [
      "id : ado\n",
      "password : soqo\n"
     ]
    },
    {
     "name": "stdout",
     "output_type": "stream",
     "text": [
      "존재하지 않는 계정입니다.\n"
     ]
    }
   ],
   "source": [
    "id = 'abc100'\n",
    "password = 'abc123'\n",
    "\n",
    "input_id = input('id :')\n",
    "input_pw = input('password :')\n",
    "\n",
    "if input_id == id:\n",
    "    if input_pw == password:\n",
    "        print('로그인 성공')\n",
    "    else: \n",
    "        print('비밀번호가 일치하지 않습니다.')\n",
    "else:\n",
    "    print('존재하지 않는 계정입니다.')"
   ]
  },
  {
   "cell_type": "markdown",
   "id": "2c27acc0-006b-4c00-8aa4-57c36b330163",
   "metadata": {},
   "source": [
    "#### 논리연산자\n",
    "- 여러 조건식을 비교할 때\n",
    "- 예: 5 < x < 15\n",
    "    - 파이썬에서만 가능한 표현\n",
    "    - x > 5 혹은 x < 15\n",
    "    \n",
    "- and, & : 둘다 참일 때 True\n",
    "- or, | : 둘 중 하나만 참이여도 True\n",
    "- not : 참 -> False, 거짓 -> True"
   ]
  },
  {
   "cell_type": "markdown",
   "id": "667a8739-70e3-43d8-8358-58256d2c9c05",
   "metadata": {
    "tags": []
   },
   "source": [
    "shift + \\ = |"
   ]
  },
  {
   "cell_type": "markdown",
   "id": "7a1e9c27-6618-4d09-baec-9899213ecdc0",
   "metadata": {},
   "source": [
    "### Quiz 3. \n",
    "- quiz 2 확장판\n",
    "- 결석 횟수를 받아서 점수가 80점 이상인데 결석이 2번 이상이면 F, 나머지는 점수대로"
   ]
  },
  {
   "cell_type": "code",
   "execution_count": 114,
   "id": "562634f0-b2f5-49fd-8208-5fd75e322804",
   "metadata": {},
   "outputs": [
    {
     "name": "stdin",
     "output_type": "stream",
     "text": [
      "점수를 입력하세요: 82\n",
      "결석 횟수를 입력하세요: 3\n"
     ]
    },
    {
     "name": "stdout",
     "output_type": "stream",
     "text": [
      "F\n"
     ]
    }
   ],
   "source": [
    "score = float(input('점수를 입력하세요:'))\n",
    "absent = int(input('결석 횟수를 입력하세요:'))\n",
    "\n",
    "if score >= 90:\n",
    "    print('A')\n",
    "elif score >= 80:\n",
    "    if absent >= 2:\n",
    "        print('F')\n",
    "    else:\n",
    "        print('B')\n",
    "else:\n",
    "    print('C')"
   ]
  }
 ],
 "metadata": {
  "kernelspec": {
   "display_name": "Python 3 (ipykernel)",
   "language": "python",
   "name": "python3"
  },
  "language_info": {
   "codemirror_mode": {
    "name": "ipython",
    "version": 3
   },
   "file_extension": ".py",
   "mimetype": "text/x-python",
   "name": "python",
   "nbconvert_exporter": "python",
   "pygments_lexer": "ipython3",
   "version": "3.9.7"
  }
 },
 "nbformat": 4,
 "nbformat_minor": 5
}
