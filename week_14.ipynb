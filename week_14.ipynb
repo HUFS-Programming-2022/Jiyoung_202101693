{
 "cells": [
  {
   "cell_type": "markdown",
   "id": "7f64ec61-420a-4c2c-a02c-3c469863f73d",
   "metadata": {},
   "source": [
    "### 함수II\n",
    "- 일급 객체 \n",
    "- 중첩 함수\n",
    "- 익명 함수\n",
    "- 제너레이터\n",
    "- 재귀 함수"
   ]
  },
  {
   "cell_type": "markdown",
   "id": "a83aa155-a52d-4d99-9f83-375d046b702f",
   "metadata": {},
   "source": [
    "#### 일급 객체\n",
    "- first class object, first class citizen\n",
    "- 파이썬에서는 함수도 일급 객체다.\n",
    "- 일급 객체의 조건\n",
    "    - 함수의 인자로 전달된다.\n",
    "        def fx(func):\n",
    "    - 함수의 반환값이 된다.\n",
    "        def fx(func):\n",
    "    - 수정, 할당이 된다. var = fx()"
   ]
  },
  {
   "cell_type": "code",
   "execution_count": 3,
   "id": "efc81f8f-f408-4677-8a23-b265ab5a56d5",
   "metadata": {},
   "outputs": [
    {
     "name": "stdout",
     "output_type": "stream",
     "text": [
      "ho\n"
     ]
    }
   ],
   "source": [
    "def answer():\n",
    "    print('ho')\n",
    "def run_sth(func):\n",
    "    func() # func vs. func()\n",
    "    \n",
    "run_sth(answer) # answer 실행"
   ]
  },
  {
   "cell_type": "code",
   "execution_count": 5,
   "id": "1909ff22-59cf-4111-9a86-921beac9f830",
   "metadata": {},
   "outputs": [
    {
     "name": "stdout",
     "output_type": "stream",
     "text": [
      "21\n"
     ]
    }
   ],
   "source": [
    "def add_args(arg1, arg2):\n",
    "    print(arg1 * arg2)\n",
    "    \n",
    "def run_sth2(func, *args):\n",
    "    func(*args)\n",
    "    \n",
    "run_sth2(add_args, 3, 7)"
   ]
  },
  {
   "cell_type": "markdown",
   "id": "74d37a29-e73b-4203-b2c9-ce95b1002748",
   "metadata": {},
   "source": [
    "#### 중첩함수\n",
    "- 함수 내에서 또 다른 함수를 정의하는 것\n",
    "- 내부함수 캡슐화\n",
    "    - 메모리 절약\n",
    "    - 변수가 섞여서 불필요하게 충돌하는 것을 방지함\n",
    "    - 목적에 맞게 변수를 그룹화 할 수 있음. 관리, 책임 명백히"
   ]
  },
  {
   "cell_type": "code",
   "execution_count": 6,
   "id": "0d601c55-d2f3-4e7e-83fd-1a45457576f7",
   "metadata": {},
   "outputs": [
    {
     "data": {
      "text/plain": [
       "6"
      ]
     },
     "execution_count": 6,
     "metadata": {},
     "output_type": "execute_result"
    }
   ],
   "source": [
    "def outer(a, b):\n",
    "    def inner(c, d):\n",
    "        return c * d\n",
    "    return inner(a, b)\n",
    "\n",
    "outer(2, 3)"
   ]
  },
  {
   "cell_type": "code",
   "execution_count": null,
   "id": "1cfff181-a960-4718-b822-64f4ff28558e",
   "metadata": {},
   "outputs": [],
   "source": []
  },
  {
   "cell_type": "code",
   "execution_count": 7,
   "id": "4b9cd103-7ff1-42cf-9175-57bb3d7912c7",
   "metadata": {},
   "outputs": [
    {
     "ename": "NameError",
     "evalue": "name 'inner' is not defined",
     "output_type": "error",
     "traceback": [
      "\u001b[1;31m---------------------------------------------------------------------------\u001b[0m",
      "\u001b[1;31mNameError\u001b[0m                                 Traceback (most recent call last)",
      "\u001b[1;32mC:\\Users\\Public\\Documents\\ESTsoft\\CreatorTemp/ipykernel_16204/1105965693.py\u001b[0m in \u001b[0;36m<module>\u001b[1;34m\u001b[0m\n\u001b[1;32m----> 1\u001b[1;33m \u001b[0minner\u001b[0m\u001b[1;33m(\u001b[0m\u001b[1;36m2\u001b[0m\u001b[1;33m,\u001b[0m \u001b[1;36m3\u001b[0m\u001b[1;33m)\u001b[0m \u001b[1;31m# 에러, 내부함수는 때문에 건드릴 수 없음\u001b[0m\u001b[1;33m\u001b[0m\u001b[1;33m\u001b[0m\u001b[0m\n\u001b[0m",
      "\u001b[1;31mNameError\u001b[0m: name 'inner' is not defined"
     ]
    }
   ],
   "source": [
    "inner(2, 3) \n",
    "# 에러, 내부함수는 때문에 건드릴 수 없음(캡슐화)"
   ]
  },
  {
   "cell_type": "code",
   "execution_count": 8,
   "id": "8f2e6acd-fff3-4200-8246-27e7d60d6c33",
   "metadata": {},
   "outputs": [
    {
     "ename": "NameError",
     "evalue": "name 'c' is not defined",
     "output_type": "error",
     "traceback": [
      "\u001b[1;31m---------------------------------------------------------------------------\u001b[0m",
      "\u001b[1;31mNameError\u001b[0m                                 Traceback (most recent call last)",
      "\u001b[1;32mC:\\Users\\Public\\Documents\\ESTsoft\\CreatorTemp/ipykernel_16204/3235490055.py\u001b[0m in \u001b[0;36m<module>\u001b[1;34m\u001b[0m\n\u001b[1;32m----> 1\u001b[1;33m \u001b[0mc\u001b[0m\u001b[1;33m\u001b[0m\u001b[1;33m\u001b[0m\u001b[0m\n\u001b[0m",
      "\u001b[1;31mNameError\u001b[0m: name 'c' is not defined"
     ]
    }
   ],
   "source": [
    "c"
   ]
  },
  {
   "cell_type": "code",
   "execution_count": 15,
   "id": "39689988-92b1-4706-97b4-3a6bb8b2a34d",
   "metadata": {},
   "outputs": [],
   "source": [
    "def knight(saying):\n",
    "    def inner(): # saying 을 받지 않음\n",
    "        return f'says: {saying}'\n",
    "        #listA.append(saying) > X\n",
    "    return inner\n",
    "\n",
    "a = knight('hey')\n",
    "b = knight('야')"
   ]
  },
  {
   "cell_type": "markdown",
   "id": "97e390e0-e192-4da9-a3ba-489d66f14c16",
   "metadata": {},
   "source": [
    "- 외부함수의 인자를 창조할 수 있다.\n",
    "- 수정/ 활용은 안됨"
   ]
  },
  {
   "cell_type": "code",
   "execution_count": 10,
   "id": "2f79608e-fd9e-49cb-97f0-ecb7156fcafc",
   "metadata": {},
   "outputs": [
    {
     "data": {
      "text/plain": [
       "'says: hey'"
      ]
     },
     "execution_count": 10,
     "metadata": {},
     "output_type": "execute_result"
    }
   ],
   "source": [
    "a()"
   ]
  },
  {
   "cell_type": "code",
   "execution_count": 12,
   "id": "de672184-40a2-4923-b9f5-497a347b2aad",
   "metadata": {},
   "outputs": [
    {
     "data": {
      "text/plain": [
       "<function __main__.knight.<locals>.inner()>"
      ]
     },
     "execution_count": 12,
     "metadata": {},
     "output_type": "execute_result"
    }
   ],
   "source": [
    "b"
   ]
  },
  {
   "cell_type": "code",
   "execution_count": 13,
   "id": "34a13c38-d219-4451-92d5-6b53557affdf",
   "metadata": {},
   "outputs": [
    {
     "data": {
      "text/plain": [
       "'says: 야'"
      ]
     },
     "execution_count": 13,
     "metadata": {},
     "output_type": "execute_result"
    }
   ],
   "source": [
    "b()"
   ]
  },
  {
   "cell_type": "markdown",
   "id": "42975f7b-f5fb-4976-ae20-b2a7a368ebc8",
   "metadata": {},
   "source": [
    "#### 클로저 | closure\n",
    "- 조건\n",
    "    1. 중첩함수일 것\n",
    "    2. 내부함수가 외부함수의 상대값을 참조할 것\n",
    "    3. 외부함수의 리턴값이 내부함수일 것\n",
    "- 외부함수의 상태값을 기억하는 함수(호출 시 사용 가능)"
   ]
  },
  {
   "cell_type": "code",
   "execution_count": 24,
   "id": "43597525-eeac-4daf-9c03-cd7f6d9dc8ee",
   "metadata": {},
   "outputs": [],
   "source": [
    "def multiply(x):\n",
    "    def inner(y): # 1. \n",
    "        return x * y # 2.\n",
    "    return inner# 3. "
   ]
  },
  {
   "cell_type": "code",
   "execution_count": 25,
   "id": "6b263f97-8d0e-4c90-9526-198fabad6f57",
   "metadata": {},
   "outputs": [],
   "source": [
    "m = multiply(5)\n",
    "n = multiply(2)"
   ]
  },
  {
   "cell_type": "code",
   "execution_count": 26,
   "id": "8b98ec65-197d-4b31-a3c0-981b983855ee",
   "metadata": {},
   "outputs": [
    {
     "data": {
      "text/plain": [
       "(<function __main__.multiply.<locals>.inner(y)>,\n",
       " <function __main__.multiply.<locals>.inner(y)>)"
      ]
     },
     "execution_count": 26,
     "metadata": {},
     "output_type": "execute_result"
    }
   ],
   "source": [
    "m, n # 곱하기 5, 곱하기 2"
   ]
  },
  {
   "cell_type": "code",
   "execution_count": 27,
   "id": "8d8af32c-c2d5-4e55-8022-718ea3e449a7",
   "metadata": {},
   "outputs": [
    {
     "data": {
      "text/plain": [
       "15"
      ]
     },
     "execution_count": 27,
     "metadata": {},
     "output_type": "execute_result"
    }
   ],
   "source": [
    "m(3)"
   ]
  },
  {
   "cell_type": "code",
   "execution_count": 28,
   "id": "54f9d444-1fac-4a99-a4d5-407c40de4b3c",
   "metadata": {},
   "outputs": [
    {
     "data": {
      "text/plain": [
       "80"
      ]
     },
     "execution_count": 28,
     "metadata": {},
     "output_type": "execute_result"
    }
   ],
   "source": [
    "n(40)"
   ]
  },
  {
   "cell_type": "code",
   "execution_count": 29,
   "id": "db3d40de-e126-425c-9a6d-7db9d03f6fa6",
   "metadata": {},
   "outputs": [],
   "source": [
    "del(multiply) # 제거"
   ]
  },
  {
   "cell_type": "code",
   "execution_count": 30,
   "id": "ee946e4f-f09f-44be-8cad-1d0ea94ed173",
   "metadata": {},
   "outputs": [
    {
     "ename": "NameError",
     "evalue": "name 'multiply' is not defined",
     "output_type": "error",
     "traceback": [
      "\u001b[1;31m---------------------------------------------------------------------------\u001b[0m",
      "\u001b[1;31mNameError\u001b[0m                                 Traceback (most recent call last)",
      "\u001b[1;32mC:\\Users\\Public\\Documents\\ESTsoft\\CreatorTemp/ipykernel_16204/330517852.py\u001b[0m in \u001b[0;36m<module>\u001b[1;34m\u001b[0m\n\u001b[1;32m----> 1\u001b[1;33m \u001b[0mmultiply\u001b[0m\u001b[1;33m\u001b[0m\u001b[1;33m\u001b[0m\u001b[0m\n\u001b[0m",
      "\u001b[1;31mNameError\u001b[0m: name 'multiply' is not defined"
     ]
    }
   ],
   "source": [
    "multiply"
   ]
  },
  {
   "cell_type": "code",
   "execution_count": 32,
   "id": "25c8b9c1-783a-4e8b-8fc3-0cd073a54869",
   "metadata": {},
   "outputs": [
    {
     "data": {
      "text/plain": [
       "4"
      ]
     },
     "execution_count": 32,
     "metadata": {},
     "output_type": "execute_result"
    }
   ],
   "source": [
    "n(2) # 객체 기억 > 메모리를 효율적으로 사용 가능"
   ]
  },
  {
   "cell_type": "markdown",
   "id": "ac03ff0a-15ea-4695-a1ee-1cb53797b5fd",
   "metadata": {},
   "source": [
    "#### 실습"
   ]
  },
  {
   "cell_type": "code",
   "execution_count": 64,
   "id": "db7ffe4f-d872-4848-88f1-276b970d51a4",
   "metadata": {},
   "outputs": [],
   "source": [
    "def add(a, b):\n",
    "    return a * b\n",
    "\n",
    "# 리턴값 * 리턴값 (8 * 8)\n",
    "def square(func):\n",
    "    def inner(a, b):\n",
    "        result = a * b\n",
    "        return result * result\n",
    "    return inner"
   ]
  },
  {
   "cell_type": "code",
   "execution_count": 65,
   "id": "603ff59c-75ff-4c9d-9d75-e0a62577eec6",
   "metadata": {},
   "outputs": [
    {
     "data": {
      "text/plain": [
       "64"
      ]
     },
     "execution_count": 65,
     "metadata": {},
     "output_type": "execute_result"
    }
   ],
   "source": [
    "fx = square(add)\n",
    "fx(4, 2)"
   ]
  },
  {
   "cell_type": "markdown",
   "id": "049f3b04-3300-4a42-aa4c-ec1e749dda2c",
   "metadata": {},
   "source": [
    "#### 데코레이터\n",
    "- 메인 함수에 또 다른 함수를 취해 변환할 수 있게 함\n",
    "- 재사용성 높음\n",
    "- 가독성, 직관성 좋다"
   ]
  },
  {
   "cell_type": "code",
   "execution_count": 66,
   "id": "64ba9d0d-2455-47b7-b009-88ccf1666784",
   "metadata": {},
   "outputs": [
    {
     "data": {
      "text/plain": [
       "36"
      ]
     },
     "execution_count": 66,
     "metadata": {},
     "output_type": "execute_result"
    }
   ],
   "source": [
    "@square\n",
    "def plus(a, b):\n",
    "    return a * b\n",
    "plus(3, 2)"
   ]
  },
  {
   "cell_type": "markdown",
   "id": "5dbc2284-c578-4476-922f-242e39b0d6ab",
   "metadata": {},
   "source": [
    "#### scope | 범위\n",
    "- 전역: global\n",
    "- 지역: local\n",
    "- nonlocal "
   ]
  },
  {
   "cell_type": "code",
   "execution_count": null,
   "id": "0476efa4-7fc4-49c7-87ee-b3ff31466b02",
   "metadata": {},
   "outputs": [],
   "source": [
    "num = 3\n",
    "def add(a, b):\n",
    "    f = 3 #local\n",
    "    return a+b\n",
    "\n",
    "def square(func):\n",
    "    # local\n",
    "    def inner(a, b): # nonlocal\n",
    "        result = a * b\n",
    "        return result * result\n",
    "    return inner"
   ]
  },
  {
   "cell_type": "code",
   "execution_count": 6,
   "id": "bc38fdab-e3d9-40cb-9ecd-c110a2a4f81d",
   "metadata": {},
   "outputs": [
    {
     "data": {
      "text/plain": [
       "1002"
      ]
     },
     "execution_count": 6,
     "metadata": {},
     "output_type": "execute_result"
    }
   ],
   "source": [
    "num = 6\n",
    "\n",
    "def outer(b): #b = 9\n",
    "    localnum = 4 #b = 9\n",
    "    def inner():\n",
    "        nonlocal b\n",
    "        b += 993 # b = 993\n",
    "        return b # 들여쓰기 주의\n",
    "    return inner()\n",
    "\n",
    "outer(9) # 오류발생 (nonlocal b가 없는 경우)"
   ]
  },
  {
   "cell_type": "markdown",
   "id": "2de61544-dd61-474d-a0d8-2b4fa121ea40",
   "metadata": {
    "tags": []
   },
   "source": [
    "#### 실습\n",
    "- fx1: speed. limit 내 속도가 제한속도를 위반하는지 t/f\n",
    "- fx2: 클로저, 초과할 경우 얼마나 초과하는지 프린트하는 함수\n",
    "- 실행은 데코레이터"
   ]
  },
  {
   "cell_type": "code",
   "execution_count": 31,
   "id": "7237e5af-2a4e-47da-bc69-d41c9d25c0ce",
   "metadata": {},
   "outputs": [],
   "source": [
    "def violate(func):\n",
    "    def inner(speed, limit):\n",
    "        if func(speed, limit):\n",
    "            print(f'규정속도를 {speed - limit}만큼 초과')\n",
    "        else:\n",
    "            print('속도를 초과하지 않음')\n",
    "    return inner\n",
    "\n",
    "@violate\n",
    "def is_speeding(speed, limit): # 판별함수의 이름은 보통 is로 시작\n",
    "    return speed > limit # if를 사용하는 것 보다 간결"
   ]
  },
  {
   "cell_type": "code",
   "execution_count": 33,
   "id": "28597799-04b0-4f90-a505-5b7f10b86f6b",
   "metadata": {},
   "outputs": [
    {
     "name": "stdout",
     "output_type": "stream",
     "text": [
      "규정속도를 30만큼 초과\n"
     ]
    }
   ],
   "source": [
    "is_speeding(100, 70)"
   ]
  },
  {
   "cell_type": "markdown",
   "id": "31cb55a1-4faa-45ae-ace0-274e2449a6ac",
   "metadata": {},
   "source": [
    "### 익명함수 | lambda\n",
    "- 이름이 없다\n",
    "def is_speeding():\n",
    "    return\n",
    "- def, return\n",
    "- is_speeding\n",
    "- 단순한 용도의 함수가 필요할 경우 사용\n",
    "- 잦은 사용은 권하지 않음(직관적이지 않다)\n",
    "- lambda x: <x를 요리할 코드>"
   ]
  },
  {
   "cell_type": "code",
   "execution_count": 75,
   "id": "d9488cc6-e5cd-44b8-8026-42e4dbed0807",
   "metadata": {},
   "outputs": [
    {
     "data": {
      "text/plain": [
       "3"
      ]
     },
     "execution_count": 75,
     "metadata": {},
     "output_type": "execute_result"
    }
   ],
   "source": [
    "(lambda x: x + 1)(2)"
   ]
  },
  {
   "cell_type": "code",
   "execution_count": 76,
   "id": "a2f3f6d2-4440-406c-86d6-c0f5f241daeb",
   "metadata": {},
   "outputs": [
    {
     "data": {
      "text/plain": [
       "4"
      ]
     },
     "execution_count": 76,
     "metadata": {},
     "output_type": "execute_result"
    }
   ],
   "source": [
    "f = lambda x: x + 1\n",
    "f(3)"
   ]
  },
  {
   "cell_type": "code",
   "execution_count": 77,
   "id": "9c272dd8-d811-4f68-b4bc-f703b716a4ee",
   "metadata": {},
   "outputs": [
    {
     "data": {
      "text/plain": [
       "6"
      ]
     },
     "execution_count": 77,
     "metadata": {},
     "output_type": "execute_result"
    }
   ],
   "source": [
    "f = lambda x, y: x * y\n",
    "f(2, 3)"
   ]
  },
  {
   "cell_type": "markdown",
   "id": "94b0069b-988c-4f32-9c4e-4241a27bf5a1",
   "metadata": {},
   "source": [
    "# 실습\n",
    "- 단어가 들어왔을 때 첫글자 대문자로 바꾸고 단어 끝에 !를 붙이도록 람다를 만들자.\n",
    "- 예: hello > Hello!"
   ]
  },
  {
   "cell_type": "code",
   "execution_count": 80,
   "id": "8a58ebee-a109-460b-bb6f-f5476beb5c5b",
   "metadata": {},
   "outputs": [],
   "source": [
    "f = lambda x: x.title() + '!'\n",
    "f = lambda x: x.capitalize() + '!'"
   ]
  },
  {
   "cell_type": "code",
   "execution_count": 81,
   "id": "c34fe235-f924-4db8-b09d-331a0af5a71d",
   "metadata": {},
   "outputs": [
    {
     "data": {
      "text/plain": [
       "'Hello!'"
      ]
     },
     "execution_count": 81,
     "metadata": {},
     "output_type": "execute_result"
    }
   ],
   "source": [
    "f('hello')"
   ]
  },
  {
   "cell_type": "markdown",
   "id": "95861a57-f98b-4190-801b-e17ea8e9672d",
   "metadata": {},
   "source": [
    "#### 제너레이터\n",
    "- return 대신 yield 사용\n",
    "- 시퀀스를 순회할 때 시퀀스를 생성하는 객체.\n",
    "- 한 번 사용되고 사라짐 => 메모리 효율 좋음"
   ]
  },
  {
   "cell_type": "code",
   "execution_count": 1,
   "id": "48d58273-5b6a-4557-a268-e05c3c4c69a0",
   "metadata": {},
   "outputs": [
    {
     "data": {
      "text/plain": [
       "<generator object print_num at 0x0000015ABE80E6D0>"
      ]
     },
     "execution_count": 1,
     "metadata": {},
     "output_type": "execute_result"
    }
   ],
   "source": [
    "def print_num(num):\n",
    "    for i in range(num):\n",
    "        yield i\n",
    "    print(4)\n",
    "    \n",
    "print_num(10)"
   ]
  },
  {
   "cell_type": "code",
   "execution_count": 5,
   "id": "7f2614b9-568f-4963-ac30-3f84f01c7b20",
   "metadata": {},
   "outputs": [
    {
     "data": {
      "text/plain": [
       "<generator object ad at 0x0000015ABE80ECF0>"
      ]
     },
     "execution_count": 5,
     "metadata": {},
     "output_type": "execute_result"
    }
   ],
   "source": [
    "a = [1, 2, 3] #> 한번에꺼냄 : return , 하나하나씩: yield\n",
    "def ad(a):\n",
    "    for i in a:\n",
    "        yield i \n",
    "        #print(i)\n",
    "        \n",
    "ad(a)"
   ]
  },
  {
   "cell_type": "code",
   "execution_count": 3,
   "id": "83b8e046-d621-4fc3-bcdb-a2285828a1de",
   "metadata": {},
   "outputs": [
    {
     "name": "stdout",
     "output_type": "stream",
     "text": [
      "0\n",
      "1\n",
      "2\n",
      "3\n",
      "4\n",
      "5\n",
      "6\n",
      "7\n",
      "8\n",
      "9\n",
      "4\n"
     ]
    }
   ],
   "source": [
    "fx = print_num(10)\n",
    "\n",
    "for i in fx:\n",
    "    print(i)"
   ]
  },
  {
   "cell_type": "code",
   "execution_count": 87,
   "id": "c29dae6a-79b8-4c4e-bff2-01b80a075e3d",
   "metadata": {},
   "outputs": [],
   "source": [
    "for i in fx:\n",
    "    print(i) # 사라짐"
   ]
  },
  {
   "cell_type": "markdown",
   "id": "d9c71b8a-ba0a-4bdc-a084-600ded96ea56",
   "metadata": {},
   "source": [
    "### 실습\n",
    "range() 구현하기\n",
    "- 제너레이터 사용\n",
    "- def my_range(start, end, step):\n",
    "    yield\n",
    "    \n",
    "range = my_range(a, b, c)"
   ]
  },
  {
   "cell_type": "code",
   "execution_count": 88,
   "id": "5b239967-f0a2-4c3c-9456-57752998e10a",
   "metadata": {},
   "outputs": [],
   "source": [
    "def my_range(a, b, c):\n",
    "    for i in range(a, b, c):\n",
    "        yield i  "
   ]
  },
  {
   "cell_type": "code",
   "execution_count": 11,
   "id": "05fce0ae-196a-45d9-a6a8-ac4350a4f7e5",
   "metadata": {},
   "outputs": [],
   "source": [
    "def my_range(start, end, step):\n",
    "    i = start\n",
    "    def __str__():\n",
    "        while i < end:\n",
    "            yield i\n",
    "            i += step\n",
    "        \n",
    "my_range(1, 3, 1)"
   ]
  },
  {
   "cell_type": "code",
   "execution_count": 90,
   "id": "9fecdd8b-4341-4461-9280-ef8b8d183a4c",
   "metadata": {},
   "outputs": [
    {
     "data": {
      "text/plain": [
       "[0, 1, 2, 3, 4]"
      ]
     },
     "execution_count": 90,
     "metadata": {},
     "output_type": "execute_result"
    }
   ],
   "source": [
    "[i for i in range(5)]"
   ]
  },
  {
   "cell_type": "code",
   "execution_count": 9,
   "id": "e58b5254-9c34-42b4-9fc2-ae5c955bf588",
   "metadata": {},
   "outputs": [
    {
     "ename": "SyntaxError",
     "evalue": "invalid syntax (CreatorTemp/ipykernel_3192/1478343150.py, line 2)",
     "output_type": "error",
     "traceback": [
      "\u001b[1;36m  File \u001b[1;32m\"C:\\Users\\Public\\Documents\\ESTsoft\\CreatorTemp/ipykernel_3192/1478343150.py\"\u001b[1;36m, line \u001b[1;32m2\u001b[0m\n\u001b[1;33m    for i in ranger\u001b[0m\n\u001b[1;37m                   ^\u001b[0m\n\u001b[1;31mSyntaxError\u001b[0m\u001b[1;31m:\u001b[0m invalid syntax\n"
     ]
    }
   ],
   "source": [
    "ranger = (i for i in range(5))"
   ]
  },
  {
   "cell_type": "code",
   "execution_count": 92,
   "id": "104db295-5b86-4c78-9708-d7c568933fd9",
   "metadata": {},
   "outputs": [
    {
     "name": "stdout",
     "output_type": "stream",
     "text": [
      "0\n",
      "1\n",
      "2\n",
      "3\n",
      "4\n"
     ]
    }
   ],
   "source": [
    "for i in ranger:\n",
    "    print(i)"
   ]
  },
  {
   "cell_type": "markdown",
   "id": "662d389d-a703-4010-9740-2a4fed443a17",
   "metadata": {
    "tags": []
   },
   "source": [
    "#### 재귀함수 \n",
    "- 너무 깊으면 예외 발생 => 주의\n",
    "- 자기 자신을 호출하는 함수\n",
    "- [[1, 2, 3], [[1, 3], 6, 7] -> [1, 2, 3, 1, 3, 6, 7]"
   ]
  },
  {
   "cell_type": "code",
   "execution_count": 39,
   "id": "80854b03-811e-4641-9837-cc20c683b897",
   "metadata": {},
   "outputs": [],
   "source": [
    "def flatten(sent):\n",
    "    for word in sent:\n",
    "        if isinstance(word, list): # 정수인지 아닌지 판별\n",
    "            #true\n",
    "            for sub_word in flatten(word): # 맞으면 위의 두줄 반복\n",
    "                yield sub_word\n",
    "        else:\n",
    "            #false\n",
    "            yield word\n",
    "            \n",
    "# 축약버전\n",
    "def flatten(sent):\n",
    "    for word in sent:\n",
    "        if isinstance(word, list): # 정수인지 아닌지 판별\n",
    "            yield from flatten(word)\n",
    "        else:\n",
    "            #false\n",
    "            yield word"
   ]
  },
  {
   "cell_type": "code",
   "execution_count": 40,
   "id": "491c34b9-c7b7-4b40-bd27-97de09ff7d14",
   "metadata": {},
   "outputs": [
    {
     "data": {
      "text/plain": [
       "<generator object flatten at 0x0000019965EF85F0>"
      ]
     },
     "execution_count": 40,
     "metadata": {},
     "output_type": "execute_result"
    }
   ],
   "source": [
    "a = [[1, 2, 3], [4, 5, 6], 7, 8]\n",
    "flatten(a) # 제너레이터 실행"
   ]
  },
  {
   "cell_type": "code",
   "execution_count": 41,
   "id": "20109e03-7c30-4170-ab3f-cb2eb0af905b",
   "metadata": {},
   "outputs": [
    {
     "name": "stdout",
     "output_type": "stream",
     "text": [
      "1\n",
      "2\n",
      "3\n",
      "4\n",
      "5\n",
      "6\n",
      "7\n",
      "8\n"
     ]
    }
   ],
   "source": [
    "for i in flatten(a):\n",
    "    print(i)"
   ]
  },
  {
   "cell_type": "markdown",
   "id": "85134e71-f14b-438b-9823-23ebf3cd06a4",
   "metadata": {},
   "source": [
    "# ch14"
   ]
  },
  {
   "cell_type": "markdown",
   "id": "9585ff21-bb47-44cf-a4ac-ef2229e588fd",
   "metadata": {},
   "source": [
    "### 예외 처리 | exeption handling\n",
    "- 목적: 프로그램 정상 종료\n",
    "- 예외 발생 시, 사용자에게 알리고 조치 취함\n",
    "- 소프트랜딩"
   ]
  },
  {
   "cell_type": "code",
   "execution_count": 94,
   "id": "fc7aa204-ec00-43a0-b73d-7023f7675a0e",
   "metadata": {},
   "outputs": [
    {
     "ename": "ZeroDivisionError",
     "evalue": "division by zero",
     "output_type": "error",
     "traceback": [
      "\u001b[1;31m---------------------------------------------------------------------------\u001b[0m",
      "\u001b[1;31mZeroDivisionError\u001b[0m                         Traceback (most recent call last)",
      "\u001b[1;32mC:\\Users\\Public\\Documents\\ESTsoft\\CreatorTemp/ipykernel_16204/1725448531.py\u001b[0m in \u001b[0;36m<module>\u001b[1;34m\u001b[0m\n\u001b[1;32m----> 1\u001b[1;33m \u001b[1;36m10\u001b[0m \u001b[1;33m/\u001b[0m \u001b[1;36m0\u001b[0m\u001b[1;33m\u001b[0m\u001b[1;33m\u001b[0m\u001b[0m\n\u001b[0m",
      "\u001b[1;31mZeroDivisionError\u001b[0m: division by zero"
     ]
    }
   ],
   "source": [
    "10 / 0"
   ]
  },
  {
   "cell_type": "code",
   "execution_count": 95,
   "id": "831b80cf-0e79-4437-b206-a28accfc7207",
   "metadata": {},
   "outputs": [
    {
     "ename": "ValueError",
     "evalue": "invalid literal for int() with base 10: 'sad'",
     "output_type": "error",
     "traceback": [
      "\u001b[1;31m---------------------------------------------------------------------------\u001b[0m",
      "\u001b[1;31mValueError\u001b[0m                                Traceback (most recent call last)",
      "\u001b[1;32mC:\\Users\\Public\\Documents\\ESTsoft\\CreatorTemp/ipykernel_16204/3894927252.py\u001b[0m in \u001b[0;36m<module>\u001b[1;34m\u001b[0m\n\u001b[1;32m----> 1\u001b[1;33m \u001b[0mint\u001b[0m\u001b[1;33m(\u001b[0m\u001b[1;34m'sad'\u001b[0m\u001b[1;33m)\u001b[0m\u001b[1;33m\u001b[0m\u001b[1;33m\u001b[0m\u001b[0m\n\u001b[0m",
      "\u001b[1;31mValueError\u001b[0m: invalid literal for int() with base 10: 'sad'"
     ]
    }
   ],
   "source": [
    "int('sad')"
   ]
  },
  {
   "cell_type": "code",
   "execution_count": 96,
   "id": "a93d5061-6570-4431-bf22-d1fd99fd99e2",
   "metadata": {},
   "outputs": [
    {
     "ename": "NameError",
     "evalue": "name 'he' is not defined",
     "output_type": "error",
     "traceback": [
      "\u001b[1;31m---------------------------------------------------------------------------\u001b[0m",
      "\u001b[1;31mNameError\u001b[0m                                 Traceback (most recent call last)",
      "\u001b[1;32mC:\\Users\\Public\\Documents\\ESTsoft\\CreatorTemp/ipykernel_16204/3976646620.py\u001b[0m in \u001b[0;36m<module>\u001b[1;34m\u001b[0m\n\u001b[1;32m----> 1\u001b[1;33m \u001b[0mhe\u001b[0m \u001b[1;33m+=\u001b[0m \u001b[1;36m1\u001b[0m\u001b[1;33m\u001b[0m\u001b[1;33m\u001b[0m\u001b[0m\n\u001b[0m",
      "\u001b[1;31mNameError\u001b[0m: name 'he' is not defined"
     ]
    }
   ],
   "source": [
    "he += 1"
   ]
  },
  {
   "cell_type": "code",
   "execution_count": 98,
   "id": "25b555d1-1366-4460-aaba-6f94e545a18a",
   "metadata": {},
   "outputs": [
    {
     "ename": "IndexError",
     "evalue": "string index out of range",
     "output_type": "error",
     "traceback": [
      "\u001b[1;31m---------------------------------------------------------------------------\u001b[0m",
      "\u001b[1;31mIndexError\u001b[0m                                Traceback (most recent call last)",
      "\u001b[1;32mC:\\Users\\Public\\Documents\\ESTsoft\\CreatorTemp/ipykernel_16204/2447668817.py\u001b[0m in \u001b[0;36m<module>\u001b[1;34m\u001b[0m\n\u001b[1;32m----> 1\u001b[1;33m \u001b[1;34m'dsg'\u001b[0m\u001b[1;33m[\u001b[0m\u001b[1;36m4\u001b[0m\u001b[1;33m]\u001b[0m\u001b[1;33m\u001b[0m\u001b[1;33m\u001b[0m\u001b[0m\n\u001b[0m",
      "\u001b[1;31mIndexError\u001b[0m: string index out of range"
     ]
    }
   ],
   "source": [
    "'dsg'[4]"
   ]
  },
  {
   "cell_type": "code",
   "execution_count": null,
   "id": "6414e9de-9eeb-4198-bfa2-a7fc1b932c2d",
   "metadata": {},
   "outputs": [],
   "source": [
    "try: \n",
    "    <에러 발생될 법한 코드 블럭>\n",
    "exept <에러타입>:\n",
    "    <처리할 방법>"
   ]
  },
  {
   "cell_type": "code",
   "execution_count": 101,
   "id": "9fa93287-40b2-4b9a-a99c-1b166ae52fcf",
   "metadata": {},
   "outputs": [
    {
     "name": "stdout",
     "output_type": "stream",
     "text": [
      "0으로 나눌 수 없음\n"
     ]
    }
   ],
   "source": [
    "try:\n",
    "    10 / 0\n",
    "except ZeroDivisionError:\n",
    "    print('0으로 나눌 수 없음')"
   ]
  },
  {
   "cell_type": "code",
   "execution_count": 103,
   "id": "ddca1d28-a2e1-4445-a9d6-e1e0570c26ee",
   "metadata": {},
   "outputs": [
    {
     "name": "stdout",
     "output_type": "stream",
     "text": [
      "error\n",
      "10.0\n",
      "5.0\n",
      "3.3333333333333335\n",
      "2.5\n",
      "2.0\n",
      "1.6666666666666667\n",
      "1.4285714285714286\n",
      "1.25\n",
      "1.1111111111111112\n",
      "1.0\n",
      "0.9090909090909091\n",
      "0.8333333333333334\n"
     ]
    }
   ],
   "source": [
    "# error를 제외한 나머지도 돌아갈 수 있는 장점\n",
    "for i in range(13):\n",
    "    try:\n",
    "        print(10/  i)\n",
    "    except ZeroDivisionError:\n",
    "        print('error')"
   ]
  },
  {
   "cell_type": "code",
   "execution_count": 106,
   "id": "aa0f512e-95ff-45a9-a743-84bd05dc07b5",
   "metadata": {},
   "outputs": [
    {
     "name": "stdin",
     "output_type": "stream",
     "text": [
      "인덱스 입력: adv\n"
     ]
    },
    {
     "name": "stdout",
     "output_type": "stream",
     "text": [
      "Type Error\n",
      "invalid literal for int() with base 10: 'adv'\n"
     ]
    },
    {
     "name": "stdin",
     "output_type": "stream",
     "text": [
      "인덱스 입력: 5\n"
     ]
    },
    {
     "name": "stdout",
     "output_type": "stream",
     "text": [
      "Index Error\n",
      "string index out of range\n"
     ]
    },
    {
     "name": "stdin",
     "output_type": "stream",
     "text": [
      "인덱스 입력: q\n"
     ]
    }
   ],
   "source": [
    "word = 'hey'\n",
    "while True:\n",
    "    index = input('인덱스 입력:')\n",
    "    if index == 'q':\n",
    "        break\n",
    "    try:\n",
    "        print(word[int(index)])\n",
    "    except IndexError as e1:\n",
    "        print('Index Error')\n",
    "        print(e1)\n",
    "    except ValueError as e2:\n",
    "        print('Type Error')\n",
    "        print(e2)"
   ]
  },
  {
   "cell_type": "markdown",
   "id": "84cca07c-038c-4a07-81f4-887927701789",
   "metadata": {},
   "source": [
    "#### 2. 예외 발생시키기\n",
    "프로그램을 강제 종료하고자 할 때 사용함\n",
    "- raise > 예외를 발생시킴\n",
    "- assert > 체크의 기능"
   ]
  },
  {
   "cell_type": "code",
   "execution_count": null,
   "id": "46d8d359-66d3-40e4-a7aa-48d61a4f088c",
   "metadata": {},
   "outputs": [],
   "source": [
    "raise ValueError('print ...')"
   ]
  },
  {
   "cell_type": "code",
   "execution_count": 43,
   "id": "946abab8-798f-4cc0-aa96-36515bff7466",
   "metadata": {},
   "outputs": [
    {
     "name": "stdin",
     "output_type": "stream",
     "text": [
      "number:  num\n"
     ]
    },
    {
     "ename": "ValueError",
     "evalue": "숫자가 아닙니다.",
     "output_type": "error",
     "traceback": [
      "\u001b[1;31m---------------------------------------------------------------------------\u001b[0m",
      "\u001b[1;31mValueError\u001b[0m                                Traceback (most recent call last)",
      "\u001b[1;32mC:\\Users\\Public\\Documents\\ESTsoft\\CreatorTemp/ipykernel_17732/786552371.py\u001b[0m in \u001b[0;36m<module>\u001b[1;34m\u001b[0m\n\u001b[0;32m      2\u001b[0m     \u001b[0mnum\u001b[0m \u001b[1;33m=\u001b[0m \u001b[0minput\u001b[0m\u001b[1;33m(\u001b[0m\u001b[1;34m'number: '\u001b[0m\u001b[1;33m)\u001b[0m\u001b[1;33m\u001b[0m\u001b[1;33m\u001b[0m\u001b[0m\n\u001b[0;32m      3\u001b[0m     \u001b[1;32mif\u001b[0m \u001b[1;32mnot\u001b[0m \u001b[0mnum\u001b[0m\u001b[1;33m.\u001b[0m\u001b[0misdigit\u001b[0m\u001b[1;33m(\u001b[0m\u001b[1;33m)\u001b[0m\u001b[1;33m:\u001b[0m\u001b[1;33m\u001b[0m\u001b[1;33m\u001b[0m\u001b[0m\n\u001b[1;32m----> 4\u001b[1;33m         \u001b[1;32mraise\u001b[0m \u001b[0mValueError\u001b[0m\u001b[1;33m(\u001b[0m\u001b[1;34m'숫자가 아닙니다.'\u001b[0m\u001b[1;33m)\u001b[0m\u001b[1;33m\u001b[0m\u001b[1;33m\u001b[0m\u001b[0m\n\u001b[0m\u001b[0;32m      5\u001b[0m     \u001b[1;32melse\u001b[0m\u001b[1;33m:\u001b[0m\u001b[1;33m\u001b[0m\u001b[1;33m\u001b[0m\u001b[0m\n\u001b[0;32m      6\u001b[0m         \u001b[0mprint\u001b[0m\u001b[1;33m(\u001b[0m\u001b[0mnum\u001b[0m\u001b[1;33m)\u001b[0m\u001b[1;33m\u001b[0m\u001b[1;33m\u001b[0m\u001b[0m\n",
      "\u001b[1;31mValueError\u001b[0m: 숫자가 아닙니다."
     ]
    }
   ],
   "source": [
    "while True:\n",
    "    num = input('number: ')\n",
    "    if not num.isdigit():\n",
    "        raise ValueError('숫자가 아닙니다.')\n",
    "    else:\n",
    "        print(num)\n",
    "        break"
   ]
  },
  {
   "cell_type": "code",
   "execution_count": null,
   "id": "e008abbb-24c4-401f-9b0d-87237cd4918c",
   "metadata": {},
   "outputs": [],
   "source": [
    "assert <참인 조건, '예외 메세지' #AsserrionError"
   ]
  },
  {
   "cell_type": "code",
   "execution_count": 45,
   "id": "815f7594-2091-46ed-ae07-97c9c659aa16",
   "metadata": {},
   "outputs": [
    {
     "ename": "AssertionError",
     "evalue": "함수 아님",
     "output_type": "error",
     "traceback": [
      "\u001b[1;31m---------------------------------------------------------------------------\u001b[0m",
      "\u001b[1;31mAssertionError\u001b[0m                            Traceback (most recent call last)",
      "\u001b[1;32mC:\\Users\\Public\\Documents\\ESTsoft\\CreatorTemp/ipykernel_17732/1327319521.py\u001b[0m in \u001b[0;36m<module>\u001b[1;34m\u001b[0m\n\u001b[0;32m      3\u001b[0m     \u001b[1;32mreturn\u001b[0m \u001b[0mbin\u001b[0m\u001b[1;33m(\u001b[0m\u001b[0mnum\u001b[0m\u001b[1;33m)\u001b[0m\u001b[1;33m\u001b[0m\u001b[1;33m\u001b[0m\u001b[0m\n\u001b[0;32m      4\u001b[0m \u001b[0mget_binary\u001b[0m\u001b[1;33m(\u001b[0m\u001b[1;36m7\u001b[0m\u001b[1;33m)\u001b[0m\u001b[1;33m\u001b[0m\u001b[1;33m\u001b[0m\u001b[0m\n\u001b[1;32m----> 5\u001b[1;33m \u001b[0mget_binary\u001b[0m\u001b[1;33m(\u001b[0m\u001b[1;34m'e'\u001b[0m\u001b[1;33m)\u001b[0m\u001b[1;33m\u001b[0m\u001b[1;33m\u001b[0m\u001b[0m\n\u001b[0m",
      "\u001b[1;32mC:\\Users\\Public\\Documents\\ESTsoft\\CreatorTemp/ipykernel_17732/1327319521.py\u001b[0m in \u001b[0;36mget_binary\u001b[1;34m(num)\u001b[0m\n\u001b[0;32m      1\u001b[0m \u001b[1;32mdef\u001b[0m \u001b[0mget_binary\u001b[0m\u001b[1;33m(\u001b[0m\u001b[0mnum\u001b[0m\u001b[1;33m)\u001b[0m\u001b[1;33m:\u001b[0m\u001b[1;33m\u001b[0m\u001b[1;33m\u001b[0m\u001b[0m\n\u001b[1;32m----> 2\u001b[1;33m     \u001b[1;32massert\u001b[0m \u001b[0misinstance\u001b[0m\u001b[1;33m(\u001b[0m\u001b[0mnum\u001b[0m\u001b[1;33m,\u001b[0m \u001b[0mint\u001b[0m\u001b[1;33m)\u001b[0m\u001b[1;33m,\u001b[0m \u001b[1;34m'함수 아님'\u001b[0m\u001b[1;33m\u001b[0m\u001b[1;33m\u001b[0m\u001b[0m\n\u001b[0m\u001b[0;32m      3\u001b[0m     \u001b[1;32mreturn\u001b[0m \u001b[0mbin\u001b[0m\u001b[1;33m(\u001b[0m\u001b[0mnum\u001b[0m\u001b[1;33m)\u001b[0m\u001b[1;33m\u001b[0m\u001b[1;33m\u001b[0m\u001b[0m\n\u001b[0;32m      4\u001b[0m \u001b[0mget_binary\u001b[0m\u001b[1;33m(\u001b[0m\u001b[1;36m7\u001b[0m\u001b[1;33m)\u001b[0m\u001b[1;33m\u001b[0m\u001b[1;33m\u001b[0m\u001b[0m\n\u001b[0;32m      5\u001b[0m \u001b[0mget_binary\u001b[0m\u001b[1;33m(\u001b[0m\u001b[1;34m'e'\u001b[0m\u001b[1;33m)\u001b[0m\u001b[1;33m\u001b[0m\u001b[1;33m\u001b[0m\u001b[0m\n",
      "\u001b[1;31mAssertionError\u001b[0m: 함수 아님"
     ]
    }
   ],
   "source": [
    "def get_binary(num):\n",
    "    assert isinstance(num, int), '함수 아님'\n",
    "    return bin(num)\n",
    "\n",
    "get_binary('e')"
   ]
  },
  {
   "cell_type": "code",
   "execution_count": 47,
   "id": "98e0f011-b089-4ae8-864d-8614cf461bb2",
   "metadata": {},
   "outputs": [
    {
     "data": {
      "text/plain": [
       "'0b1000111'"
      ]
     },
     "execution_count": 47,
     "metadata": {},
     "output_type": "execute_result"
    }
   ],
   "source": [
    "get_binary(71)"
   ]
  },
  {
   "cell_type": "markdown",
   "id": "651abb53-1124-4a6e-bd95-823f1f86dd33",
   "metadata": {},
   "source": [
    "#### 예외 정의하기\n",
    "- 사용자 정의 예외\n",
    "- Exception 이라는 부모슬래스를 상속받는다."
   ]
  },
  {
   "cell_type": "code",
   "execution_count": 49,
   "id": "b1f2a600-daa1-4d78-978b-c805ec16daba",
   "metadata": {},
   "outputs": [],
   "source": [
    "class MyException(Exception):\n",
    "    pass"
   ]
  },
  {
   "cell_type": "code",
   "execution_count": 52,
   "id": "dbf6351a-ad11-41d9-9612-aff9ae780567",
   "metadata": {},
   "outputs": [
    {
     "name": "stdout",
     "output_type": "stream",
     "text": [
      "a\n",
      "b\n"
     ]
    },
    {
     "ename": "MyException",
     "evalue": "대문자",
     "output_type": "error",
     "traceback": [
      "\u001b[1;31m---------------------------------------------------------------------------\u001b[0m",
      "\u001b[1;31mMyException\u001b[0m                               Traceback (most recent call last)",
      "\u001b[1;32mC:\\Users\\Public\\Documents\\ESTsoft\\CreatorTemp/ipykernel_17732/2155221940.py\u001b[0m in \u001b[0;36m<module>\u001b[1;34m\u001b[0m\n\u001b[0;32m      1\u001b[0m \u001b[1;32mfor\u001b[0m \u001b[0mword\u001b[0m \u001b[1;32min\u001b[0m \u001b[1;33m[\u001b[0m\u001b[1;34m'a'\u001b[0m\u001b[1;33m,\u001b[0m \u001b[1;34m'b'\u001b[0m\u001b[1;33m,\u001b[0m \u001b[1;34m'C'\u001b[0m\u001b[1;33m]\u001b[0m\u001b[1;33m:\u001b[0m\u001b[1;33m\u001b[0m\u001b[1;33m\u001b[0m\u001b[0m\n\u001b[0;32m      2\u001b[0m     \u001b[1;32mif\u001b[0m \u001b[0mword\u001b[0m\u001b[1;33m.\u001b[0m\u001b[0misupper\u001b[0m\u001b[1;33m(\u001b[0m\u001b[1;33m)\u001b[0m\u001b[1;33m:\u001b[0m\u001b[1;33m\u001b[0m\u001b[1;33m\u001b[0m\u001b[0m\n\u001b[1;32m----> 3\u001b[1;33m         \u001b[1;32mraise\u001b[0m \u001b[0mMyException\u001b[0m\u001b[1;33m(\u001b[0m\u001b[1;34m'대문자'\u001b[0m\u001b[1;33m)\u001b[0m\u001b[1;33m\u001b[0m\u001b[1;33m\u001b[0m\u001b[0m\n\u001b[0m\u001b[0;32m      4\u001b[0m     \u001b[1;32melse\u001b[0m\u001b[1;33m:\u001b[0m\u001b[1;33m\u001b[0m\u001b[1;33m\u001b[0m\u001b[0m\n\u001b[0;32m      5\u001b[0m         \u001b[0mprint\u001b[0m\u001b[1;33m(\u001b[0m\u001b[0mword\u001b[0m\u001b[1;33m)\u001b[0m\u001b[1;33m\u001b[0m\u001b[1;33m\u001b[0m\u001b[0m\n",
      "\u001b[1;31mMyException\u001b[0m: 대문자"
     ]
    }
   ],
   "source": [
    "for word in ['a', 'b', 'C']:\n",
    "    if word.isupper():\n",
    "        raise MyException('대문자')\n",
    "    else:\n",
    "        print(word)"
   ]
  },
  {
   "cell_type": "code",
   "execution_count": 54,
   "id": "e78e35fe-3564-48db-bffe-79be332a424a",
   "metadata": {},
   "outputs": [
    {
     "name": "stdout",
     "output_type": "stream",
     "text": [
      "a\n",
      "b\n"
     ]
    },
    {
     "ename": "UppercaseException",
     "evalue": "대문자",
     "output_type": "error",
     "traceback": [
      "\u001b[1;31m---------------------------------------------------------------------------\u001b[0m",
      "\u001b[1;31mUppercaseException\u001b[0m                        Traceback (most recent call last)",
      "\u001b[1;32mC:\\Users\\Public\\Documents\\ESTsoft\\CreatorTemp/ipykernel_17732/591368558.py\u001b[0m in \u001b[0;36m<module>\u001b[1;34m\u001b[0m\n\u001b[0;32m      5\u001b[0m \u001b[1;32mfor\u001b[0m \u001b[0mword\u001b[0m \u001b[1;32min\u001b[0m \u001b[1;33m[\u001b[0m\u001b[1;34m'a'\u001b[0m\u001b[1;33m,\u001b[0m \u001b[1;34m'b'\u001b[0m\u001b[1;33m,\u001b[0m \u001b[1;34m'C'\u001b[0m\u001b[1;33m]\u001b[0m\u001b[1;33m:\u001b[0m\u001b[1;33m\u001b[0m\u001b[1;33m\u001b[0m\u001b[0m\n\u001b[0;32m      6\u001b[0m     \u001b[1;32mif\u001b[0m \u001b[0mword\u001b[0m\u001b[1;33m.\u001b[0m\u001b[0misupper\u001b[0m\u001b[1;33m(\u001b[0m\u001b[1;33m)\u001b[0m\u001b[1;33m:\u001b[0m\u001b[1;33m\u001b[0m\u001b[1;33m\u001b[0m\u001b[0m\n\u001b[1;32m----> 7\u001b[1;33m         \u001b[1;32mraise\u001b[0m \u001b[0mUppercaseException\u001b[0m\u001b[1;33m\u001b[0m\u001b[1;33m\u001b[0m\u001b[0m\n\u001b[0m\u001b[0;32m      8\u001b[0m     \u001b[1;32melse\u001b[0m\u001b[1;33m:\u001b[0m\u001b[1;33m\u001b[0m\u001b[1;33m\u001b[0m\u001b[0m\n\u001b[0;32m      9\u001b[0m         \u001b[0mprint\u001b[0m\u001b[1;33m(\u001b[0m\u001b[0mword\u001b[0m\u001b[1;33m)\u001b[0m\u001b[1;33m\u001b[0m\u001b[1;33m\u001b[0m\u001b[0m\n",
      "\u001b[1;31mUppercaseException\u001b[0m: 대문자"
     ]
    }
   ],
   "source": [
    "class UppercaseException(Exception):\n",
    "    def __init__(self):\n",
    "        super().__init__('대문자')\n",
    "        \n",
    "for word in ['a', 'b', 'C']:\n",
    "    if word.isupper():\n",
    "        raise UppercaseException\n",
    "    else:\n",
    "        print(word)"
   ]
  }
 ],
 "metadata": {
  "kernelspec": {
   "display_name": "Python 3 (ipykernel)",
   "language": "python",
   "name": "python3"
  },
  "language_info": {
   "codemirror_mode": {
    "name": "ipython",
    "version": 3
   },
   "file_extension": ".py",
   "mimetype": "text/x-python",
   "name": "python",
   "nbconvert_exporter": "python",
   "pygments_lexer": "ipython3",
   "version": "3.9.7"
  }
 },
 "nbformat": 4,
 "nbformat_minor": 5
}
