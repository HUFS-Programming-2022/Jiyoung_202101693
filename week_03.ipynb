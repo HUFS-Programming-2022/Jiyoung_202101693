{
 "cells": [
  {
   "cell_type": "markdown",
   "id": "ba16ffeb-e366-478a-a49f-f5da026916f0",
   "metadata": {
    "tags": []
   },
   "source": [
    "# week 3"
   ]
  },
  {
   "cell_type": "code",
   "execution_count": 7,
   "id": "fb17edca-bbcb-40f4-98f4-819ce7e51aea",
   "metadata": {},
   "outputs": [
    {
     "name": "stdin",
     "output_type": "stream",
     "text": [
      "점수를 입력하세요: 79\n",
      "결석 횟수를 입력하세요: 1\n"
     ]
    },
    {
     "name": "stdout",
     "output_type": "stream",
     "text": [
      "C\n"
     ]
    }
   ],
   "source": [
    "# Quiz 확장판 점검\n",
    "\n",
    "score = float(input('점수를 입력하세요:'))\n",
    "absent = int(input('결석 횟수를 입력하세요:'))\n",
    "\n",
    "if score >= 90:\n",
    "    print('A')\n",
    "elif absent >= 2:\n",
    "    print('F')    \n",
    "elif score >= 80:\n",
    "    print('B')\n",
    "elif score >= 70:\n",
    "    print('C')\n",
    "else:\n",
    "    print('D')"
   ]
  },
  {
   "cell_type": "markdown",
   "id": "35ff8f14-ced5-4252-b1b4-615d4dc5a8c4",
   "metadata": {},
   "source": [
    "## 중첩조건문 | nested conditional\n",
    "- if 블록 안에 또 if 블록이 만들어지는 경우\n",
    "    - 예: if ...\n",
    "            if ...\n",
    "                if...\n",
    "    - 구분은 띄어쓰기로 한다.\n",
    "    - 조건이 여러 개일 경우 사용한다.\n",
    "    - 지양, 더 예쁜 방법을 찾아본다.\n",
    "    "
   ]
  },
  {
   "cell_type": "code",
   "execution_count": 8,
   "id": "ff6850cc-195b-4477-8cee-9e1258b42a52",
   "metadata": {},
   "outputs": [
    {
     "name": "stdout",
     "output_type": "stream",
     "text": [
      "Block C\n"
     ]
    }
   ],
   "source": [
    "x = 4\n",
    "y = 8\n",
    "\n",
    "if x == y:\n",
    "    print('Block A')\n",
    "else:\n",
    "    if x > y:\n",
    "        print('Block B')\n",
    "    else:\n",
    "        print('Block C')\n",
    "        \n",
    "#수정\n",
    "if x == y:\n",
    "    print('A')\n",
    "elif x > y:\n",
    "    print('B')\n",
    "else:\n",
    "    print('C')"
   ]
  },
  {
   "cell_type": "code",
   "execution_count": 9,
   "id": "a34827b1-67d6-471e-a99c-78dce6cd73ba",
   "metadata": {},
   "outputs": [
    {
     "name": "stdout",
     "output_type": "stream",
     "text": [
      "D\n"
     ]
    }
   ],
   "source": [
    "# 4 < x < 8\n",
    "\n",
    "if x > 4: \n",
    "    print ('A') \n",
    "    if x < 8:\n",
    "        print('B')\n",
    "    else:\n",
    "        print('C')\n",
    "else:\n",
    "    print('D')"
   ]
  },
  {
   "cell_type": "code",
   "execution_count": null,
   "id": "6cb4ecc3-5efb-4924-aa2d-46ef31679ab5",
   "metadata": {},
   "outputs": [],
   "source": [
    "# 방법 1\n",
    "if (x > 4) and (x < 8): # sh\n",
    "    # A\n",
    "else:\n",
    "    # B\n",
    "    \n",
    "# 방법 2\n",
    "if 4 < x < 8: #파이썬에서만 가능함\n",
    "    # block a\n",
    "else:\n",
    "    # block b"
   ]
  },
  {
   "cell_type": "markdown",
   "id": "82da2b0b-5ec8-477b-827f-debab5b0f602",
   "metadata": {},
   "source": [
    "### 논리연산자\n",
    "- 비교연산 조건을 여러 번 사용하는 경우\n",
    "    - x > 4, x < 8\n",
    "- and, or, not\n",
    "    - A and B: A 그리고 B, A, B 둘다 참일 때 True\n",
    "    - A or B: A 혹은 B, 둘 중 하나만 참이면 True\n",
    "    - not A: A 참이면 False, 거짓이면 True (~)"
   ]
  },
  {
   "cell_type": "markdown",
   "id": "892f3027-9eaf-48fd-866e-adebfa4b2a9b",
   "metadata": {},
   "source": [
    "### True/ False\n",
    "- A = True\n",
    "- \"만약 A가 참이면, ...\""
   ]
  },
  {
   "cell_type": "code",
   "execution_count": null,
   "id": "925f8440-47d1-441c-a796-27228c6eae28",
   "metadata": {},
   "outputs": [],
   "source": [
    "if a == True: # 아님\n",
    "    print()\n",
    "    \n",
    "if a: # 아무것도 안쓰면 참일 경우를 이야기 하는 것 \n",
    "    print()"
   ]
  },
  {
   "cell_type": "markdown",
   "id": "0085d71c-11a6-4e12-8d1e-afe0cde8b892",
   "metadata": {},
   "source": [
    "### in\n",
    "- membership operator\n",
    "- 요소가 안에 포함되어 있는가 or 비슷한 조건문이 여럿일 때\n",
    "- A in B = A 가 B 에 포함되어 있나"
   ]
  },
  {
   "cell_type": "code",
   "execution_count": 15,
   "id": "7608a776-afbf-4e00-bf6e-60e64eb6e4aa",
   "metadata": {},
   "outputs": [
    {
     "name": "stdout",
     "output_type": "stream",
     "text": [
      "자음입니다\n"
     ]
    }
   ],
   "source": [
    "# exl, 모음인지 아닌지 판별하라 (a, e, i ,o, u)\n",
    "letter = 'c'\n",
    "# if letter == 'a' or letter == 'e' ...\n",
    "if letter in ['a', 'e', 'i', 'o', 'u']:\n",
    "    print('모음입니다')\n",
    "else:\n",
    "    print('자음입니다')"
   ]
  },
  {
   "cell_type": "code",
   "execution_count": 24,
   "id": "982743d5-a933-4d0d-ab39-83970bc87569",
   "metadata": {},
   "outputs": [
    {
     "name": "stdout",
     "output_type": "stream",
     "text": [
      "모음이 있습니다\n"
     ]
    }
   ],
   "source": [
    "# 단어에 모음이 있나 없나\n",
    "word = 'banana'\n",
    "if 'a' or 'e' or 'i' or 'o' or 'u' in list(word):\n",
    "    print('모음이 있습니다')  # word 가 string 이기 때문에 ['a', 'e', 'i', 'o', 'u'] x\n",
    "else:\n",
    "    print('모음이 없습니다')"
   ]
  },
  {
   "cell_type": "markdown",
   "id": "40efc0a8-3212-4fbf-af86-8d4163ee551f",
   "metadata": {},
   "source": [
    "### 코끼리연산자\n",
    "- walrus operator\n",
    "- :=\n",
    "- 할당 + 테스트 동시에 하는 기능"
   ]
  },
  {
   "cell_type": "code",
   "execution_count": 28,
   "id": "3f4b991b-3ca8-4c69-a9ed-a4d8c44dea95",
   "metadata": {},
   "outputs": [
    {
     "data": {
      "text/plain": [
       "100"
      ]
     },
     "execution_count": 28,
     "metadata": {},
     "output_type": "execute_result"
    }
   ],
   "source": [
    "limit = 100\n",
    "string = 'hi' * 50 # 5 * 20 = 100\n",
    "string\n",
    "len(string)"
   ]
  },
  {
   "cell_type": "code",
   "execution_count": 29,
   "id": "96b389f4-c79d-44a1-bb3b-c2d1039b78d1",
   "metadata": {},
   "outputs": [
    {
     "name": "stdout",
     "output_type": "stream",
     "text": [
      "불가능하다\n"
     ]
    }
   ],
   "source": [
    "diff = limit - len(string)\n",
    "if diff > 0:\n",
    "    print('가능하다')\n",
    "else:\n",
    "    print('불가능하다')"
   ]
  },
  {
   "cell_type": "code",
   "execution_count": 30,
   "id": "68005318-30fe-43b3-8240-b4115f3480b9",
   "metadata": {},
   "outputs": [
    {
     "name": "stdout",
     "output_type": "stream",
     "text": [
      "불가능합니다\n"
     ]
    }
   ],
   "source": [
    "if diff := limit - len(string):\n",
    "    print('가능합니다')\n",
    "else: print('불가능합니다')"
   ]
  },
  {
   "cell_type": "markdown",
   "id": "f4c45f37-3704-4f1a-8788-69d129b53e52",
   "metadata": {},
   "source": [
    "### 퀴즈\n",
    "- 윤년을 구해봅시다.\n",
    "    - 연도 입력받는다.\n",
    "    - 4로 나눠지면 윤년\n",
    "    - 100으로 나눠지면 안된다.\n",
    "    - 400으로 나눠지면 윤년\n",
    "- 출력: '{}년은 윤년입니다.'/'아닙니다.'"
   ]
  },
  {
   "cell_type": "code",
   "execution_count": 37,
   "id": "0a19625c-4452-45ae-ad60-d19de88c3383",
   "metadata": {},
   "outputs": [
    {
     "name": "stdin",
     "output_type": "stream",
     "text": [
      " 4000\n"
     ]
    },
    {
     "name": "stdout",
     "output_type": "stream",
     "text": [
      "4000년은 윤년입니다.\n"
     ]
    }
   ],
   "source": [
    "year = int(input())\n",
    "if (year % 4 == 0) and (year % 100 != 0) or (year % 400 == 0):\n",
    "    print(f'{year}년은 윤년입니다.')\n",
    "else:\n",
    "    print(f'{year}년은 윤년이 아닙니다.')"
   ]
  },
  {
   "cell_type": "markdown",
   "id": "e50a6f74-710c-4249-9246-d36beaa72274",
   "metadata": {},
   "source": [
    "## String | 문자열\n",
    "- 시스템에서 가장 작은 단위\n",
    "- 불변적인 성격을 가진다. immutable\n",
    "    - 예: jack -> jeck\n",
    "- '. \" 으로 선언한다.\n",
    "    - 예: \"25.5\"\n",
    "    - ''', \"\"\" 주석이다\n",
    "- 형변환은 str()\n",
    "\n",
    "### escape character | 이스케이프문자\n",
    "- 특수한 형태의 문자열, 눈에 보이는 대로 인식되지 않는 문자\n",
    "- \\ + ch\n",
    "- 예: \\n, \\t, \\b, \\', \\\", ...\n",
    "    - \\n 출력 > \\\\n\n",
    "    - r''\n",
    "- 다른 스트링을 만드는 것이 아님."
   ]
  },
  {
   "cell_type": "code",
   "execution_count": 43,
   "id": "b6e957f6-a435-4e25-81af-c9b485104ba9",
   "metadata": {},
   "outputs": [
    {
     "name": "stdout",
     "output_type": "stream",
     "text": [
      "my\\nname\\nis\n"
     ]
    }
   ],
   "source": [
    "name = r'my\\nname\\nis'\n",
    "print(name)"
   ]
  },
  {
   "cell_type": "code",
   "execution_count": 42,
   "id": "c2eb9a30-868f-450f-ac7c-c2e34a756261",
   "metadata": {},
   "outputs": [
    {
     "data": {
      "text/plain": [
       "\"it's a banana.\""
      ]
     },
     "execution_count": 42,
     "metadata": {},
     "output_type": "execute_result"
    }
   ],
   "source": [
    "'it\\'s a banana.'"
   ]
  },
  {
   "cell_type": "code",
   "execution_count": 44,
   "id": "1d92fee0-bbbe-49a1-a6a9-8c15ab221b7e",
   "metadata": {},
   "outputs": [
    {
     "data": {
      "text/plain": [
       "'my\\nname\\nis'"
      ]
     },
     "execution_count": 44,
     "metadata": {},
     "output_type": "execute_result"
    }
   ],
   "source": [
    "name = 'my\\nname\\nis'\n",
    "name"
   ]
  },
  {
   "cell_type": "code",
   "execution_count": 45,
   "id": "02dbbb64-af8c-4b0e-a14e-e325349dbcc4",
   "metadata": {},
   "outputs": [
    {
     "name": "stdout",
     "output_type": "stream",
     "text": [
      "my\n",
      "name\n",
      "is\n"
     ]
    }
   ],
   "source": [
    "print(name)"
   ]
  },
  {
   "cell_type": "markdown",
   "id": "48c3364b-d854-4d07-8638-af56c2f34723",
   "metadata": {},
   "source": [
    "###  연산\n",
    "- concatenatation\n",
    "    - '' + '' => 공백 없이 결합하는 방법\n",
    "- 곱하기\n",
    "    '' * 5 => 복제"
   ]
  },
  {
   "cell_type": "code",
   "execution_count": 46,
   "id": "d282ff82-31c2-4ff4-97f1-f36636ec8031",
   "metadata": {},
   "outputs": [
    {
     "data": {
      "text/plain": [
       "'dogdog'"
      ]
     },
     "execution_count": 46,
     "metadata": {},
     "output_type": "execute_result"
    }
   ],
   "source": [
    "animal = 'dog'\n",
    "animal + animal"
   ]
  },
  {
   "cell_type": "code",
   "execution_count": 47,
   "id": "d4c28733-3cdc-491e-9af1-c0f8ae603e96",
   "metadata": {},
   "outputs": [
    {
     "data": {
      "text/plain": [
       "'dogdogdog'"
      ]
     },
     "execution_count": 47,
     "metadata": {},
     "output_type": "execute_result"
    }
   ],
   "source": [
    "animal * 3"
   ]
  },
  {
   "cell_type": "code",
   "execution_count": 48,
   "id": "549f6944-f892-4d4f-abc0-b07d1564c526",
   "metadata": {},
   "outputs": [
    {
     "data": {
      "text/plain": [
       "'d'"
      ]
     },
     "execution_count": 48,
     "metadata": {},
     "output_type": "execute_result"
    }
   ],
   "source": [
    "# immutable\n",
    "animal[0]"
   ]
  },
  {
   "cell_type": "code",
   "execution_count": 49,
   "id": "32cfa890-de3f-4714-940e-c04d28193b09",
   "metadata": {},
   "outputs": [
    {
     "ename": "TypeError",
     "evalue": "'str' object does not support item assignment",
     "output_type": "error",
     "traceback": [
      "\u001b[1;31m---------------------------------------------------------------------------\u001b[0m",
      "\u001b[1;31mTypeError\u001b[0m                                 Traceback (most recent call last)",
      "\u001b[1;32m~\\AppData\\Local\\Temp/ipykernel_24204/3580777838.py\u001b[0m in \u001b[0;36m<module>\u001b[1;34m\u001b[0m\n\u001b[1;32m----> 1\u001b[1;33m \u001b[0manimal\u001b[0m\u001b[1;33m[\u001b[0m\u001b[1;36m0\u001b[0m\u001b[1;33m]\u001b[0m \u001b[1;33m=\u001b[0m \u001b[1;34m'c'\u001b[0m\u001b[1;33m\u001b[0m\u001b[1;33m\u001b[0m\u001b[0m\n\u001b[0m",
      "\u001b[1;31mTypeError\u001b[0m: 'str' object does not support item assignment"
     ]
    }
   ],
   "source": [
    "animal[0] = 'c'"
   ]
  },
  {
   "cell_type": "markdown",
   "id": "0964db80-6814-4b99-a261-b5782cf04723",
   "metadata": {},
   "source": [
    "### 슬라이싱: 추출\n",
    "- 문자열의 일부분을 떼어내는 작업\n",
    "- 대괄호 사용, 그 안에 오프셋을 지정\n",
    "- 오프셋은 0부터 시작한다.\n",
    "    01234\n",
    "    puppy\n",
    "       -1\n",
    "- 음수도 가능함. -1 부터 시작\n",
    "- 오프셋은 [시작:끝:스텝]\n",
    "- 시작은 포함, 끝은 포함하지 않음 (이상 - 미만)"
   ]
  },
  {
   "cell_type": "code",
   "execution_count": 50,
   "id": "4a03805e-3ecf-4f87-a23e-8069b951360e",
   "metadata": {},
   "outputs": [
    {
     "data": {
      "text/plain": [
       "'y'"
      ]
     },
     "execution_count": 50,
     "metadata": {},
     "output_type": "execute_result"
    }
   ],
   "source": [
    "animal = 'puppy'\n",
    "animal[-1]"
   ]
  },
  {
   "cell_type": "code",
   "execution_count": 52,
   "id": "fa06eae8-db8b-4a7c-aacb-abc153d7f1d0",
   "metadata": {},
   "outputs": [
    {
     "data": {
      "text/plain": [
       "'y'"
      ]
     },
     "execution_count": 52,
     "metadata": {},
     "output_type": "execute_result"
    }
   ],
   "source": [
    "name[1:2]"
   ]
  },
  {
   "cell_type": "code",
   "execution_count": 55,
   "id": "cd0efafa-eb82-4cd2-ab05-520fc25ee5c0",
   "metadata": {},
   "outputs": [
    {
     "data": {
      "text/plain": [
       "'my\\nnam'"
      ]
     },
     "execution_count": 55,
     "metadata": {},
     "output_type": "execute_result"
    }
   ],
   "source": [
    "# 처음부터 5까지 출력\n",
    "# name[0:6]\n",
    "name[:6]"
   ]
  },
  {
   "cell_type": "code",
   "execution_count": 56,
   "id": "2499b781-08fd-4884-bad3-e7cb9b43803f",
   "metadata": {},
   "outputs": [
    {
     "data": {
      "text/plain": [
       "'m\\naei'"
      ]
     },
     "execution_count": 56,
     "metadata": {},
     "output_type": "execute_result"
    }
   ],
   "source": [
    "# 처음부터 끝까지 2스텝씩 출력\n",
    "name[::2]"
   ]
  },
  {
   "cell_type": "code",
   "execution_count": 58,
   "id": "d61e2987-cc5d-4074-a12c-08e58f4f065a",
   "metadata": {},
   "outputs": [
    {
     "data": {
      "text/plain": [
       "10"
      ]
     },
     "execution_count": 58,
     "metadata": {},
     "output_type": "execute_result"
    }
   ],
   "source": [
    "len(name)"
   ]
  },
  {
   "cell_type": "code",
   "execution_count": 59,
   "id": "9762178a-4e1b-4261-ac1a-4e735dda9738",
   "metadata": {},
   "outputs": [
    {
     "data": {
      "text/plain": [
       "'si\\neman\\nym'"
      ]
     },
     "execution_count": 59,
     "metadata": {},
     "output_type": "execute_result"
    }
   ],
   "source": [
    "# 모든 글자를 거꾸로 출력하세요\n",
    "name[::-1]"
   ]
  },
  {
   "cell_type": "code",
   "execution_count": 60,
   "id": "095630ec-6adc-464e-bae8-f5a22adb92ce",
   "metadata": {},
   "outputs": [
    {
     "data": {
      "text/plain": [
       "'lemon'"
      ]
     },
     "execution_count": 60,
     "metadata": {},
     "output_type": "execute_result"
    }
   ],
   "source": [
    "fruits = ['apple', 'banana', 'lemon', 'peach']\n",
    "fruits[2]"
   ]
  },
  {
   "cell_type": "markdown",
   "id": "c4ba4fb3-9606-46eb-ab6b-7bbbecd21470",
   "metadata": {},
   "source": [
    "## NLTK\n"
   ]
  },
  {
   "cell_type": "markdown",
   "id": "f8f7811b-8638-4dae-bf34-e567a9a07f7c",
   "metadata": {},
   "source": [
    "- natural language toolkit\n",
    "- 자연어 분석을 위해 교육용으로 배포된 패키지\n",
    "- 내장함수, 기능들이 추가됨\n",
    "    - 토크나이즈, 파싱, 태깅, ..."
   ]
  },
  {
   "cell_type": "code",
   "execution_count": 62,
   "id": "b4cda418-1b04-45de-a912-0b5dbfdc1c62",
   "metadata": {
    "tags": []
   },
   "outputs": [],
   "source": [
    "# !pip install nltk #설치"
   ]
  },
  {
   "cell_type": "code",
   "execution_count": 2,
   "id": "3f243282-1158-464f-a927-72c30660d18e",
   "metadata": {
    "tags": []
   },
   "outputs": [
    {
     "data": {
      "text/plain": [
       "True"
      ]
     },
     "execution_count": 2,
     "metadata": {},
     "output_type": "execute_result"
    }
   ],
   "source": [
    "import nltk # 가져오기\n",
    "nltk.download('book', quiet=True) # 부분적으로 다운받기"
   ]
  },
  {
   "cell_type": "code",
   "execution_count": 3,
   "id": "7dc9db00-e2a9-4272-a5f9-9e790f509cdf",
   "metadata": {
    "collapsed": true,
    "jupyter": {
     "outputs_hidden": true
    },
    "tags": []
   },
   "outputs": [
    {
     "name": "stdout",
     "output_type": "stream",
     "text": [
      "*** Introductory Examples for the NLTK Book ***\n",
      "Loading text1, ..., text9 and sent1, ..., sent9\n",
      "Type the name of the text or sentence to view it.\n",
      "Type: 'texts()' or 'sents()' to list the materials.\n",
      "text1: Moby Dick by Herman Melville 1851\n",
      "text2: Sense and Sensibility by Jane Austen 1811\n",
      "text3: The Book of Genesis\n",
      "text4: Inaugural Address Corpus\n",
      "text5: Chat Corpus\n",
      "text6: Monty Python and the Holy Grail\n",
      "text7: Wall Street Journal\n",
      "text8: Personals Corpus\n",
      "text9: The Man Who Was Thursday by G . K . Chesterton 1908\n"
     ]
    }
   ],
   "source": [
    "from nltk import book # 가져오기"
   ]
  },
  {
   "cell_type": "code",
   "execution_count": 5,
   "id": "9a076fbf-d54c-4db5-b438-19176801a16f",
   "metadata": {},
   "outputs": [
    {
     "data": {
      "text/plain": [
       "['[', 'Moby', 'Dick', 'by', 'Herman', 'Melville', '1851', ']']"
      ]
     },
     "execution_count": 5,
     "metadata": {},
     "output_type": "execute_result"
    }
   ],
   "source": [
    "moby = book.text1\n",
    "moby.tokens[:8] #토큰에 접근하는 방법\n",
    "# 토큰: 프로그래밍의 단어 단위 hello world, i'm not a coward.\n",
    "    # i'm / i, 'm / i, am"
   ]
  },
  {
   "cell_type": "code",
   "execution_count": 72,
   "id": "570224b5-ddcc-44eb-9ab1-d2bdfde8e7b6",
   "metadata": {},
   "outputs": [
    {
     "data": {
      "text/plain": [
       "260819"
      ]
     },
     "execution_count": 72,
     "metadata": {},
     "output_type": "execute_result"
    }
   ],
   "source": [
    "# 1. 길이 세기\n",
    "len(moby) # 26만자"
   ]
  },
  {
   "cell_type": "code",
   "execution_count": 78,
   "id": "0b573ea7-f6df-46c9-bc4f-5bc104430118",
   "metadata": {},
   "outputs": [
    {
     "data": {
      "text/plain": [
       "19317"
      ]
     },
     "execution_count": 78,
     "metadata": {},
     "output_type": "execute_result"
    }
   ],
   "source": [
    "# 2. 중복 없이 단어 몇 개?\n",
    "len(set(moby)) # 1.9만 자 list > set"
   ]
  },
  {
   "cell_type": "markdown",
   "id": "dfc01326-c51d-4b0f-8fe0-e1d827726b98",
   "metadata": {},
   "source": [
    "- list\n",
    "    - ['a', 7, True]\n",
    "    - 순서가 있고\n",
    "    - 중복이 허용된다\n",
    "- set\n",
    "    - {'a', 3, True}\n",
    "    - 순서 없고\n",
    "    - 중복 허용 안 됨\n",
    "    - set{}\n",
    "    - 수학의 집합 개념"
   ]
  },
  {
   "cell_type": "code",
   "execution_count": 80,
   "id": "990066f8-e72b-409e-a245-f2366b1fd9eb",
   "metadata": {},
   "outputs": [
    {
     "data": {
      "text/plain": [
       "['LG', 'apple', 'Samsung', 'apple']"
      ]
     },
     "execution_count": 80,
     "metadata": {},
     "output_type": "execute_result"
    }
   ],
   "source": [
    "cell_phones = ['LG', 'apple', 'Samsung', 'apple']\n",
    "cell_phones"
   ]
  },
  {
   "cell_type": "code",
   "execution_count": 81,
   "id": "a2850b87-d910-4f11-b5dd-2c26baa642ca",
   "metadata": {},
   "outputs": [
    {
     "data": {
      "text/plain": [
       "{'LG', 'Samsung', 'apple'}"
      ]
     },
     "execution_count": 81,
     "metadata": {},
     "output_type": "execute_result"
    }
   ],
   "source": [
    "set(cell_phones)"
   ]
  },
  {
   "cell_type": "code",
   "execution_count": 82,
   "id": "ab56496f-110c-40ba-a7f7-71160cfa8166",
   "metadata": {},
   "outputs": [
    {
     "data": {
      "text/plain": [
       "0.07406285585022564"
      ]
     },
     "execution_count": 82,
     "metadata": {},
     "output_type": "execute_result"
    }
   ],
   "source": [
    "# lexical diversity\n",
    "len(set(moby)) / len(moby)"
   ]
  },
  {
   "cell_type": "code",
   "execution_count": 85,
   "id": "a4cad3b1-b067-4492-96f0-31e9a5347d30",
   "metadata": {},
   "outputs": [
    {
     "data": {
      "text/plain": [
       "['apple', 'apple', 'Samsung', 'LG']"
      ]
     },
     "execution_count": 85,
     "metadata": {},
     "output_type": "execute_result"
    }
   ],
   "source": [
    "# 정렬\n",
    "sorted(cell_phones, reverse=True)"
   ]
  },
  {
   "cell_type": "code",
   "execution_count": 90,
   "id": "fa1f80f3-4b23-4ad7-aa11-5d5fcf50a4cc",
   "metadata": {},
   "outputs": [
    {
     "data": {
      "text/plain": [
       "['(',\n",
       " '.',\n",
       " '1851',\n",
       " 'Dick',\n",
       " 'ETYMOLOGY',\n",
       " 'Herman',\n",
       " 'Melville',\n",
       " 'Moby',\n",
       " '[',\n",
       " ']',\n",
       " 'by']"
      ]
     },
     "execution_count": 90,
     "metadata": {},
     "output_type": "execute_result"
    }
   ],
   "source": [
    "sorted(set(moby[:11])) # 11개를 뽑은 후 정렬"
   ]
  },
  {
   "cell_type": "code",
   "execution_count": 89,
   "id": "b689b002-89c5-41c7-a3f2-3f5335b3950d",
   "metadata": {},
   "outputs": [
    {
     "data": {
      "text/plain": [
       "['!', '!\"', '!\"--', \"!'\", '!\\'\"', '!)', '!)\"', '!*']"
      ]
     },
     "execution_count": 89,
     "metadata": {},
     "output_type": "execute_result"
    }
   ],
   "source": [
    "sorted(set(moby))[:8] # 정렬 후 8개를 뽑음"
   ]
  },
  {
   "cell_type": "markdown",
   "id": "4b550a34-8865-4f83-a944-4b54d7dc0c19",
   "metadata": {},
   "source": [
    "### Quiz 1 \n",
    "- text6 가져와서 토큰을 변수에 담고\n",
    "- 중복 없는 셋으로 저장하고 내림차순\n",
    "    - 앞에서 10개 단어 출력\n",
    "    - 단어에 z가 있으면 z를 대문자로 바꾸시오\n",
    "    - z가 없는데 4자 이상이면 끝 글자를 대문자로 바꾸라.\n",
    "    \n",
    "### Quiz 2\n",
    "- 주민번호, 휴대폰 번호, 이메일 주소 입력 받는다.\n",
    "- 주민번호, 휴대폰 번호는 숫자만 입력받는다. (- 없이)\n",
    "- 이메일 주소는 아이디만 입력받는다. (@xxx 없이)\n",
    "    - 1. \"당신은 {}년 {}월 {}일 출생의 {남성/여성}입니다.\"\n",
    "    - 2. 휴대폰 번호: 000-0000-0000\n",
    "    - 3. 이메일 주소: XXXX000@gmail.com"
   ]
  },
  {
   "cell_type": "code",
   "execution_count": 5,
   "id": "5ecd9518-7ff7-48c0-9f0d-0dc68971bf97",
   "metadata": {},
   "outputs": [
    {
     "name": "stdout",
     "output_type": "stream",
     "text": [
      "['zoosh', 'zoop', 'zoo', 'zone', 'zhiv', 'yourself', 'yours', 'your', 'young', 'you']\n"
     ]
    }
   ],
   "source": [
    "# Quiz1\n",
    "\n",
    "moby = book.text6\n",
    "moby_list = sorted(set(moby.tokens), reverse=True)[:10]\n",
    "\n",
    "print(moby_list)"
   ]
  },
  {
   "cell_type": "code",
   "execution_count": 6,
   "id": "25760ce2-9938-4631-b1c0-57114dda6f4f",
   "metadata": {},
   "outputs": [
    {
     "data": {
      "text/plain": [
       "['Zoosh',\n",
       " 'Zoop',\n",
       " 'Zoo',\n",
       " 'Zone',\n",
       " 'Zhiv',\n",
       " 'yourself',\n",
       " 'yours',\n",
       " 'your',\n",
       " 'young',\n",
       " 'you']"
      ]
     },
     "execution_count": 6,
     "metadata": {},
     "output_type": "execute_result"
    }
   ],
   "source": [
    "moby_list[:5] = 'Zoosh', 'Zoop', 'Zoo', 'Zone', 'Zhiv'\n",
    "moby_list"
   ]
  },
  {
   "cell_type": "code",
   "execution_count": 7,
   "id": "37495e02-437b-44e2-bc34-56934dd6131f",
   "metadata": {},
   "outputs": [
    {
     "data": {
      "text/plain": [
       "['Zoosh',\n",
       " 'Zoop',\n",
       " 'Zoo',\n",
       " 'Zone',\n",
       " 'Zhiv',\n",
       " 'yourselF',\n",
       " 'yourS',\n",
       " 'youR',\n",
       " 'younG',\n",
       " 'you']"
      ]
     },
     "execution_count": 7,
     "metadata": {},
     "output_type": "execute_result"
    }
   ],
   "source": [
    "moby_list[5:9] = 'yourselF', 'yourS', 'youR', 'younG'\n",
    "moby_list"
   ]
  },
  {
   "cell_type": "code",
   "execution_count": 16,
   "id": "026efa31-e829-4bd7-8ff9-cf7beffdf176",
   "metadata": {},
   "outputs": [
    {
     "name": "stdin",
     "output_type": "stream",
     "text": [
      "주민번호를 입력하시오(- 없이) 0201014344444\n",
      "휴대폰 번호를 입력하시오(- 없이) 01012345678\n",
      "구글 아이디를 입력하시오 qwrtqy\n"
     ]
    },
    {
     "name": "stdout",
     "output_type": "stream",
     "text": [
      "당신은 2002년 1월 1일 출생의 여자입니다.\n",
      "당신의 휴대폰 번호는 010-1234-5678입니다.\n",
      "당신의 이메일 주소는 qwrtqy@gmail.com입니다.\n"
     ]
    }
   ],
   "source": [
    "# Quiz2\n",
    "\n",
    "security_number = input('주민번호를 입력하시오(- 없이)')\n",
    "phone = input('휴대폰 번호를 입력하시오(- 없이)')\n",
    "google_id = input('구글 아이디를 입력하시오')\n",
    "sex = ''\n",
    "year = ''\n",
    "list_sec_num = list(security_number)\n",
    "list_ph_num = list(phone)\n",
    "month = int(security_number[2:4])\n",
    "day = int(security_number[4:6])\n",
    "\n",
    "if int(security_number[6]) == 1: \n",
    "    year = '19' + security_number[0:2]\n",
    "    sex = '남자'\n",
    "elif int(security_number[6]) == 2:\n",
    "    year = '19' + security_number[0:2]\n",
    "    sex = '여자'\n",
    "elif int(security_number[0]) == 3:\n",
    "    year = '20' + security_number[0:2]\n",
    "    sex = '남자'\n",
    "else:\n",
    "    year = '20' + security_number[0:2]\n",
    "    sex = '여자'\n",
    "    \n",
    "phone_number = phone[0:3] + '-' + phone[3:7] + '-' + phone[7:]\n",
    "email = google_id + '@gmail.com'\n",
    "\n",
    "print(f'당신은 {year}년 {month}월 {day}일 출생의 {sex}입니다.')\n",
    "print(f'당신의 휴대폰 번호는 {phone_number}입니다.')\n",
    "print(f'당신의 이메일 주소는 {email}입니다.')"
   ]
  },
  {
   "cell_type": "code",
   "execution_count": null,
   "id": "2b47acb2-c4ed-4909-a496-cbf8c89d2ab9",
   "metadata": {},
   "outputs": [],
   "source": []
  }
 ],
 "metadata": {
  "kernelspec": {
   "display_name": "Python 3 (ipykernel)",
   "language": "python",
   "name": "python3"
  },
  "language_info": {
   "codemirror_mode": {
    "name": "ipython",
    "version": 3
   },
   "file_extension": ".py",
   "mimetype": "text/x-python",
   "name": "python",
   "nbconvert_exporter": "python",
   "pygments_lexer": "ipython3",
   "version": "3.9.7"
  }
 },
 "nbformat": 4,
 "nbformat_minor": 5
}
