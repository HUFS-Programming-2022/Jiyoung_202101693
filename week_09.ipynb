{
 "cells": [
  {
   "cell_type": "markdown",
   "id": "be4d54d0-1c5e-45cb-b134-a1b59eb36bf3",
   "metadata": {},
   "source": [
    "## week 09"
   ]
  },
  {
   "cell_type": "markdown",
   "id": "1f84a705-2e8d-4dfe-8362-a263ca1c0487",
   "metadata": {},
   "source": [
    "## Dictionary\n",
    "- 영어 사전\n",
    "    - 단어: 뜻\n",
    "    - 키: 값\n",
    "    - 순서가 없다.\n",
    "    - \"키로 값을 찾는다.\"\n",
    "        - 키는 중복되지 않는 고유한 값\n",
    "    - 가변: 수정, 삭제, 추가, 가능\n",
    "    - 타입: dict\n",
    "    - 형변환: `dict()`\n",
    "    - 중괄호 사용 {}, 자료구조가 올 수 있음\n",
    "    - 값에 다양한 자료구조가 올 수 있음\n",
    "        - a: 1, a: [1, 2, 3, 4]"
   ]
  },
  {
   "cell_type": "code",
   "execution_count": 2,
   "id": "81e1cf3c-a84b-4783-8e16-05d1d2bc81e6",
   "metadata": {},
   "outputs": [
    {
     "data": {
      "text/plain": [
       "2"
      ]
     },
     "execution_count": 2,
     "metadata": {},
     "output_type": "execute_result"
    }
   ],
   "source": [
    "num = [1, 2, 3, 2, 3]\n",
    "num[3]"
   ]
  },
  {
   "cell_type": "code",
   "execution_count": 4,
   "id": "b6d74a7e-b1a2-46be-b7f0-1c55f207036a",
   "metadata": {},
   "outputs": [
    {
     "data": {
      "text/plain": [
       "set"
      ]
     },
     "execution_count": 4,
     "metadata": {},
     "output_type": "execute_result"
    }
   ],
   "source": [
    "dict1 = dict()\n",
    "dict1 = {}\n",
    "# set\n",
    "dict1 = {} # dict type\n",
    "dict1 = set()\n",
    "type(dict1)"
   ]
  },
  {
   "cell_type": "code",
   "execution_count": 10,
   "id": "71acab43-a811-49d7-a627-234a158106ca",
   "metadata": {},
   "outputs": [
    {
     "data": {
      "text/plain": [
       "{3: 'c', 2: 'b'}"
      ]
     },
     "execution_count": 10,
     "metadata": {},
     "output_type": "execute_result"
    }
   ],
   "source": [
    "dict_ex = {2, 3, 4} # set\n",
    "dict_ex = {3: 'a', 2: 'b', 3: 'c'}\n",
    "dict_ex"
   ]
  },
  {
   "cell_type": "code",
   "execution_count": 13,
   "id": "81ea1cfa-c41b-4317-9ffd-644dbfc75f25",
   "metadata": {},
   "outputs": [
    {
     "data": {
      "text/plain": [
       "({'name': 'James', '학번': 202201, '학과': '경제학과'},\n",
       " {'이름': 'Laura', '학번': 202203, '학과': '스페인어과'},\n",
       " {'이름': 'Louis', '학번': 202202, '학과': '컴공과'})"
      ]
     },
     "execution_count": 13,
     "metadata": {},
     "output_type": "execute_result"
    }
   ],
   "source": [
    "attendance = {202201: ['Janmes', '경제학과'], 202202: ['Louis', '컴공과']} # 출석부에 적합한 키: 학번으로 키 가져가기\n",
    "attendance1 = dict(name='James', 학번=202201, 학과='경제학과')\n",
    "attendance2 = dict(이름='Laura', 학번=202203, 학과='스페인어과')\n",
    "attendance3 = dict(이름='Louis', 학번=202202, 학과='컴공과')\n",
    "attendance1, attendance2, attendance3"
   ]
  },
  {
   "cell_type": "markdown",
   "id": "e4b8dcee-02c3-4d6b-80a5-ac7319a3a9dd",
   "metadata": {},
   "source": [
    "### 형변환"
   ]
  },
  {
   "cell_type": "code",
   "execution_count": 2,
   "id": "9f834758-2f8f-44c8-b696-341c814b98a8",
   "metadata": {},
   "outputs": [
    {
     "data": {
      "text/plain": [
       "{'a': 'b', 'b': 'c', 'c': 'a'}"
      ]
     },
     "execution_count": 2,
     "metadata": {},
     "output_type": "execute_result"
    }
   ],
   "source": [
    "list_ex = [['a', 'b'], ['b', 'c'], ['c', 'a']]\n",
    "dict(list_ex) # 페어가 있어서 가능"
   ]
  },
  {
   "cell_type": "code",
   "execution_count": 4,
   "id": "934cc879-bea3-4c0d-8325-950333352fe9",
   "metadata": {},
   "outputs": [
    {
     "data": {
      "text/plain": [
       "{1: 0, 3: 6}"
      ]
     },
     "execution_count": 4,
     "metadata": {},
     "output_type": "execute_result"
    }
   ],
   "source": [
    "# 같은 key 값이 있는 경우에는 마지막 value 값으로 입력됨\n",
    "list_ex2 = [[1, 2], [1, 0], [3, 6]]\n",
    "dict(list_ex2)"
   ]
  },
  {
   "cell_type": "code",
   "execution_count": 6,
   "id": "903e493c-470b-4118-9434-4cd080769662",
   "metadata": {},
   "outputs": [
    {
     "data": {
      "text/plain": [
       "{'1': '2', '2': '3', '5': '7'}"
      ]
     },
     "execution_count": 6,
     "metadata": {},
     "output_type": "execute_result"
    }
   ],
   "source": [
    "# 문자열도 순회 가능. 단, 두자리까지만, 예외는 오류 발생\n",
    "list_ex3 = ['12', '23', '57']\n",
    "dict(list_ex3)"
   ]
  },
  {
   "cell_type": "markdown",
   "id": "05c6a400-3006-49d4-b921-da7f427155c8",
   "metadata": {},
   "source": [
    "### 항목 조회 & 변경"
   ]
  },
  {
   "cell_type": "code",
   "execution_count": 7,
   "id": "cf7a1583-bb72-407d-b4df-6c4068ed30e3",
   "metadata": {},
   "outputs": [],
   "source": [
    "pythons = {\n",
    "    'chapman': 'graham', \n",
    "    'clese': 'john', \n",
    "    'idle': 'eric', \n",
    "    'jones': 'terry', \n",
    "    'palin': 'michael'\n",
    "}"
   ]
  },
  {
   "cell_type": "code",
   "execution_count": 10,
   "id": "59f62348-3fd7-48c5-a1a9-5b6899ee1cbc",
   "metadata": {},
   "outputs": [
    {
     "data": {
      "text/plain": [
       "'eric'"
      ]
     },
     "execution_count": 10,
     "metadata": {},
     "output_type": "execute_result"
    }
   ],
   "source": [
    "# value 찾기\n",
    "pythons['idle']"
   ]
  },
  {
   "cell_type": "code",
   "execution_count": 13,
   "id": "f6903f90-c8b4-424e-9471-cc478a5ec925",
   "metadata": {},
   "outputs": [
    {
     "data": {
      "text/plain": [
       "{'chapman': 'graham',\n",
       " 'clese': 'john',\n",
       " 'idle': 'james',\n",
       " 'jones': 'terry',\n",
       " 'palin': 'michael',\n",
       " 'hwa': 'chloe'}"
      ]
     },
     "execution_count": 13,
     "metadata": {},
     "output_type": "execute_result"
    }
   ],
   "source": [
    "# []에 없는 값을 입력하면 오류, \n",
    "# dict_name[없는key] = '새로운 value' > 새롭게 추가됨\n",
    "# dict_name[기존key] = '변경 value' > value 변경\n",
    "pythons['hwa'] = 'chloe'\n",
    "pythons['idle'] = 'james'\n",
    "pythons"
   ]
  },
  {
   "cell_type": "code",
   "execution_count": 14,
   "id": "780baa6a-c51e-4a91-bd45-8b9b4232fc75",
   "metadata": {},
   "outputs": [
    {
     "data": {
      "text/plain": [
       "0"
      ]
     },
     "execution_count": 14,
     "metadata": {},
     "output_type": "execute_result"
    }
   ],
   "source": [
    "# get()\n",
    "# dict.get(key) > 없는 키는 None반환\n",
    "pythons.get('lee', 0)"
   ]
  },
  {
   "cell_type": "markdown",
   "id": "4c415b6b-3e58-49a9-b45c-30baf901f7ef",
   "metadata": {},
   "source": [
    "### 전체 조회\n",
    "- keys() > key 조회\n",
    "- values() > value 조회\n",
    "- items() > 다 조회"
   ]
  },
  {
   "cell_type": "code",
   "execution_count": 16,
   "id": "42d3958b-be0d-4555-859e-178fb16acb15",
   "metadata": {
    "tags": []
   },
   "outputs": [
    {
     "data": {
      "text/plain": [
       "['chapman', 'clese', 'idle', 'jones', 'palin', 'hwa']"
      ]
     },
     "execution_count": 16,
     "metadata": {},
     "output_type": "execute_result"
    }
   ],
   "source": [
    "list(pythons.keys())"
   ]
  },
  {
   "cell_type": "code",
   "execution_count": 17,
   "id": "1494519a-f201-4985-a501-488518bd70c4",
   "metadata": {},
   "outputs": [
    {
     "data": {
      "text/plain": [
       "['graham', 'john', 'james', 'terry', 'michael', 'chloe']"
      ]
     },
     "execution_count": 17,
     "metadata": {},
     "output_type": "execute_result"
    }
   ],
   "source": [
    "list(pythons.values())"
   ]
  },
  {
   "cell_type": "code",
   "execution_count": 18,
   "id": "b47b5b22-79ce-441f-9352-c15e37911367",
   "metadata": {},
   "outputs": [
    {
     "data": {
      "text/plain": [
       "[('chapman', 'graham'),\n",
       " ('clese', 'john'),\n",
       " ('idle', 'james'),\n",
       " ('jones', 'terry'),\n",
       " ('palin', 'michael'),\n",
       " ('hwa', 'chloe')]"
      ]
     },
     "execution_count": 18,
     "metadata": {},
     "output_type": "execute_result"
    }
   ],
   "source": [
    "list(pythons.items()) # (키, 값) 튜플 형태로 > 순회에 이용"
   ]
  },
  {
   "cell_type": "code",
   "execution_count": 20,
   "id": "49269bd9-4ce8-4f15-8f51-0f532cf14b29",
   "metadata": {},
   "outputs": [
    {
     "name": "stdout",
     "output_type": "stream",
     "text": [
      "chapman = graham\n",
      "clese = john\n",
      "idle = james\n",
      "jones = terry\n",
      "palin = michael\n",
      "hwa = chloe\n"
     ]
    }
   ],
   "source": [
    "for k, v in pythons.items():\n",
    "    print(f'{k} = {v}')"
   ]
  },
  {
   "cell_type": "code",
   "execution_count": 21,
   "id": "a00f345e-f84e-4d4d-b459-63d01886ccb8",
   "metadata": {},
   "outputs": [
    {
     "data": {
      "text/plain": [
       "[('chapman', 'graham'),\n",
       " ('clese', 'john'),\n",
       " ('idle', 'james'),\n",
       " ('jones', 'terry'),\n",
       " ('palin', 'michael'),\n",
       " ('hwa', 'chloe')]"
      ]
     },
     "execution_count": 21,
     "metadata": {},
     "output_type": "execute_result"
    }
   ],
   "source": [
    "[(k, v) for k, v in pythons.items()]"
   ]
  },
  {
   "cell_type": "code",
   "execution_count": 31,
   "id": "36563635-ebc8-439e-b106-b71a6c1c0296",
   "metadata": {},
   "outputs": [
    {
     "data": {
      "text/plain": [
       "['graham', 'john', 'james', 'terry', 'michael', 'chloe']"
      ]
     },
     "execution_count": 31,
     "metadata": {},
     "output_type": "execute_result"
    }
   ],
   "source": [
    "[k[1] for k in pythons.items()] # 0 = key, 1 = values"
   ]
  },
  {
   "cell_type": "code",
   "execution_count": 28,
   "id": "92f6847f-9b87-4ed4-af48-12eafdf41671",
   "metadata": {},
   "outputs": [
    {
     "data": {
      "text/plain": [
       "['chapman', 'clese', 'idle', 'jones', 'palin', 'hwa']"
      ]
     },
     "execution_count": 28,
     "metadata": {},
     "output_type": "execute_result"
    }
   ],
   "source": [
    "[k for k in pythons] # key 값만 반환"
   ]
  },
  {
   "cell_type": "code",
   "execution_count": 33,
   "id": "42d2bdc5-fe9a-48fa-a8c2-93d2a2af960d",
   "metadata": {},
   "outputs": [],
   "source": [
    "animal = 'cat snake monkey ant spider'.split()\n",
    "legs = 4, 0, 2, 4, 8"
   ]
  },
  {
   "cell_type": "code",
   "execution_count": 38,
   "id": "780f00aa-1570-4d27-9033-cfc65b9a388a",
   "metadata": {},
   "outputs": [
    {
     "data": {
      "text/plain": [
       "{'cat': 4, 'snake': 0, 'monkey': 2, 'ant': 4, 'spider': 8}"
      ]
     },
     "execution_count": 38,
     "metadata": {},
     "output_type": "execute_result"
    }
   ],
   "source": [
    "animal_legs = {}\n",
    "# 1.\n",
    "for i in range(len(animal)): # or enumerate(animal)\n",
    "    animal_legs[animal[i]] = legs[i]\n",
    "\n",
    "# 2.\n",
    "for x, y in zip(animal, legs):\n",
    "    animal_legs[x] = legs[y]\n",
    "animal_legs"
   ]
  },
  {
   "cell_type": "markdown",
   "id": "01854bd1-950b-4014-acec-7596dfcd65f3",
   "metadata": {},
   "source": [
    "Q. pythons 에서 성: 이름, 성 첫 글자만, 이름은 글자 개수 로 이루어진 튜플 (성, 이름) 리스트로 반환하기\n",
    "\n",
    "    - dict comprehesion 쓰기말기"
   ]
  },
  {
   "cell_type": "code",
   "execution_count": 48,
   "id": "85069309-1e39-41e5-b8ea-8350d5c6e93c",
   "metadata": {},
   "outputs": [
    {
     "name": "stdout",
     "output_type": "stream",
     "text": [
      "[('c', 6), ('c', 4), ('i', 5), ('j', 5), ('p', 7), ('h', 5)]\n"
     ]
    },
    {
     "data": {
      "text/plain": [
       "[('c', 6), ('c', 4), ('i', 5), ('j', 5), ('p', 7), ('h', 5)]"
      ]
     },
     "execution_count": 48,
     "metadata": {},
     "output_type": "execute_result"
    }
   ],
   "source": [
    "#1. \n",
    "name_tuple = []\n",
    "for k, v in pythons.items():\n",
    "    name_tuple.append((k[0], len(v))) \n",
    "print(name_tuple)\n",
    "\n",
    "#2. \n",
    "[(k[0], len(v)) for k, v in pythons.items()]"
   ]
  },
  {
   "cell_type": "markdown",
   "id": "aa22e6fb-2dbd-4b15-b267-5f487a3dd8ce",
   "metadata": {},
   "source": [
    "### 값 수정, 삭제, 복제, 비교"
   ]
  },
  {
   "cell_type": "code",
   "execution_count": 52,
   "id": "37905dce-29b3-4985-9cc8-ac0ae938f7d5",
   "metadata": {},
   "outputs": [],
   "source": [
    "others = {\n",
    "    'marx': 'groucho',\n",
    "    'howard': 'moe'\n",
    "}"
   ]
  },
  {
   "cell_type": "code",
   "execution_count": 55,
   "id": "fa4118ab-afa8-4bdc-9143-d8e0e7bd9439",
   "metadata": {},
   "outputs": [
    {
     "data": {
      "text/plain": [
       "{'chapman': 'graham',\n",
       " 'clese': 'john',\n",
       " 'idle': 'james',\n",
       " 'jones': 'terry',\n",
       " 'palin': 'michael',\n",
       " 'hwa': 'chloe',\n",
       " 'rarx': 'groucho',\n",
       " 'howard': 'moe',\n",
       " 'marx': 'groucho'}"
      ]
     },
     "execution_count": 55,
     "metadata": {},
     "output_type": "execute_result"
    }
   ],
   "source": [
    "pythons.update(others) # 추가, 있는 key는 마지막 기준 update\n",
    "pythons"
   ]
  },
  {
   "cell_type": "code",
   "execution_count": 56,
   "id": "15a72c24-dbd3-4180-b307-fb96c373f1ad",
   "metadata": {},
   "outputs": [
    {
     "data": {
      "text/plain": [
       "{'marx': 'groucho',\n",
       " 'howard': 'moe',\n",
       " 'chapman': 'graham',\n",
       " 'clese': 'john',\n",
       " 'idle': 'james',\n",
       " 'jones': 'terry',\n",
       " 'palin': 'michael',\n",
       " 'hwa': 'chloe',\n",
       " 'rarx': 'groucho'}"
      ]
     },
     "execution_count": 56,
     "metadata": {},
     "output_type": "execute_result"
    }
   ],
   "source": [
    "# py3 추가 기능\n",
    "{**others, **pythons}"
   ]
  },
  {
   "cell_type": "code",
   "execution_count": 59,
   "id": "419ff0f7-11d3-4368-b9f0-f3f5fbc2e644",
   "metadata": {},
   "outputs": [
    {
     "data": {
      "text/plain": [
       "{'chapman': 'graham',\n",
       " 'clese': 'john',\n",
       " 'idle': 'james',\n",
       " 'jones': 'terry',\n",
       " 'palin': 'michael',\n",
       " 'rarx': 'groucho',\n",
       " 'howard': 'moe',\n",
       " 'marx': 'groucho'}"
      ]
     },
     "execution_count": 59,
     "metadata": {},
     "output_type": "execute_result"
    }
   ],
   "source": [
    "# 삭제\n",
    "del pythons['hwa']\n",
    "pythons"
   ]
  },
  {
   "cell_type": "code",
   "execution_count": 67,
   "id": "36e1c1f8-b2e8-44e6-912b-deb0273341e0",
   "metadata": {},
   "outputs": [
    {
     "ename": "KeyError",
     "evalue": "'lee'",
     "output_type": "error",
     "traceback": [
      "\u001b[1;31m---------------------------------------------------------------------------\u001b[0m",
      "\u001b[1;31mKeyError\u001b[0m                                  Traceback (most recent call last)",
      "\u001b[1;32mC:\\Users\\Public\\Documents\\ESTsoft\\CreatorTemp/ipykernel_1336/1777067132.py\u001b[0m in \u001b[0;36m<module>\u001b[1;34m\u001b[0m\n\u001b[1;32m----> 1\u001b[1;33m \u001b[0mpythons\u001b[0m\u001b[1;33m.\u001b[0m\u001b[0mpop\u001b[0m\u001b[1;33m(\u001b[0m\u001b[1;34m'lee'\u001b[0m\u001b[1;33m)\u001b[0m \u001b[1;31m# 없는 값 오류\u001b[0m\u001b[1;33m\u001b[0m\u001b[1;33m\u001b[0m\u001b[0m\n\u001b[0m",
      "\u001b[1;31mKeyError\u001b[0m: 'lee'"
     ]
    }
   ],
   "source": [
    "pythons.pop('lee') # 없는 값 오류"
   ]
  },
  {
   "cell_type": "code",
   "execution_count": 66,
   "id": "376d663f-15a2-41e0-bd50-f7f738038aed",
   "metadata": {},
   "outputs": [
    {
     "data": {
      "text/plain": [
       "0"
      ]
     },
     "execution_count": 66,
     "metadata": {},
     "output_type": "execute_result"
    }
   ],
   "source": [
    "# 오류 방지\n",
    "pythons.pop('lee', 0)"
   ]
  },
  {
   "cell_type": "code",
   "execution_count": 68,
   "id": "53492e79-4a20-4335-b6ca-5b608216f4f9",
   "metadata": {},
   "outputs": [],
   "source": [
    "# 전체 삭제\n",
    "pythons.clear()\n",
    "pythons = {}"
   ]
  },
  {
   "cell_type": "markdown",
   "id": "232a83d7-a88f-459f-adf3-eef2dd40e983",
   "metadata": {},
   "source": [
    "### 복제\n",
    "- 할당\n",
    "- 얕은 복사\n",
    "- 깊은 복사"
   ]
  },
  {
   "cell_type": "code",
   "execution_count": 1,
   "id": "b67ad02c-b00a-4def-a014-a89399282fc5",
   "metadata": {},
   "outputs": [
    {
     "data": {
      "text/plain": [
       "({1: 'z', 3: 5, 7: 8, 2: [1, 2, 3]}, {1: 'z', 3: 5, 7: 8, 2: [1, 2, 3]})"
      ]
     },
     "execution_count": 1,
     "metadata": {},
     "output_type": "execute_result"
    }
   ],
   "source": [
    "ex1 = {1: [1, 2, 3], 3: 5, 7: 8, 2: [1, 2, 3]}\n",
    "copy_ex1 = ex1\n",
    "ex1[1] = 'z'\n",
    "ex1, copy_ex1"
   ]
  },
  {
   "cell_type": "code",
   "execution_count": 2,
   "id": "28e4f677-763e-49ea-a79c-dc626c8e0ade",
   "metadata": {},
   "outputs": [
    {
     "data": {
      "text/plain": [
       "({1: 'z', 3: 5, 7: 8, 2: 2}, {1: 'z', 3: 5, 7: 8, 2: [1, 2, 3]})"
      ]
     },
     "execution_count": 2,
     "metadata": {},
     "output_type": "execute_result"
    }
   ],
   "source": [
    "copy2 = ex1.copy()\n",
    "ex1[2] = 2\n",
    "ex1, copy2"
   ]
  },
  {
   "cell_type": "code",
   "execution_count": null,
   "id": "34a4b6d3-8574-43c0-8c7c-b16a17dc3915",
   "metadata": {},
   "outputs": [],
   "source": [
    "ex1[1][0] = '4' \n",
    "ex1, copy2 # 얕은 복사 문제점"
   ]
  },
  {
   "cell_type": "code",
   "execution_count": null,
   "id": "0e7e0785-e199-4d44-84bf-679dac1c59ee",
   "metadata": {},
   "outputs": [],
   "source": [
    "# 깊은 복사\n",
    "import copy\n",
    "\n",
    "copy3 = copy.deepcopy(ex1)\n",
    "ex1[3][0] = 1\n",
    "ex1, copy3"
   ]
  },
  {
   "cell_type": "markdown",
   "id": "1649fabe-fb7d-4c3c-8d14-96278cf0b727",
   "metadata": {
    "tags": []
   },
   "source": [
    "### 비교\n",
    "- 같고 다르고의 개념 (크다, 작다 > x)"
   ]
  },
  {
   "cell_type": "code",
   "execution_count": 5,
   "id": "2780bd3f-e874-4fe4-986e-43be88cdcc21",
   "metadata": {},
   "outputs": [
    {
     "data": {
      "text/plain": [
       "True"
      ]
     },
     "execution_count": 5,
     "metadata": {},
     "output_type": "execute_result"
    }
   ],
   "source": [
    "ex1 != copy2"
   ]
  },
  {
   "cell_type": "markdown",
   "id": "885e9008-ab7b-4bd3-952c-6310e9d09274",
   "metadata": {},
   "source": [
    "### Dictionary EX\n",
    "1. 두 리스트로 하나의 딕셔너리 생성\n",
    "2. 명왕성=pluto 추가하기\n",
    "3. '성'으로 끝나지 않는 키 삭제하기 \n",
    "4. sorted이용해서 값 정렬하기 i) key, ii) value"
   ]
  },
  {
   "cell_type": "code",
   "execution_count": 9,
   "id": "83edd963-db5c-4586-9455-f03581de1265",
   "metadata": {},
   "outputs": [],
   "source": [
    "solar_kor = '태양 수성 금성 지구 화성 목성 토성 천왕성 해왕성'.split()\n",
    "solar_eng = 'sun mercury venus earth marts jupiter saturn neptune'.split()"
   ]
  },
  {
   "cell_type": "code",
   "execution_count": 10,
   "id": "7526ddc4-6e20-429a-8589-b594fbca62d8",
   "metadata": {},
   "outputs": [
    {
     "name": "stdout",
     "output_type": "stream",
     "text": [
      "{'태양': 'sun', '수성': 'mercury', '금성': 'venus', '지구': 'earth', '화성': 'marts', '목성': 'jupiter', '토성': 'saturn', '천왕성': 'neptune', '명왕성': 'pluto'}\n"
     ]
    }
   ],
   "source": [
    "solar_dict = {}\n",
    "for k, e in zip(solar_kor, solar_eng):\n",
    "    solar_dict[k] =  e\n",
    "\n",
    "\n",
    "solar_dict['명왕성'] = 'pluto'\n",
    "print(solar_dict)"
   ]
  },
  {
   "cell_type": "code",
   "execution_count": 15,
   "id": "c3d8c4ca-86ae-49a3-b3df-8cbe9f89dfe5",
   "metadata": {},
   "outputs": [],
   "source": [
    "solar_dict = dict([[k, v] for k, v in zip(solar_kor, solar_eng) if not k.endswith('성')])"
   ]
  },
  {
   "cell_type": "code",
   "execution_count": 16,
   "id": "484bf8ce-3b05-4f0d-ba62-f3c5d889ac65",
   "metadata": {},
   "outputs": [
    {
     "data": {
      "text/plain": [
       "{'태양': 'sun', '지구': 'earth'}"
      ]
     },
     "execution_count": 16,
     "metadata": {},
     "output_type": "execute_result"
    }
   ],
   "source": [
    "solar_dict"
   ]
  },
  {
   "cell_type": "markdown",
   "id": "8bb900c2-9b55-4222-91f6-e5e1b762554a",
   "metadata": {
    "tags": []
   },
   "source": [
    "### 컴프리핸션"
   ]
  },
  {
   "cell_type": "code",
   "execution_count": 17,
   "id": "a1843341-e03c-4848-b524-04edd28f984b",
   "metadata": {},
   "outputs": [
    {
     "data": {
      "text/plain": [
       "{'l': 2, 'i': 1, 'y': 1}"
      ]
     },
     "execution_count": 17,
     "metadata": {},
     "output_type": "execute_result"
    }
   ],
   "source": [
    "letter = 'lily'\n",
    "# i: 1, l: 2 ...\n",
    "{ch: letter.count(ch) for ch in letter}"
   ]
  },
  {
   "cell_type": "code",
   "execution_count": 19,
   "id": "9fe11989-d356-4d23-997c-79e2a1e7fa39",
   "metadata": {},
   "outputs": [],
   "source": [
    "vowels = 'aeiou'\n",
    "word = 'onomatopoeia'\n",
    "\n",
    "# word 순회\n",
    "# vowels 순회"
   ]
  },
  {
   "cell_type": "code",
   "execution_count": 20,
   "id": "3936011e-9b2c-4122-b5a1-36aaa55fe52a",
   "metadata": {},
   "outputs": [
    {
     "data": {
      "text/plain": [
       "{'a': 2, 'e': 1, 'i': 1, 'o': 4}"
      ]
     },
     "execution_count": 20,
     "metadata": {},
     "output_type": "execute_result"
    }
   ],
   "source": [
    "{v: word.count(v) for v in vowels if v in word}"
   ]
  },
  {
   "cell_type": "code",
   "execution_count": 21,
   "id": "8c4fe9b4-104c-4d10-92d4-0fe4899166cf",
   "metadata": {},
   "outputs": [
    {
     "data": {
      "text/plain": [
       "{'a': 2, 'e': 1, 'o': 4, 'i': 1}"
      ]
     },
     "execution_count": 21,
     "metadata": {},
     "output_type": "execute_result"
    }
   ],
   "source": [
    "{w: word.count(w) for w in set(word) if w in vowels}"
   ]
  },
  {
   "cell_type": "markdown",
   "id": "54201a5e-93b5-4bd4-9594-f1a99b7fe16e",
   "metadata": {
    "tags": []
   },
   "source": [
    "### setting"
   ]
  },
  {
   "cell_type": "code",
   "execution_count": 24,
   "id": "2e102228-13ac-4de4-b312-1e5659f94a00",
   "metadata": {},
   "outputs": [
    {
     "data": {
      "text/plain": [
       "['금성', '목성', '수성', '지구', '천왕성', '태양', '토성', '해왕성', '화성']"
      ]
     },
     "execution_count": 24,
     "metadata": {},
     "output_type": "execute_result"
    }
   ],
   "source": [
    "sorted(solar_dict) # key만 나열"
   ]
  },
  {
   "cell_type": "code",
   "execution_count": 26,
   "id": "2a9d9483-e3ac-4534-87e6-0776ee6abf8b",
   "metadata": {},
   "outputs": [],
   "source": [
    "def fx(x):\n",
    "    return x[1] # 1=value"
   ]
  },
  {
   "cell_type": "code",
   "execution_count": 29,
   "id": "ed3bf02f-bac0-461b-9c05-baeecd0437cd",
   "metadata": {},
   "outputs": [
    {
     "data": {
      "text/plain": [
       "[('지구', 'earth'), ('태양', 'sun')]"
      ]
     },
     "execution_count": 29,
     "metadata": {},
     "output_type": "execute_result"
    }
   ],
   "source": [
    "sorted(solar_dict.items(), key=fx)"
   ]
  },
  {
   "cell_type": "code",
   "execution_count": 31,
   "id": "103efe72-fda7-4d83-8d70-132c684cdf4f",
   "metadata": {},
   "outputs": [
    {
     "data": {
      "text/plain": [
       "[('지구', 'earth'), ('태양', 'sun')]"
      ]
     },
     "execution_count": 31,
     "metadata": {},
     "output_type": "execute_result"
    }
   ],
   "source": [
    "sorted(solar_dict.items(), key=lambda x:x[0]) # lamda=익명함수: 익명으로 함수 구연"
   ]
  },
  {
   "cell_type": "markdown",
   "id": "a5b0b857-a824-49da-8f0b-c992623c4f31",
   "metadata": {},
   "source": [
    "### set\n",
    "- \"중복이 없다\"\n",
    "- 집합 => 교집합, 합집합, 차집합, ...\n",
    "- bag, 인덱싱도 없다."
   ]
  },
  {
   "cell_type": "code",
   "execution_count": null,
   "id": "80ea9262-b6de-4373-b748-7241656c04d8",
   "metadata": {},
   "outputs": [],
   "source": [
    "- 교집합 | intersection\n",
    "        a.intersection(b)\n",
    "        a & b\n",
    "    - 합집합 | union\n",
    "        a.union(b)\n",
    "        a | b\n",
    "    - 차집합 | difference\n",
    "        a.difference(b)\n",
    "        a - b\n",
    "        b.difference(a)\n",
    "        b - a"
   ]
  },
  {
   "cell_type": "code",
   "execution_count": 32,
   "id": "6c539ce9-7810-4d79-abc9-289e792dfa73",
   "metadata": {},
   "outputs": [
    {
     "data": {
      "text/plain": [
       "set()"
      ]
     },
     "execution_count": 32,
     "metadata": {},
     "output_type": "execute_result"
    }
   ],
   "source": [
    "set1 = set()\n",
    "set1"
   ]
  },
  {
   "cell_type": "code",
   "execution_count": 33,
   "id": "e3c98969-4198-4697-9dd3-230a297dfacc",
   "metadata": {},
   "outputs": [
    {
     "data": {
      "text/plain": [
       "({'a', 'b', 'c'}, {'a', 'b', 'c'})"
      ]
     },
     "execution_count": 33,
     "metadata": {},
     "output_type": "execute_result"
    }
   ],
   "source": [
    "a = {'a', 'b', 'c'}\n",
    "\n",
    "b = set(('a', 'b', 'c')) # 튜플, 혹은 리스트로 묶음\n",
    "\n",
    "a, b"
   ]
  },
  {
   "cell_type": "code",
   "execution_count": 34,
   "id": "2707d20f-a422-488e-b287-0bd1a5f4966e",
   "metadata": {},
   "outputs": [],
   "source": [
    "# 추가\n",
    "a.add('f')"
   ]
  },
  {
   "cell_type": "code",
   "execution_count": 35,
   "id": "4d4363fc-1970-4c0f-8178-efd751af9c46",
   "metadata": {},
   "outputs": [],
   "source": [
    "# 삭제\n",
    "a.remove('b')"
   ]
  },
  {
   "cell_type": "code",
   "execution_count": 41,
   "id": "b0d08681-2db2-4f2a-b538-d5b4cccad5f4",
   "metadata": {},
   "outputs": [
    {
     "name": "stdout",
     "output_type": "stream",
     "text": [
      "martini\n",
      "black russian\n",
      "screwdriver\n",
      "black russian\n",
      "screwdriver\n"
     ]
    }
   ],
   "source": [
    "drinks = {\n",
    "    'martini':  {'vodka', 'vermouth'}, \n",
    "    'black russian': {'vodka', 'kahula'}, \n",
    "    'white russian': {'cream', 'kahula'}, \n",
    "    'manhattan': {'rye', 'vermouth', 'bitters'}, \n",
    "    'screwdriver': {'orange juice', 'vodka'}\n",
    "}\n",
    "for k, v in drinks.items():\n",
    "    if 'vodka' in v:\n",
    "        print(k)\n",
    "        \n",
    "for k, v in drinks.items():\n",
    "    if ('vodka' in v) and not ('cream' in v or 'vermouth' in v):\n",
    "        print(k)\n",
    "        \n",
    "        \n",
    "# 집합 활용\n",
    "for k, v in drinks.items():\n",
    "    if 'vodka' in w and not (v & {'cream', 'vermount'}):\n",
    "        print(k)"
   ]
  },
  {
   "cell_type": "code",
   "execution_count": 42,
   "id": "c86a4877-5db6-4269-bfaf-637b4f78c21e",
   "metadata": {},
   "outputs": [
    {
     "data": {
      "text/plain": [
       "frozenset({1, 2})"
      ]
     },
     "execution_count": 42,
     "metadata": {},
     "output_type": "execute_result"
    }
   ],
   "source": [
    "# frozenset\n",
    "set([1, 2])\n",
    "frozenset([1, 2])"
   ]
  },
  {
   "cell_type": "code",
   "execution_count": null,
   "id": "1e6af843-e5be-4558-99c8-6e62bbecd7ce",
   "metadata": {},
   "outputs": [],
   "source": [
    "!pip install pylint\n",
    "!pylint example.py\n",
    "\n",
    "!pip install pydocstyle\n",
    "!pydocstyle example.py"
   ]
  }
 ],
 "metadata": {
  "kernelspec": {
   "display_name": "Python 3 (ipykernel)",
   "language": "python",
   "name": "python3"
  },
  "language_info": {
   "codemirror_mode": {
    "name": "ipython",
    "version": 3
   },
   "file_extension": ".py",
   "mimetype": "text/x-python",
   "name": "python",
   "nbconvert_exporter": "python",
   "pygments_lexer": "ipython3",
   "version": "3.9.7"
  }
 },
 "nbformat": 4,
 "nbformat_minor": 5
}
